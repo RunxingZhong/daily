{
 "cells": [
  {
   "cell_type": "code",
   "execution_count": 68,
   "metadata": {},
   "outputs": [
    {
     "data": {
      "text/plain": [
       "u'/mnt/disk0/home/zhongrunxing/jupyter_code/automl_777/stack_master'"
      ]
     },
     "execution_count": 68,
     "metadata": {},
     "output_type": "execute_result"
    }
   ],
   "source": [
    "pwd%"
   ]
  },
  {
   "cell_type": "code",
   "execution_count": 69,
   "metadata": {},
   "outputs": [],
   "source": [
    "import numpy as np\n",
    "import pandas as pd\n",
    "import lightgbm as lgb\n",
    "import matplotlib.pyplot as plt\n",
    "import seaborn as sbs\n",
    "\n",
    "import os\n",
    "import sys\n",
    "import gc\n",
    "import datetime\n",
    "import time\n",
    "\n",
    "from sklearn.cross_validation import train_test_split\n",
    "from sklearn.preprocessing import OneHotEncoder\n",
    "from sklearn.preprocessing import LabelEncoder\n",
    "from sklearn.cross_validation import StratifiedKFold\n",
    "from sklearn.metrics import roc_auc_score\n",
    "\n",
    "from sklearn.ensemble import RandomForestClassifier\n",
    "from sklearn.ensemble import ExtraTreesClassifier\n",
    "from sklearn.linear_model import LogisticRegression\n",
    "\n",
    "\n",
    "import warnings\n",
    "warnings.filterwarnings(\"ignore\")"
   ]
  },
  {
   "cell_type": "code",
   "execution_count": 70,
   "metadata": {},
   "outputs": [],
   "source": [
    "path = '/home/zhongrunxing/data/kaggle/give_me/'"
   ]
  },
  {
   "cell_type": "code",
   "execution_count": 71,
   "metadata": {},
   "outputs": [],
   "source": [
    "col_id_label = pd.read_csv(path + 'sample_submission.csv', nrows = 0)\n",
    "col_id = col_id_label.columns[0]\n",
    "col_label = col_id_label.columns[1]"
   ]
  },
  {
   "cell_type": "code",
   "execution_count": 72,
   "metadata": {},
   "outputs": [
    {
     "name": "stdout",
     "output_type": "stream",
     "text": [
      "('train shape = ', (150000, 12))\n",
      "('test shape = ', (101503, 12))\n"
     ]
    }
   ],
   "source": [
    "# read data\n",
    "#n_rows = 10000\n",
    "n_rows = None\n",
    "train = pd.read_csv(path + 'train.csv', nrows = n_rows)\n",
    "test = pd.read_csv(path + 'test.csv', nrows = n_rows)\n",
    "print('train shape = ', train.shape)\n",
    "print('test shape = ', test.shape)"
   ]
  },
  {
   "cell_type": "code",
   "execution_count": 73,
   "metadata": {},
   "outputs": [],
   "source": [
    "# prepare data\n",
    "test_id = test[col_id]\n",
    "test.drop([col_id], axis = 1, inplace = True)\n",
    "train_label = train[col_label]\n",
    "train.drop([col_label], axis = 1, inplace = True) \n",
    "\n",
    "if col_id in train.columns:\n",
    "    train_id = train[col_id]\n",
    "    train.drop([col_id], axis = 1, inplace = True)\n",
    "if col_label in test.columns:\n",
    "    test.drop([col_label], axis = 1, inplace = True)\n",
    "\n",
    "n_train = train.shape[0]\n",
    "train_test = pd.concat([train, test], axis = 0).reset_index(drop = True)\n",
    "\n",
    "del train, test"
   ]
  },
  {
   "cell_type": "code",
   "execution_count": 74,
   "metadata": {},
   "outputs": [],
   "source": [
    "col_cat = [col for col in train_test.columns if train_test.dtypes[col] == 'object' and col != col_label]\n",
    "for col in col_cat:\n",
    "    le = LabelEncoder()\n",
    "    train_test[col] = le.fit_transform(train_test[col])"
   ]
  },
  {
   "cell_type": "code",
   "execution_count": 75,
   "metadata": {},
   "outputs": [],
   "source": [
    "train_fea = train_test[:n_train].reset_index(drop = True)\n",
    "test_fea = train_test[n_train:].reset_index(drop = True)\n",
    "del train_test"
   ]
  },
  {
   "cell_type": "code",
   "execution_count": 9,
   "metadata": {},
   "outputs": [],
   "source": [
    "if not os.path.exists(path + '/meta/'):\n",
    "    os.mkdir(path + '/meta/')\n",
    "if not os.path.exists(path + '/meta/_id_label/'):\n",
    "    os.mkdir(path + '/meta/_id_label/')\n",
    "test_id.to_csv(path + '/meta/_id_label/test_id.csv', index = False, header = col_id)\n",
    "train_label.to_csv(path + '/meta/_id_label/train_label.csv', index = False, header = col_label)"
   ]
  },
  {
   "cell_type": "code",
   "execution_count": null,
   "metadata": {},
   "outputs": [],
   "source": []
  },
  {
   "cell_type": "markdown",
   "metadata": {},
   "source": [
    "# params list"
   ]
  },
  {
   "cell_type": "code",
   "execution_count": 10,
   "metadata": {},
   "outputs": [],
   "source": [
    "params_list_lgb = []\n",
    "np.random.seed(777)\n",
    "for i in range(5):\n",
    "    params = {\n",
    "            'learning_rate': np.random.choice([0.001, 0.005, 0.01, 0.05, 0.1, 0.2]),\n",
    "            'num_leaves': np.random.choice([20, 31, 63, 100, 127, 200, 255, 300, 511]),\n",
    "    #         'min_data': np.random.choice([300, 400, 450, 500, 550, 650]),\n",
    "    #         'max_bin': np.random.choice([3, 5, 10, 12, 18, 20, 22]),\n",
    "    #         'min_data_in_leaf':\n",
    "            'max_depth': np.random.choice([5, 6, 7, 8, 9]),     \n",
    "            'max_bin': np.random.choice([63, 127, 255, 511]),\n",
    "\n",
    "            'bagging_freq': np.random.choice([3,5,7]),\n",
    "            'bagging_fraction': np.random.choice([0.6, 0.7, 0.8, 0.9]),\n",
    "            'feature_fraction': np.random.choice([0.6, 0.7, 0.8, 0.9]),\n",
    "    #         'lambda_l1':\n",
    "    #         'lambda_l2':\n",
    "\n",
    "            'seed': i,\n",
    "            'task':'train', \n",
    "            'boosting_type' : 'gbdt',\n",
    "            'objective': 'binary', \n",
    "            'metric': 'auc',\n",
    "            'num_threads': 31\n",
    "    }\n",
    "    params_list_lgb.append(params)"
   ]
  },
  {
   "cell_type": "code",
   "execution_count": 11,
   "metadata": {},
   "outputs": [],
   "source": [
    "params_list_rf = []\n",
    "np.random.seed(777)\n",
    "for i in range(5):\n",
    "    params = {\n",
    "        'max_depth': np.random.choice([5, 6, 7, 8, 9, 10]),     \n",
    "        'n_estimators': np.random.choice([500, 600, 700, 800, 900, 1000]),     \n",
    "        'min_samples_leaf': np.random.choice([5, 10, 20, 30]),\n",
    "        #'min_samples_split': np.random.choice([10, 20, 30, 40, 50, 100]), \n",
    "        #\"max_leaf_nodes\": np.random.choice([10,20,30,40,50]),\n",
    "        #\"min_weight_fraction_leaf\": np.random.choice([0,0.01,0.05,0,1,0.2,0.3]),\n",
    "        'criterion': np.random.choice(['gini','entropy']),\n",
    "        'bootstrap': np.random.choice(['False','True']),\n",
    "        'random_state': i,\n",
    "        'n_jobs': 31,\n",
    "    }\n",
    "\n",
    "    params_list_rf.append(params)"
   ]
  },
  {
   "cell_type": "code",
   "execution_count": 12,
   "metadata": {},
   "outputs": [],
   "source": [
    "params_list_erf = []\n",
    "np.random.seed(777)\n",
    "for i in range(5):\n",
    "    params = {\n",
    "        'max_depth': np.random.choice([5, 6, 7, 8, 9, 10, 15, 20, 30]),     \n",
    "        'n_estimators': np.random.choice([500, 600, 700, 800, 900, 1000]),     \n",
    "        'min_samples_leaf': np.random.choice([5, 10, 20, 30]),\n",
    "        'criterion': np.random.choice(['gini','entropy']),\n",
    "        'bootstrap': np.random.choice(['False','True']),\n",
    "        'random_state': i,\n",
    "        'n_jobs': 31,\n",
    "    }\n",
    "\n",
    "    params_list_erf.append(params)"
   ]
  },
  {
   "cell_type": "code",
   "execution_count": 13,
   "metadata": {},
   "outputs": [],
   "source": [
    "params_list_lr = []\n",
    "np.random.seed(777)\n",
    "for i in range(5):\n",
    "    params = {\n",
    "        'penalty': np.random.choice(['l1', 'l2']),\n",
    "        'C': np.random.choice([0, 0.25, 0.5, 1, 2, 3, 4, 5]),\n",
    "        'n_jobs':31\n",
    "    }\n",
    "\n",
    "    params_list_lr.append(params)"
   ]
  },
  {
   "cell_type": "markdown",
   "metadata": {},
   "source": [
    "# generate meta feature"
   ]
  },
  {
   "cell_type": "code",
   "execution_count": 67,
   "metadata": {},
   "outputs": [],
   "source": [
    "############################## lgb ##############################\n",
    "def train_lgb(X_train, y_train, X_valid, y_valid, params):\n",
    "    dtrain = lgb.Dataset(X_train, y_train) \n",
    "    dvalid = lgb.Dataset(X_valid, y_valid, reference = dtrain)   \n",
    "    model = lgb.train(params, \n",
    "                      dtrain, \n",
    "                      num_boost_round=3000,\n",
    "                      valid_sets = [dtrain, dvalid],\n",
    "                      verbose_eval = 0, \n",
    "                      early_stopping_rounds = 100)  \n",
    "    return model\n",
    "\n",
    "def predict_lgb(model, X):\n",
    "    return model.predict(X, model.best_iteration)\n",
    "\n",
    "\n",
    "############################## rf ##############################\n",
    "def train_rf(X_train, y_train, X_valid, y_valid, params):\n",
    "    X_train = X_train.fillna(X_train.mean())\n",
    "    X_valid = X_valid.fillna(X_valid.mean())\n",
    "    \n",
    "    model = RandomForestClassifier()\n",
    "    model.set_params(**params)\n",
    "    model.fit(X_train, y_train)\n",
    "    return model\n",
    "\n",
    "def predict_rf(model, X):\n",
    "    X = X.fillna(X.mean())\n",
    "    return model.predict_proba(X)[:,1] \n",
    "\n",
    "\n",
    "############################## erf ##############################\n",
    "def train_erf(X_train, y_train, X_valid, y_valid, params):\n",
    "    X_train = X_train.fillna(X_train.mean())\n",
    "    X_valid = X_valid.fillna(X_valid.mean())\n",
    "    model = ExtraTreesClassifier()    \n",
    "    model.set_params(**params)\n",
    "    model.fit(X_train, y_train)\n",
    "    return model\n",
    "\n",
    "def predict_erf(model, X):\n",
    "    X = X.fillna(X.mean())\n",
    "    return model.predict_proba(X)[:,1]\n",
    "\n",
    "############################## lr ##############################\n",
    "def train_lr(X_train, y_train, X_valid, y_valid, params):\n",
    "    X_train = X_train.fillna(X_train.mean())\n",
    "    X_valid = X_valid.fillna(X_valid.mean())\n",
    "    \n",
    "    model = LogisticRegression()    \n",
    "    model.set_params(**params)\n",
    "    model.fit(X_train, y_train)\n",
    "    return model\n",
    "\n",
    "def predict_lr(model, X):\n",
    "    X = X.fillna(X.mean())\n",
    "    return model.predict_proba(X)[:,1]\n",
    "\n",
    "\n",
    "############################## generate_meta ##############################\n",
    "def get_score(y_real, y_pred):\n",
    "    return roc_auc_score(y_real, y_pred)\n",
    "\n",
    "def generate_meta(train_fea, test_fea, train_label, model_name, params): \n",
    "    n_kfold = 5\n",
    "    seed_kfold = 777\n",
    "    \n",
    "    best_it = []\n",
    "    score_train_list = []\n",
    "    score_valid_list = []\n",
    "    meta_train = np.zeros(len(train_fea))\n",
    "    meta_test = np.zeros(len(test_fea))\n",
    "\n",
    "    print('cur time = ' + str(datetime.datetime.now().strftime(\"%Y/%m/%d %H:%M:%S\")))\n",
    "    skf = StratifiedKFold(train_label, n_folds=n_kfold, shuffle = True, random_state = seed_kfold)\n",
    "    for i,(train_idx,valid_idx) in enumerate(skf):\n",
    "        X_train, y_train = train_fea.iloc[train_idx], train_label.iloc[train_idx]\n",
    "        X_valid, y_valid = train_fea.iloc[valid_idx], train_label.iloc[valid_idx]\n",
    "        X_test = test_fea.copy()\n",
    "\n",
    "        if model_name == 'rf':\n",
    "            model = train_rf(X_train, y_train, X_valid, y_valid, params)\n",
    "            y_train_pred = predict_rf(model, X_train)\n",
    "            y_valid_pred = predict_rf(model, X_valid)\n",
    "            y_test_pred = predict_rf(model, X_test)\n",
    "        elif model_name == 'erf':\n",
    "            model = train_erf(X_train, y_train, X_valid, y_valid, params)\n",
    "            y_train_pred = predict_erf(model, X_train)\n",
    "            y_valid_pred = predict_erf(model, X_valid)\n",
    "            y_test_pred = predict_erf(model, X_test)\n",
    "        elif model_name == 'lr':\n",
    "            for col in X_train.columns:\n",
    "                X_mean = X_train[col].mean()\n",
    "                X_std = X_train[col].std()\n",
    "#                 X_mean = 0\n",
    "#                 X_std = 1\n",
    "#                 print('col = ', col, 'min = ', X_min, 'max = ', X_max)\n",
    "                X_train[col] = X_train[col].apply(lambda x: (x - X_mean) / (X_std))\n",
    "                X_valid[col] = X_valid[col].apply(lambda x: (x - X_mean) / (X_std))\n",
    "                X_test[col] = X_test[col].apply(lambda x: (x - X_mean) / (X_std))\n",
    "            \n",
    "            model = train_lr(X_train, y_train, X_valid, y_valid, params)\n",
    "            y_train_pred = predict_lr(model, X_train)\n",
    "            y_valid_pred = predict_lr(model, X_valid)\n",
    "            y_test_pred = predict_lr(model, X_test)\n",
    "        elif model_name == 'lgb':\n",
    "            model = train_lgb(X_train, y_train, X_valid, y_valid, params)\n",
    "            y_train_pred = predict_lgb(model, X_train)\n",
    "            y_valid_pred = predict_lgb(model, X_valid)\n",
    "            y_test_pred = predict_lgb(model, X_test)\n",
    "        else:\n",
    "            model = train_lgb(X_train, y_train, X_valid, y_valid, params)\n",
    "            y_train_pred = predict_lgb(model, X_train)\n",
    "            y_valid_pred = predict_lgb(model, X_valid)\n",
    "            y_test_pred = predict_lgb(model, X_test)\n",
    "    \n",
    "        #best_it.append(model.best_iteration)\n",
    "        score_train_list.append(get_score(y_train, y_train_pred))\n",
    "        score_valid_list.append(get_score(y_valid, y_valid_pred))\n",
    "\n",
    "        meta_train[valid_idx] += y_valid_pred\n",
    "        meta_test += y_test_pred\n",
    "        gc.collect()\n",
    "        \n",
    "    print('cur time = ' + str(datetime.datetime.now().strftime(\"%Y/%m/%d %H:%M:%S\")))\n",
    "    print(\"whole valid auc = \" + str(roc_auc_score(train_label, meta_train)))\n",
    "    #print('best_iteration', best_it, np.mean(best_it))\n",
    "    print('train', np.array(score_train_list), 'mean = ', np.mean(score_train_list))\n",
    "    print('valid', np.array(score_valid_list), 'mean = ', np.mean(score_valid_list))\n",
    "    \n",
    "    \n",
    "    meta_test = meta_test / n_kfold\n",
    "    gc.collect()\n",
    "    return meta_train, meta_test, np.mean(score_train_list), np.mean(score_valid_list)"
   ]
  },
  {
   "cell_type": "code",
   "execution_count": 15,
   "metadata": {
    "scrolled": false
   },
   "outputs": [],
   "source": [
    "def model_X_go(train_fea, test_fea, train_label, model_name, params_list):\n",
    "    print('######  {}  ######'.format(model_name))\n",
    "    print(train_fea.shape, test_fea.shape)\n",
    "    score_train_list = []\n",
    "    score_valid_list = []\n",
    "    meta_test_list = []\n",
    "    for i, params in enumerate(params_list):\n",
    "        print('\\n################################################## seed = ' + str(i)) \n",
    "        meta_train, meta_test, score_train, score_valid = \\\n",
    "            generate_meta(train_fea, test_fea, train_label, model_name, params)\n",
    "            \n",
    "        score_train_list.append(score_train)\n",
    "        score_valid_list.append(score_valid)\n",
    "        meta_test_list.append(meta_test)\n",
    "\n",
    "        meta_train = pd.DataFrame(meta_train)\n",
    "        meta_test = pd.DataFrame(meta_test)\n",
    "        meta_train.to_csv(path + '/meta/' + model_name + '_meta_train_' + str(i)  + '.csv', index = False, header = None)\n",
    "        meta_test.to_csv(path + '/meta/' + model_name + '_meta_test_' + str(i)  + '.csv', index = False, header = None)\n",
    "        del meta_train, meta_test\n",
    "\n",
    "    print('###### result ######')\n",
    "    print('score train mean = {}'.format(np.mean(score_train_list)))\n",
    "    print('score valid mean = {}'.format(np.mean(score_valid_list)))\n",
    "    if not os.path.exists(path + '/meta/_result_raw/'):\n",
    "        os.mkdir(path + '/meta/_result_raw/')\n",
    "    result = pd.DataFrame({col_id:test_id, col_label:np.mean(meta_test_list, axis = 0)})[[col_id, col_label]]\n",
    "    result.to_csv(path + '/meta/_result_raw/baseline_{}_raw_X.csv'.format(model_name), index = False)"
   ]
  },
  {
   "cell_type": "code",
   "execution_count": 16,
   "metadata": {},
   "outputs": [
    {
     "name": "stdout",
     "output_type": "stream",
     "text": [
      "######  lgb  ######\n",
      "((150000, 10), (101503, 10))\n",
      "\n",
      "################################################## seed = 0\n",
      "cur time = 2018/12/05 15:56:02\n",
      "cur time = 2018/12/05 15:56:21\n",
      "whole valid auc = 0.8652054549579498\n",
      "('train', array([0.88450091, 0.88346788, 0.88064294, 0.89394512, 0.87861014]), 'mean = ', 0.8842334010471392)\n",
      "('valid', array([0.85924227, 0.86726341, 0.86860615, 0.86284764, 0.87090268]), 'mean = ', 0.8657724296958458)\n",
      "\n",
      "################################################## seed = 1\n",
      "cur time = 2018/12/05 15:56:22\n",
      "cur time = 2018/12/05 15:57:57\n",
      "whole valid auc = 0.8648179852334777\n",
      "('train', array([0.89084249, 0.88929739, 0.88918988, 0.89970685, 0.88502991]), 'mean = ', 0.8908133055296888)\n",
      "('valid', array([0.85804862, 0.86665957, 0.86801701, 0.86261184, 0.87099293]), 'mean = ', 0.8652659929735801)\n",
      "\n",
      "################################################## seed = 2\n",
      "cur time = 2018/12/05 15:57:57\n",
      "cur time = 2018/12/05 15:59:40\n",
      "whole valid auc = 0.8654044417858332\n",
      "('train', array([0.8961625 , 0.89010507, 0.89306161, 0.90331962, 0.89239856]), 'mean = ', 0.8950094714330621)\n",
      "('valid', array([0.85920973, 0.86710553, 0.86826066, 0.8622631 , 0.871252  ]), 'mean = ', 0.8656182041190481)\n",
      "\n",
      "################################################## seed = 3\n",
      "cur time = 2018/12/05 15:59:41\n",
      "cur time = 2018/12/05 16:00:25\n",
      "whole valid auc = 0.8651386561969898\n",
      "('train', array([0.88636035, 0.88558137, 0.88283554, 0.89026765, 0.87964476]), 'mean = ', 0.8849379349672823)\n",
      "('valid', array([0.85953241, 0.86788439, 0.86828605, 0.86325704, 0.87178111]), 'mean = ', 0.8661481991082509)\n",
      "\n",
      "################################################## seed = 4\n",
      "cur time = 2018/12/05 16:00:25\n",
      "cur time = 2018/12/05 16:01:39\n",
      "whole valid auc = 0.8658966251807199\n",
      "('train', array([0.88472783, 0.88477174, 0.88201174, 0.88490277, 0.88060824]), 'mean = ', 0.8834044652290401)\n",
      "('valid', array([0.85941231, 0.86766645, 0.86802895, 0.8626919 , 0.87216994]), 'mean = ', 0.8659939077220857)\n",
      "###### result ######\n",
      "score train mean = 0.887679715641\n",
      "score valid mean = 0.865759746724\n"
     ]
    }
   ],
   "source": [
    "model_X_go(train_fea, test_fea, train_label, 'lgb', params_list_lgb)"
   ]
  },
  {
   "cell_type": "code",
   "execution_count": 17,
   "metadata": {},
   "outputs": [
    {
     "name": "stdout",
     "output_type": "stream",
     "text": [
      "######  rf  ######\n",
      "((150000, 10), (101503, 10))\n",
      "\n",
      "################################################## seed = 0\n",
      "cur time = 2018/12/05 16:01:40\n",
      "cur time = 2018/12/05 16:02:36\n",
      "whole valid auc = 0.8631676719786133\n",
      "('train', array([0.87464307, 0.87257003, 0.87251396, 0.87382427, 0.87153397]), 'mean = ', 0.8730170613337365)\n",
      "('valid', array([0.85633854, 0.86486295, 0.86608192, 0.85967131, 0.86967792]), 'mean = ', 0.8633265256462863)\n",
      "\n",
      "################################################## seed = 1\n",
      "cur time = 2018/12/05 16:02:36\n",
      "cur time = 2018/12/05 16:03:28\n",
      "whole valid auc = 0.8637779620729256\n",
      "('train', array([0.87854601, 0.87623776, 0.87635001, 0.87756914, 0.87560448]), 'mean = ', 0.8768614800441392)\n",
      "('valid', array([0.85711396, 0.86533877, 0.86720406, 0.85990787, 0.87009356]), 'mean = ', 0.8639316412747213)\n",
      "\n",
      "################################################## seed = 2\n",
      "cur time = 2018/12/05 16:03:29\n",
      "cur time = 2018/12/05 16:04:44\n",
      "whole valid auc = 0.8616281676813419\n",
      "('train', array([0.86953536, 0.86747784, 0.86736006, 0.86870324, 0.86641723]), 'mean = ', 0.8678987467788831)\n",
      "('valid', array([0.85524485, 0.8630078 , 0.86507946, 0.85778885, 0.86805134]), 'mean = ', 0.861834459621344)\n",
      "\n",
      "################################################## seed = 3\n",
      "cur time = 2018/12/05 16:04:44\n",
      "cur time = 2018/12/05 16:05:42\n",
      "whole valid auc = 0.8607556184859397\n",
      "('train', array([0.86728035, 0.86537774, 0.86518965, 0.86641378, 0.8642178 ]), 'mean = ', 0.8656958629087781)\n",
      "('valid', array([0.85442285, 0.86241408, 0.86358797, 0.85699634, 0.86756837]), 'mean = ', 0.8609979210102525)\n",
      "\n",
      "################################################## seed = 4\n",
      "cur time = 2018/12/05 16:05:42\n",
      "cur time = 2018/12/05 16:06:40\n",
      "whole valid auc = 0.8601581353353329\n",
      "('train', array([0.86596747, 0.86402559, 0.86379781, 0.86526322, 0.86286309]), 'mean = ', 0.864383437271743)\n",
      "('valid', array([0.85374735, 0.86195161, 0.86378793, 0.85589408, 0.86678113]), 'mean = ', 0.8604324222098629)\n",
      "###### result ######\n",
      "score train mean = 0.869571317667\n",
      "score valid mean = 0.862104593952\n"
     ]
    }
   ],
   "source": [
    "model_X_go(train_fea, test_fea, train_label, 'rf', params_list_rf)"
   ]
  },
  {
   "cell_type": "code",
   "execution_count": 18,
   "metadata": {
    "scrolled": true
   },
   "outputs": [
    {
     "name": "stdout",
     "output_type": "stream",
     "text": [
      "######  erf  ######\n",
      "((150000, 10), (101503, 10))\n",
      "\n",
      "################################################## seed = 0\n",
      "cur time = 2018/12/05 16:06:41\n",
      "cur time = 2018/12/05 16:07:32\n",
      "whole valid auc = 0.8341599459106753\n",
      "('train', array([0.84106938, 0.83839266, 0.83870531, 0.83975138, 0.83764944]), 'mean = ', 0.8391136360852345)\n",
      "('valid', array([0.82285052, 0.84092955, 0.83666516, 0.83255438, 0.83800329]), 'mean = ', 0.8342005799795811)\n",
      "\n",
      "################################################## seed = 1\n",
      "cur time = 2018/12/05 16:07:33\n",
      "cur time = 2018/12/05 16:08:35\n",
      "whole valid auc = 0.8326805800225683\n",
      "('train', array([0.83831299, 0.83526144, 0.83573529, 0.83689817, 0.83493937]), 'mean = ', 0.8362294538285383)\n",
      "('valid', array([0.8214481 , 0.83952287, 0.83492334, 0.83104098, 0.83649741]), 'mean = ', 0.832686539545492)\n",
      "\n",
      "################################################## seed = 2\n",
      "cur time = 2018/12/05 16:08:35\n",
      "cur time = 2018/12/05 16:09:22\n",
      "whole valid auc = 0.8400748146550291\n",
      "('train', array([0.85688863, 0.85614644, 0.85599917, 0.85704381, 0.85434959]), 'mean = ', 0.8560855292372584)\n",
      "('valid', array([0.82954195, 0.84636304, 0.84284365, 0.83808861, 0.8437311 ]), 'mean = ', 0.8401136688692306)\n",
      "\n",
      "################################################## seed = 3\n",
      "cur time = 2018/12/05 16:09:23\n",
      "cur time = 2018/12/05 16:10:07\n",
      "whole valid auc = 0.8254111252675118\n",
      "('train', array([0.8287437 , 0.82487179, 0.82604175, 0.82618379, 0.82571702]), 'mean = ', 0.8263116097217656)\n",
      "('valid', array([0.81434268, 0.83249981, 0.82778875, 0.82237279, 0.83031176]), 'mean = ', 0.825463158505405)\n",
      "\n",
      "################################################## seed = 4\n",
      "cur time = 2018/12/05 16:10:07\n",
      "cur time = 2018/12/05 16:10:55\n",
      "whole valid auc = 0.8253287822416286\n",
      "('train', array([0.82875997, 0.82484927, 0.82570385, 0.8258284 , 0.82464423]), 'mean = ', 0.8259571440765695)\n",
      "('valid', array([0.81443369, 0.83297685, 0.82769455, 0.82234057, 0.82956121]), 'mean = ', 0.8254013749299993)\n",
      "###### result ######\n",
      "score train mean = 0.83673947459\n",
      "score valid mean = 0.831573064366\n"
     ]
    }
   ],
   "source": [
    "model_X_go(train_fea, test_fea, train_label, 'erf', params_list_erf)"
   ]
  },
  {
   "cell_type": "code",
   "execution_count": 19,
   "metadata": {},
   "outputs": [
    {
     "name": "stdout",
     "output_type": "stream",
     "text": [
      "######  lr  ######\n",
      "((150000, 10), (101503, 10))\n",
      "\n",
      "################################################## seed = 0\n",
      "cur time = 2018/12/05 16:10:56\n",
      "cur time = 2018/12/05 16:11:09\n",
      "whole valid auc = 0.6953592797837173\n",
      "('train', array([0.696176  , 0.69594442, 0.69579739, 0.69975614, 0.69088308]), 'mean = ', 0.6957114048040165)\n",
      "('valid', array([0.69256433, 0.70189791, 0.70349043, 0.68236462, 0.69316751]), 'mean = ', 0.6946969581310721)\n",
      "\n",
      "################################################## seed = 1\n",
      "cur time = 2018/12/05 16:11:10\n",
      "cur time = 2018/12/05 16:11:24\n",
      "whole valid auc = 0.6957809711895114\n",
      "('train', array([0.69602688, 0.69618249, 0.69658327, 0.70075306, 0.69088196]), 'mean = ', 0.6960855315164958)\n",
      "('valid', array([0.69253516, 0.70197801, 0.70397076, 0.68337061, 0.69316612]), 'mean = ', 0.6950041302392517)\n",
      "\n",
      "################################################## seed = 2\n",
      "cur time = 2018/12/05 16:11:25\n",
      "cur time = 2018/12/05 16:11:38\n",
      "whole valid auc = 0.6963278454286249\n",
      "('train', array([0.69809465, 0.69768632, 0.69790567, 0.6997526 , 0.69087592]), 'mean = ', 0.6968630315186177)\n",
      "('valid', array([0.69560159, 0.70284658, 0.70438604, 0.68237522, 0.69315972]), 'mean = ', 0.6956738299592647)\n",
      "\n",
      "################################################## seed = 3\n",
      "cur time = 2018/12/05 16:11:39\n",
      "cur time = 2018/12/05 16:11:53\n",
      "whole valid auc = 0.6953582601021704\n",
      "('train', array([0.696026  , 0.69696338, 0.695422  , 0.70078691, 0.69088088]), 'mean = ', 0.696015833493869)\n",
      "('valid', array([0.69253321, 0.70303288, 0.7005281 , 0.68342856, 0.6931653 ]), 'mean = ', 0.6945376096437668)\n",
      "\n",
      "################################################## seed = 4\n",
      "cur time = 2018/12/05 16:11:53\n",
      "cur time = 2018/12/05 16:12:06\n",
      "whole valid auc = 0.697306118356351\n",
      "('train', array([0.69910751, 0.6960422 , 0.69543884, 0.70079225, 0.6972548 ]), 'mean = ', 0.697727117309508)\n",
      "('valid', array([0.69695001, 0.70192805, 0.70052629, 0.68343676, 0.70317115]), 'mean = ', 0.6972024510700214)\n",
      "###### result ######\n",
      "score train mean = 0.696480583729\n",
      "score valid mean = 0.695422995809\n"
     ]
    }
   ],
   "source": [
    "model_X_go(train_fea, test_fea, train_label, 'lr', params_list_lr)"
   ]
  },
  {
   "cell_type": "code",
   "execution_count": null,
   "metadata": {
    "scrolled": true
   },
   "outputs": [],
   "source": []
  },
  {
   "cell_type": "code",
   "execution_count": null,
   "metadata": {},
   "outputs": [],
   "source": []
  },
  {
   "cell_type": "code",
   "execution_count": null,
   "metadata": {},
   "outputs": [],
   "source": []
  },
  {
   "cell_type": "code",
   "execution_count": null,
   "metadata": {},
   "outputs": [],
   "source": []
  },
  {
   "cell_type": "markdown",
   "metadata": {},
   "source": [
    "# stacking master"
   ]
  },
  {
   "cell_type": "markdown",
   "metadata": {},
   "source": [
    "## load col_id and col_label"
   ]
  },
  {
   "cell_type": "code",
   "execution_count": 22,
   "metadata": {},
   "outputs": [],
   "source": [
    "train_label = pd.read_csv(path + '/meta/_id_label/train_label.csv')\n",
    "col_label = train_label.columns[0]\n",
    "train_label = train_label[col_label]\n",
    "\n",
    "test_id = pd.read_csv(path + '/meta/_id_label/test_id.csv')\n",
    "col_id = test_id.columns[0]\n",
    "test_id = test_id[col_id]"
   ]
  },
  {
   "cell_type": "code",
   "execution_count": 23,
   "metadata": {},
   "outputs": [
    {
     "name": "stdout",
     "output_type": "stream",
     "text": [
      "('col_id = ', 'Id', 'col_label = ', 'Probability')\n"
     ]
    }
   ],
   "source": [
    "print('col_id = ', col_id, 'col_label = ', col_label)"
   ]
  },
  {
   "cell_type": "markdown",
   "metadata": {},
   "source": [
    "## load meta feature"
   ]
  },
  {
   "cell_type": "code",
   "execution_count": 47,
   "metadata": {},
   "outputs": [
    {
     "name": "stdout",
     "output_type": "stream",
     "text": [
      "((150000, 20), (101503, 20))\n"
     ]
    }
   ],
   "source": [
    "meta_train_fea = pd.DataFrame([])\n",
    "meta_test_fea = pd.DataFrame([])\n",
    "for name in os.listdir(path + 'meta'):\n",
    "    if 'csv' not in name or 'test' in name:\n",
    "        continue\n",
    "        \n",
    "    path_train = path + 'meta/' + name\n",
    "    path_test = path + 'meta/' + name.replace('train', 'test')\n",
    "    meta_train_i = pd.read_csv(path_train, header = None)\n",
    "    meta_test_i = pd.read_csv(path_test, header = None)\n",
    "    meta_train_i.columns = [name.replace('.csv', '').replace('_train', '')]\n",
    "    meta_test_i.columns = [name.replace('.csv', '').replace('_train', '')]\n",
    "    \n",
    "    meta_train_fea = pd.concat([meta_train_fea, meta_train_i], axis = 1)\n",
    "    meta_test_fea = pd.concat([meta_test_fea, meta_test_i], axis = 1)\n",
    "\n",
    "print(meta_train_fea.shape, meta_test_fea.shape)"
   ]
  },
  {
   "cell_type": "code",
   "execution_count": null,
   "metadata": {},
   "outputs": [],
   "source": []
  },
  {
   "cell_type": "code",
   "execution_count": null,
   "metadata": {},
   "outputs": [],
   "source": []
  },
  {
   "cell_type": "code",
   "execution_count": null,
   "metadata": {},
   "outputs": [],
   "source": []
  },
  {
   "cell_type": "markdown",
   "metadata": {},
   "source": [
    "## add origin X"
   ]
  },
  {
   "cell_type": "code",
   "execution_count": 48,
   "metadata": {},
   "outputs": [
    {
     "name": "stdout",
     "output_type": "stream",
     "text": [
      "((150000, 30), (101503, 30))\n"
     ]
    }
   ],
   "source": [
    "meta_train_fea = pd.concat([meta_train_fea, train_fea], axis = 1)\n",
    "meta_test_fea = pd.concat([meta_test_fea, test_fea], axis = 1)\n",
    "print(meta_train_fea.shape, meta_test_fea.shape)"
   ]
  },
  {
   "cell_type": "code",
   "execution_count": 39,
   "metadata": {},
   "outputs": [
    {
     "name": "stdout",
     "output_type": "stream",
     "text": [
      "((150000, 10), (101503, 10))\n"
     ]
    }
   ],
   "source": [
    "# meta_train_fea = pd.concat([train_fea], axis = 1)\n",
    "# meta_test_fea = pd.concat([test_fea], axis = 1)\n",
    "# print(meta_train_fea.shape, meta_test_fea.shape)"
   ]
  },
  {
   "cell_type": "code",
   "execution_count": null,
   "metadata": {},
   "outputs": [],
   "source": []
  },
  {
   "cell_type": "markdown",
   "metadata": {},
   "source": [
    "# feature importance "
   ]
  },
  {
   "cell_type": "code",
   "execution_count": 33,
   "metadata": {},
   "outputs": [],
   "source": [
    "def simple_lgb(X, y):\n",
    "    print('######################################################## begin')\n",
    "    print('####### cur time = ' + str(datetime.datetime.now().strftime(\"%Y/%m/%d %H:%M:%S\")))\n",
    "    \n",
    "    X_train, X_val, y_train, y_val = train_test_split(X, y, test_size=0.2, random_state=1)\n",
    "    train_data = lgb.Dataset(X_train, label=y_train)\n",
    "    valid_data = lgb.Dataset(X_val, label=y_val)\n",
    "    \n",
    "    params = {\n",
    "        'task':'train', \n",
    "        'objective': 'binary',\n",
    "        'metric': 'auc',\n",
    "\n",
    "        'boosting_type':'gbdt',\n",
    "        'num_leaves': 31,\n",
    "        'learning_rate': 0.05,\n",
    "        'feature_fraction': 0.85,\n",
    "        'subsample':0.85,\n",
    "        'num_threads': 15,\n",
    "        'seed': 1,\n",
    "        'max_bin':127,\n",
    "        'is_unbalance': True # useful\n",
    "        #'reg_alpha': 0.1,\n",
    "        #'reg_lambda': 0.1\n",
    "    }   \n",
    "    model = lgb.train(params, train_data, 3000, [train_data, valid_data],\n",
    "                          early_stopping_rounds=100, verbose_eval=-1)\n",
    "    print('########################################################## end')\n",
    "    print('####### cur time = ' + str(datetime.datetime.now().strftime(\"%Y/%m/%d %H:%M:%S\")))\n",
    "    return model"
   ]
  },
  {
   "cell_type": "code",
   "execution_count": 34,
   "metadata": {
    "scrolled": true
   },
   "outputs": [
    {
     "name": "stdout",
     "output_type": "stream",
     "text": [
      "######################################################## begin\n",
      "####### cur time = 2018/12/05 16:15:59\n",
      "Training until validation scores don't improve for 100 rounds.\n",
      "Early stopping, best iteration is:\n",
      "[72]\ttraining's auc: 0.88412\tvalid_1's auc: 0.864406\n",
      "########################################################## end\n",
      "####### cur time = 2018/12/05 16:16:01\n"
     ]
    }
   ],
   "source": [
    "model_lgb = simple_lgb(meta_train_fea, train_label)"
   ]
  },
  {
   "cell_type": "code",
   "execution_count": 36,
   "metadata": {},
   "outputs": [
    {
     "data": {
      "image/png": "[encoded data removed]",
      "text/plain": [
       "<Figure size 504x720 with 1 Axes>"
      ]
     },
     "metadata": {},
     "output_type": "display_data"
    }
   ],
   "source": [
    "fig, ax = plt.subplots(figsize=(7,10))\n",
    "lgb.plot_importance(model_lgb, max_num_features=50, height=0.8, ax=ax)\n",
    "ax.grid(False)\n",
    "plt.title(\"LightGBM - Feature Importance\", fontsize=15)\n",
    "plt.show()"
   ]
  },
  {
   "cell_type": "code",
   "execution_count": null,
   "metadata": {},
   "outputs": [],
   "source": []
  },
  {
   "cell_type": "code",
   "execution_count": null,
   "metadata": {},
   "outputs": [],
   "source": []
  },
  {
   "cell_type": "markdown",
   "metadata": {},
   "source": [
    "# <font color = 'red'> Go Go Go </font>"
   ]
  },
  {
   "cell_type": "code",
   "execution_count": 37,
   "metadata": {},
   "outputs": [],
   "source": [
    "#############################################################################\n",
    "##  StratifiedKFold, bagging\n",
    "#############################################################################\n",
    "params_default = {\n",
    "    'task':'train', \n",
    "    'objective': 'binary',\n",
    "    'metric': 'auc', \n",
    "    'boosting_type':'gbdt',\n",
    "    'num_threads': 31,\n",
    "    \n",
    "    'num_leaves': 31,\n",
    "    'learning_rate': 0.05,\n",
    "    'feature_fraction': 0.85,\n",
    "    'subsample':0.85,\n",
    "    'num_threads': 15,\n",
    "    'seed': 1,\n",
    "    'max_bin':127,\n",
    "    'reg_alpha': 1,\n",
    "    'reg_lambda': 1\n",
    "}\n",
    "\n",
    "def cv_lgb(train_fea, test_fea, train_label, n_seed, n_kfold, params = params_default):\n",
    "    print('train shape = ', train_fea.shape, 'test shape = ', test_fea.shape)\n",
    "    bagging_best_it = []\n",
    "    bagging_score_list = []\n",
    "    bagging_meta_train = np.zeros(len(train_fea))\n",
    "    bagging_meta_test = np.zeros(len(test_fea))\n",
    "\n",
    "    seed_list = range(n_seed)\n",
    "    for si, seed in enumerate(seed_list):\n",
    "        print('\\n################################################## seed = ' + str(seed))\n",
    "        print('cur time = ' + str(datetime.datetime.now().strftime(\"%Y/%m/%d %H:%M:%S\")))\n",
    "        best_it = []\n",
    "        score_list = []\n",
    "        meta_train = np.zeros(len(train_fea))\n",
    "        meta_test = np.zeros(len(test_fea))\n",
    "        \n",
    "        skf = StratifiedKFold(train_label, n_folds=n_kfold, shuffle=True, random_state=seed)\n",
    "        for i,(train_idx,valid_idx) in enumerate(skf):\n",
    "            X_train, y_train = train_fea.iloc[train_idx], train_label.iloc[train_idx]\n",
    "            X_valid, y_valid = train_fea.iloc[valid_idx], train_label.iloc[valid_idx]\n",
    "            X_test = test_fea\n",
    "\n",
    "            dtrain = lgb.Dataset(X_train, y_train) \n",
    "            dvalid = lgb.Dataset(X_valid, y_valid, reference = dtrain)  \n",
    "            \n",
    "    \n",
    "            params['seed'] = seed\n",
    "            model = lgb.train(params, \n",
    "                              dtrain, \n",
    "                              num_boost_round=3000,\n",
    "                              valid_sets=[dtrain,dvalid],\n",
    "                              verbose_eval=0, \n",
    "                              early_stopping_rounds=100)  \n",
    "\n",
    "            best_it.append(model.best_iteration)\n",
    "            score_list.append(model.best_score)\n",
    "            \n",
    "            pred_valid = model.predict(X_valid, model.best_iteration)\n",
    "            pred_test = model.predict(X_test, model.best_iteration)\n",
    "            meta_train[valid_idx] += pred_valid\n",
    "            meta_test += pred_test\n",
    "            gc.collect()\n",
    "            #print('cur time = ' + str(datetime.datetime.now().strftime(\"%Y/%m/%d %H:%M:%S\")))\n",
    "        \n",
    "        gc.collect()\n",
    "        bagging_best_it += best_it\n",
    "        bagging_score_list += score_list\n",
    "        bagging_meta_train += meta_train\n",
    "        bagging_meta_test += (meta_test / n_kfold)\n",
    "        \n",
    "        print('========================= seed = ' + str(seed))\n",
    "        print(\"current whole valid auc = \" + str(roc_auc_score(train_label, meta_train)))\n",
    "        print(\"bagging whole valid auc = \" + str(roc_auc_score(train_label, bagging_meta_train / (1.0 * (si + 1)))))\n",
    "        print('best_iteration',best_it, np.mean(best_it))\n",
    "        train_auc = np.array([i['training']['auc'] for i in score_list])\n",
    "        valid_auc = np.array([i['valid_1']['auc'] for i in score_list])\n",
    "        print('train', train_auc, np.mean(train_auc))\n",
    "        print('valid', valid_auc, np.mean(valid_auc))\n",
    "    \n",
    "    \n",
    "    # really bagging\n",
    "    bagging_meta_train /= (1.0 * n_seed)\n",
    "    bagging_meta_test /= (1.0 * n_seed)\n",
    "    \n",
    "    # average\n",
    "    train_auc = np.array([i['training']['auc'] for i in bagging_score_list])\n",
    "    valid_auc = np.array([i['valid_1']['auc'] for i in bagging_score_list])\n",
    "    print('\\n##############################################')\n",
    "    print('### CV avergae result ###')\n",
    "    print('cur time = ' + str(datetime.datetime.now().strftime(\"%Y/%m/%d %H:%M:%S\")))\n",
    "    print('train auc = ' + str(train_auc.mean()))\n",
    "    print('valid auc = ' + str(valid_auc.mean()))\n",
    "    print('##############################################')\n",
    "    print(\"bagging whole valid auc = \" + str(roc_auc_score(train_label, bagging_meta_train / (1.0 * (si + 1)))))\n",
    "   \n",
    "    gc.collect()\n",
    "    return bagging_meta_train, bagging_meta_test"
   ]
  },
  {
   "cell_type": "code",
   "execution_count": 40,
   "metadata": {},
   "outputs": [
    {
     "name": "stdout",
     "output_type": "stream",
     "text": [
      "('train shape = ', (150000, 10), 'test shape = ', (101503, 10))\n",
      "\n",
      "################################################## seed = 0\n",
      "cur time = 2018/12/05 16:19:09\n",
      "========================= seed = 0\n",
      "current whole valid auc = 0.8661363159002904\n",
      "bagging whole valid auc = 0.8661363159002904\n",
      "('best_iteration', [219, 154, 170, 280, 156], 195.8)\n",
      "('train', array([0.88731816, 0.88080383, 0.88339392, 0.89158822, 0.88072042]), 0.8847649096729342)\n",
      "('valid', array([0.86493372, 0.86913268, 0.86387071, 0.86498482, 0.86854554]), 0.8662934951040541)\n",
      "\n",
      "################################################## seed = 1\n",
      "cur time = 2018/12/05 16:19:24\n",
      "========================= seed = 1\n",
      "current whole valid auc = 0.8662232503433975\n",
      "bagging whole valid auc = 0.8666630035088075\n",
      "('best_iteration', [331, 143, 255, 166, 169], 212.8)\n",
      "('train', array([0.89321753, 0.88069267, 0.88704214, 0.88185952, 0.88362379]), 0.8852871303913166)\n",
      "('valid', array([0.86693031, 0.86360938, 0.87075455, 0.86882104, 0.86143518]), 0.8663100917591015)\n",
      "\n",
      "################################################## seed = 2\n",
      "cur time = 2018/12/05 16:19:41\n",
      "========================= seed = 2\n",
      "current whole valid auc = 0.8664305727650866\n",
      "bagging whole valid auc = 0.8669086819181326\n",
      "('best_iteration', [216, 161, 152, 149, 314], 198.4)\n",
      "('train', array([0.88596331, 0.8831478 , 0.8818809 , 0.88144538, 0.89177956]), 0.8848433923120048)\n",
      "('valid', array([0.868584  , 0.86204167, 0.86599264, 0.86564242, 0.87007086]), 0.8664663185155407)\n",
      "\n",
      "################################################## seed = 3\n",
      "cur time = 2018/12/05 16:19:57\n",
      "========================= seed = 3\n",
      "current whole valid auc = 0.8661156949608871\n",
      "bagging whole valid auc = 0.8669567451885872\n",
      "('best_iteration', [173, 211, 123, 183, 191], 176.2)\n",
      "('train', array([0.88281637, 0.88618535, 0.87656978, 0.88552786, 0.88326683]), 0.8828732370975981)\n",
      "('valid', array([0.86636639, 0.86284402, 0.87140584, 0.86064852, 0.8703559 ]), 0.8663241365647025)\n",
      "\n",
      "################################################## seed = 4\n",
      "cur time = 2018/12/05 16:20:11\n",
      "========================= seed = 4\n",
      "current whole valid auc = 0.866056980614316\n",
      "bagging whole valid auc = 0.8669624464269219\n",
      "('best_iteration', [208, 155, 192, 235, 161], 190.2)\n",
      "('train', array([0.8859063 , 0.88156374, 0.88353813, 0.88871613, 0.88113573]), 0.8841720049368982)\n",
      "('valid', array([0.86661306, 0.86491836, 0.86712963, 0.86173971, 0.87056453]), 0.8661930586977332)\n",
      "\n",
      "################################################## seed = 5\n",
      "cur time = 2018/12/05 16:20:27\n",
      "========================= seed = 5\n",
      "current whole valid auc = 0.8659064906531285\n",
      "bagging whole valid auc = 0.8669579273351187\n",
      "('best_iteration', [183, 153, 123, 199, 261], 183.8)\n",
      "('train', array([0.88533826, 0.88268371, 0.87778301, 0.88350768, 0.88930639]), 0.8837238118865608)\n",
      "('valid', array([0.85951641, 0.86046921, 0.86911829, 0.87481195, 0.86649693]), 0.8660825580790765)\n",
      "\n",
      "################################################## seed = 6\n",
      "cur time = 2018/12/05 16:20:41\n",
      "========================= seed = 6\n",
      "current whole valid auc = 0.8661670566980649\n",
      "bagging whole valid auc = 0.8669631361905401\n",
      "('best_iteration', [151, 150, 144, 234, 173], 170.4)\n",
      "('train', array([0.88229659, 0.87991816, 0.88084304, 0.88763844, 0.88237702]), 0.8826146480696118)\n",
      "('valid', array([0.86183341, 0.87145903, 0.86486584, 0.86527805, 0.86779915]), 0.8662470967103385)\n",
      "\n",
      "################################################## seed = 7\n",
      "cur time = 2018/12/05 16:20:56\n",
      "========================= seed = 7\n",
      "current whole valid auc = 0.8661827106981091\n",
      "bagging whole valid auc = 0.8669913195899415\n",
      "('best_iteration', [173, 163, 244, 144, 231], 191.0)\n",
      "('train', array([0.88360317, 0.88204452, 0.88815378, 0.88078113, 0.88747567]), 0.8844116528873668)\n",
      "('valid', array([0.86255507, 0.86726886, 0.86739569, 0.86674602, 0.86723263]), 0.8662396538475526)\n",
      "\n",
      "################################################## seed = 8\n",
      "cur time = 2018/12/05 16:21:11\n",
      "========================= seed = 8\n",
      "current whole valid auc = 0.865756208048566\n",
      "bagging whole valid auc = 0.866955806026967\n",
      "('best_iteration', [187, 131, 227, 165, 138], 169.6)\n",
      "('train', array([0.88392143, 0.8792834 , 0.88626305, 0.88350779, 0.87957887]), 0.882510909005856)\n",
      "('valid', array([0.86434653, 0.86573338, 0.86795771, 0.86333994, 0.86809802]), 0.8658951163096689)\n",
      "\n",
      "################################################## seed = 9\n",
      "cur time = 2018/12/05 16:21:25\n",
      "========================= seed = 9\n",
      "current whole valid auc = 0.8658713091457804\n",
      "bagging whole valid auc = 0.86692823970948\n",
      "('best_iteration', [162, 167, 152, 176, 188], 169.0)\n",
      "('train', array([0.88292045, 0.88221824, 0.88113742, 0.88338931, 0.8841454 ]), 0.8827621636121957)\n",
      "('valid', array([0.86256683, 0.86923955, 0.86530643, 0.86541197, 0.86717059]), 0.8659390730842583)\n",
      "\n",
      "##############################################\n",
      "### CV avergae result ###\n",
      "cur time = 2018/12/05 16:21:40\n",
      "train auc = 0.8837963859872344\n",
      "valid auc = 0.8661990598672027\n",
      "##############################################\n",
      "bagging whole valid auc = 0.86692823970948\n"
     ]
    }
   ],
   "source": [
    "# X\n",
    "bagging_meta_train, bagging_meta_test = cv_lgb(train_fea, test_fea, train_label, 10, 5)"
   ]
  },
  {
   "cell_type": "code",
   "execution_count": 38,
   "metadata": {
    "scrolled": true
   },
   "outputs": [
    {
     "name": "stdout",
     "output_type": "stream",
     "text": [
      "('train shape = ', (150000, 30), 'test shape = ', (101503, 30))\n",
      "\n",
      "################################################## seed = 0\n",
      "cur time = 2018/12/05 16:16:38\n",
      "========================= seed = 0\n",
      "current whole valid auc = 0.8598528582853768\n",
      "bagging whole valid auc = 0.8598528582853768\n",
      "('best_iteration', [80, 77, 56, 92, 62], 73.4)\n",
      "('train', array([0.87603523, 0.87408703, 0.87213294, 0.87735816, 0.87158734]), 0.8742401408279348)\n",
      "('valid', array([0.8653793 , 0.86909554, 0.86299952, 0.86516464, 0.8675681 ]), 0.8660414196894907)\n",
      "\n",
      "################################################## seed = 1\n",
      "cur time = 2018/12/05 16:16:48\n",
      "========================= seed = 1\n",
      "current whole valid auc = 0.8568098278466585\n",
      "bagging whole valid auc = 0.8607367112670958\n",
      "('best_iteration', [70, 75, 94, 51, 99], 77.8)\n",
      "('train', array([0.87327791, 0.87520235, 0.87718917, 0.86993745, 0.88060446]), 0.8752422700400653)\n",
      "('valid', array([0.86668251, 0.86484888, 0.86997096, 0.86827676, 0.85971528]), 0.8658988782810579)\n",
      "\n",
      "################################################## seed = 2\n",
      "cur time = 2018/12/05 16:16:58\n",
      "========================= seed = 2\n",
      "current whole valid auc = 0.8503572505960619\n",
      "bagging whole valid auc = 0.8603365286575935\n",
      "('best_iteration', [94, 68, 56, 129, 43], 78.0)\n",
      "('train', array([0.87725184, 0.87386804, 0.87190263, 0.88571785, 0.86928787]), 0.8756056482717334)\n",
      "('valid', array([0.8691843 , 0.86129275, 0.86420309, 0.86602022, 0.86895816]), 0.8659317056405358)\n",
      "\n",
      "################################################## seed = 3\n",
      "cur time = 2018/12/05 16:17:08\n",
      "========================= seed = 3\n",
      "current whole valid auc = 0.855647353473479\n",
      "bagging whole valid auc = 0.8611851192557544\n",
      "('best_iteration', [108, 75, 82, 95, 49], 81.8)\n",
      "('train', array([0.88093066, 0.87515881, 0.87389588, 0.87984099, 0.8696202 ]), 0.875889306945178)\n",
      "('valid', array([0.86652393, 0.86305036, 0.87114744, 0.85937558, 0.87006442]), 0.8660323459672616)\n",
      "\n",
      "################################################## seed = 4\n",
      "cur time = 2018/12/05 16:17:18\n",
      "========================= seed = 4\n",
      "current whole valid auc = 0.8480157037000783\n",
      "bagging whole valid auc = 0.8610833238982507\n",
      "('best_iteration', [69, 45, 58, 99, 43], 62.8)\n",
      "('train', array([0.8729278 , 0.87021689, 0.87133986, 0.87992114, 0.86868537]), 0.8726182122994024)\n",
      "('valid', array([0.86657992, 0.86518828, 0.86697957, 0.86162094, 0.87050456]), 0.8661746542978623)\n",
      "\n",
      "################################################## seed = 5\n",
      "cur time = 2018/12/05 16:17:27\n",
      "========================= seed = 5\n",
      "current whole valid auc = 0.8531593896419698\n",
      "bagging whole valid auc = 0.86193412879439\n",
      "('best_iteration', [65, 44, 106, 94, 56], 73.0)\n",
      "('train', array([0.87472023, 0.87151999, 0.8795588 , 0.87616086, 0.87098973]), 0.8745899205637961)\n",
      "('valid', array([0.85937799, 0.86003395, 0.86897477, 0.87447573, 0.86711002]), 0.8659944914235007)\n",
      "\n",
      "################################################## seed = 6\n",
      "cur time = 2018/12/05 16:17:37\n",
      "========================= seed = 6\n",
      "current whole valid auc = 0.8540604418224991\n",
      "bagging whole valid auc = 0.862362520099377\n",
      "('best_iteration', [53, 70, 50, 102, 48], 64.6)\n",
      "('train', array([0.8720231 , 0.8722776 , 0.87108256, 0.88013091, 0.86978707]), 0.8730602461879278)\n",
      "('valid', array([0.86229273, 0.8706256 , 0.86527659, 0.86512821, 0.86774479]), 0.8662135853194581)\n",
      "\n",
      "################################################## seed = 7\n",
      "cur time = 2018/12/05 16:17:46\n",
      "========================= seed = 7\n",
      "current whole valid auc = 0.8559622804447131\n",
      "bagging whole valid auc = 0.862637548378189\n",
      "('best_iteration', [106, 59, 58, 47, 52], 64.4)\n",
      "('train', array([0.88103515, 0.87113812, 0.8712392 , 0.87048026, 0.87056612]), 0.8728917682457993)\n",
      "('valid', array([0.86324311, 0.86700306, 0.86693926, 0.8664685 , 0.86688285]), 0.8661073556841352)\n",
      "\n",
      "################################################## seed = 8\n",
      "cur time = 2018/12/05 16:17:55\n",
      "========================= seed = 8\n",
      "current whole valid auc = 0.8528794699557651\n",
      "bagging whole valid auc = 0.8629023773475517\n",
      "('best_iteration', [84, 47, 56, 103, 99], 77.8)\n",
      "('train', array([0.87623403, 0.87067797, 0.87094483, 0.88045683, 0.87865811]), 0.8753943550182477)\n",
      "('valid', array([0.86490239, 0.86549574, 0.86777026, 0.86386801, 0.86968459]), 0.8663441976419104)\n",
      "\n",
      "################################################## seed = 9\n",
      "cur time = 2018/12/05 16:18:05\n",
      "========================= seed = 9\n",
      "current whole valid auc = 0.8281153894925133\n",
      "bagging whole valid auc = 0.8612732162498354\n",
      "('best_iteration', [61, 23, 84, 71, 75], 62.8)\n",
      "('train', array([0.87308399, 0.86726154, 0.87596374, 0.87367612, 0.87423358]), 0.8728437940256007)\n",
      "('valid', array([0.86203721, 0.86886067, 0.86537625, 0.86594872, 0.86675528]), 0.8657956274255852)\n",
      "\n",
      "##############################################\n",
      "### CV avergae result ###\n",
      "cur time = 2018/12/05 16:18:14\n",
      "train auc = 0.8742375662425685\n",
      "valid auc = 0.8660534261370798\n",
      "##############################################\n",
      "bagging whole valid auc = 0.8612732162498354\n"
     ]
    }
   ],
   "source": [
    "# X + meta\n",
    "bagging_meta_train, bagging_meta_test = cv_lgb(meta_train_fea, meta_test_fea, train_label, 10, 5)"
   ]
  },
  {
   "cell_type": "code",
   "execution_count": null,
   "metadata": {},
   "outputs": [],
   "source": []
  },
  {
   "cell_type": "markdown",
   "metadata": {},
   "source": [
    "# hyperopt "
   ]
  },
  {
   "cell_type": "code",
   "execution_count": 44,
   "metadata": {},
   "outputs": [],
   "source": [
    "import hyperopt\n",
    "from hyperopt import hp, tpe, STATUS_OK, space_eval, Trials\n",
    "\n",
    "config = {}\n",
    "#config['mode'] = 'regression'\n",
    "config['mode'] = 'classification'\n",
    "params = {\n",
    "        \"objective\": \"regression\" if config[\"mode\"] == \"regression\" else \"binary\",\n",
    "        \"metric\": \"rmse\" if config[\"mode\"] == \"regression\" else \"auc\",\n",
    "        \"verbosity\": -1,\n",
    "        \"seed\": 1,\n",
    "        \"num_threads\": 31,\n",
    "}\n",
    "\n",
    "def merge_dict(d1, d2):\n",
    "    tmp = d1.copy()\n",
    "    tmp.update(d2)\n",
    "    return tmp\n",
    "def hyperopt_lightgbm(X, y, params, config):\n",
    "    print('######################################################## begin hyperopt_lightgbm')\n",
    "    print('####### cur time = ' + str(datetime.datetime.now().strftime(\"%Y/%m/%d %H:%M:%S\")))\n",
    "     \n",
    "    space = {\n",
    "        \"learning_rate\": hp.uniform(\"learning_rate\", 0.01, 0.05),\n",
    "        \"max_depth\": hp.choice(\"max_depth\", [-1]),\n",
    "        \"num_leaves\": hp.choice(\"num_leaves\", np.linspace(10, 200, 50, dtype=int)),\n",
    "        \"feature_fraction\": hp.quniform(\"feature_fraction\", 0.5, 1.0, 0.1),\n",
    "        \"bagging_fraction\": hp.quniform(\"bagging_fraction\", 0.5, 1.0, 0.1),\n",
    "        \"bagging_freq\": hp.choice(\"bagging_freq\", np.linspace(0, 50, 10, dtype=int)),\n",
    "        \"reg_alpha\": hp.uniform(\"reg_alpha\", 0, 30),\n",
    "        \"reg_lambda\": hp.uniform(\"reg_lambda\", 0, 30),\n",
    "        \"min_child_weight\": hp.uniform('min_child_weight', 0.5, 10),\n",
    "    }\n",
    "\n",
    "    skf = StratifiedKFold(train_label, n_folds=5, shuffle=True, random_state=777)\n",
    "    def objective(hyperparams):\n",
    "        score_list = []\n",
    "        for i,(train_idx,valid_idx) in enumerate(skf):\n",
    "            X_train, y_train = X.iloc[train_idx], y.iloc[train_idx]\n",
    "            X_valid, y_valid = X.iloc[valid_idx], y.iloc[valid_idx]\n",
    "            \n",
    "            dtrain = lgb.Dataset(X_train, label=y_train)\n",
    "            dvalid = lgb.Dataset(X_valid, label=y_valid)\n",
    "    \n",
    "            model = lgb.train(merge_dict(params, hyperparams), dtrain, 3000, dvalid, \n",
    "                              early_stopping_rounds=100, verbose_eval=0)\n",
    "\n",
    "            score = model.best_score[\"valid_0\"][params[\"metric\"]]\n",
    "            score_list.append(score)\n",
    "        \n",
    "        score = np.mean(score_list)\n",
    "        if config['mode'] == 'classification':\n",
    "            score = -score\n",
    "        return {'loss': score, 'status': STATUS_OK}\n",
    "\n",
    "    trials = Trials()\n",
    "    best = hyperopt.fmin(fn=objective, space=space, trials=trials, algo=tpe.suggest, max_evals=50, verbose=1,\n",
    "                         rstate=np.random.RandomState(1))\n",
    "\n",
    "    hyperparams = space_eval(space, best)\n",
    "    print('########################################################## end hyperopt_lightgbm')\n",
    "    print('####### cur time = ' + str(datetime.datetime.now().strftime(\"%Y/%m/%d %H:%M:%S\")))\n",
    "    print(\"{:0.4f} {}\".format(trials.best_trial['result']['loss'], hyperparams))\n",
    "    #return hyperparams, best, trials, space\n",
    "\n",
    "    \n",
    "    ####################################################\n",
    "    ## result\n",
    "    def space_eval_trials(space, trials, params_basic):\n",
    "        params_list = []\n",
    "        for t in range(len(trials)):\n",
    "            for_eval = {}\n",
    "            for k, v in trials[t][\"misc\"][\"vals\"].items():\n",
    "                if len(v) == 0:\n",
    "                    for_eval[k] = None\n",
    "                else:\n",
    "                    for_eval[k] = v[0]\n",
    "\n",
    "            params = space_eval(space, for_eval)\n",
    "            params_list.append(merge_dict(params_basic, params))\n",
    "        return params_list\n",
    "    \n",
    "    params_basic = {\n",
    "        'task':'train', \n",
    "        'objective': 'binary',\n",
    "        'metric': 'auc', \n",
    "        'boosting_type':'gbdt'\n",
    "    }\n",
    "    hyperopt_result = pd.DataFrame([])\n",
    "    hyperopt_result['auc'] = pd.DataFrame(trials.trials)['result'].apply(lambda x: -1 * x['loss'])\n",
    "    hyperopt_result['params'] = space_eval_trials(space, trials.trials, params_basic)\n",
    "\n",
    "    hyperopt_result['auc'].plot()\n",
    "    plt.show()\n",
    "    hyperopt_result = hyperopt_result.sort_values(by = 'auc', ascending=False).reset_index(drop = True)\n",
    "    return hyperopt_result\n",
    "    \n",
    "    "
   ]
  },
  {
   "cell_type": "code",
   "execution_count": 43,
   "metadata": {
    "scrolled": false
   },
   "outputs": [
    {
     "name": "stdout",
     "output_type": "stream",
     "text": [
      "######################################################## begin hyperopt_lightgbm\n",
      "####### cur time = 2018/12/05 16:24:16\n",
      "########################################################## end hyperopt_lightgbm\n",
      "####### cur time = 2018/12/05 16:46:58\n",
      "-0.8667 {'num_leaves': 17, 'reg_alpha': 10.038196356032481, 'bagging_freq': 44, 'learning_rate': 0.030913570643500435, 'min_child_weight': 7.746872753876168, 'reg_lambda': 20.50672319622874, 'bagging_fraction': 0.9, 'max_depth': -1, 'feature_fraction': 0.6000000000000001}\n"
     ]
    },
    {
     "data": {
      "image/png": "[encoded data removed]",
      "text/plain": [
       "<Figure size 576x396 with 1 Axes>"
      ]
     },
     "metadata": {},
     "output_type": "display_data"
    }
   ],
   "source": [
    "# X\n",
    "hyperopt_result = hyperopt_lightgbm(train_fea,  train_label, params, config)"
   ]
  },
  {
   "cell_type": "code",
   "execution_count": 46,
   "metadata": {},
   "outputs": [
    {
     "data": {
      "text/html": [
       "<div>\n",
       "<style scoped>\n",
       "    .dataframe tbody tr th:only-of-type {\n",
       "        vertical-align: middle;\n",
       "    }\n",
       "\n",
       "    .dataframe tbody tr th {\n",
       "        vertical-align: top;\n",
       "    }\n",
       "\n",
       "    .dataframe thead th {\n",
       "        text-align: right;\n",
       "    }\n",
       "</style>\n",
       "<table border=\"1\" class=\"dataframe\">\n",
       "  <thead>\n",
       "    <tr style=\"text-align: right;\">\n",
       "      <th></th>\n",
       "      <th>auc</th>\n",
       "      <th>params</th>\n",
       "    </tr>\n",
       "  </thead>\n",
       "  <tbody>\n",
       "    <tr>\n",
       "      <th>0</th>\n",
       "      <td>0.866660</td>\n",
       "      <td>{u'num_leaves': 17, u'reg_alpha': 10.038196356...</td>\n",
       "    </tr>\n",
       "    <tr>\n",
       "      <th>1</th>\n",
       "      <td>0.866551</td>\n",
       "      <td>{u'num_leaves': 21, u'reg_alpha': 10.785360253...</td>\n",
       "    </tr>\n",
       "    <tr>\n",
       "      <th>2</th>\n",
       "      <td>0.866545</td>\n",
       "      <td>{u'num_leaves': 33, u'reg_alpha': 22.166382413...</td>\n",
       "    </tr>\n",
       "    <tr>\n",
       "      <th>3</th>\n",
       "      <td>0.866496</td>\n",
       "      <td>{u'num_leaves': 95, u'reg_alpha': 19.405936061...</td>\n",
       "    </tr>\n",
       "    <tr>\n",
       "      <th>4</th>\n",
       "      <td>0.866488</td>\n",
       "      <td>{u'num_leaves': 10, u'reg_alpha': 21.554937658...</td>\n",
       "    </tr>\n",
       "  </tbody>\n",
       "</table>\n",
       "</div>"
      ],
      "text/plain": [
       "        auc                                             params\n",
       "0  0.866660  {u'num_leaves': 17, u'reg_alpha': 10.038196356...\n",
       "1  0.866551  {u'num_leaves': 21, u'reg_alpha': 10.785360253...\n",
       "2  0.866545  {u'num_leaves': 33, u'reg_alpha': 22.166382413...\n",
       "3  0.866496  {u'num_leaves': 95, u'reg_alpha': 19.405936061...\n",
       "4  0.866488  {u'num_leaves': 10, u'reg_alpha': 21.554937658..."
      ]
     },
     "execution_count": 46,
     "metadata": {},
     "output_type": "execute_result"
    }
   ],
   "source": [
    "hyperopt_result.head()"
   ]
  },
  {
   "cell_type": "code",
   "execution_count": null,
   "metadata": {},
   "outputs": [],
   "source": []
  },
  {
   "cell_type": "code",
   "execution_count": 50,
   "metadata": {},
   "outputs": [
    {
     "name": "stdout",
     "output_type": "stream",
     "text": [
      "((150000, 30), (101503, 30))\n",
      "######################################################## begin hyperopt_lightgbm\n",
      "####### cur time = 2018/12/05 16:57:19\n",
      "########################################################## end hyperopt_lightgbm\n",
      "####### cur time = 2018/12/05 17:06:03\n",
      "-0.8663 {'num_leaves': 10, 'reg_alpha': 10.449258407078908, 'bagging_freq': 5, 'learning_rate': 0.03377712188465733, 'min_child_weight': 8.236692931837638, 'reg_lambda': 4.490836188615002, 'bagging_fraction': 0.9, 'max_depth': -1, 'feature_fraction': 0.6000000000000001}\n"
     ]
    },
    {
     "data": {
      "image/png": "[encoded data removed]",
      "text/plain": [
       "<Figure size 576x396 with 1 Axes>"
      ]
     },
     "metadata": {},
     "output_type": "display_data"
    }
   ],
   "source": [
    "# X + meta\n",
    "print(meta_train_fea.shape, meta_test_fea.shape)\n",
    "hyperopt_result_2 = hyperopt_lightgbm(meta_train_fea,  train_label, params, config)"
   ]
  },
  {
   "cell_type": "markdown",
   "metadata": {},
   "source": [
    "# after hyperopt"
   ]
  },
  {
   "cell_type": "code",
   "execution_count": 78,
   "metadata": {
    "scrolled": true
   },
   "outputs": [
    {
     "name": "stdout",
     "output_type": "stream",
     "text": [
      "('train shape = ', (150000, 10), 'test shape = ', (101503, 10))\n",
      "\n",
      "################################################## seed = 0\n",
      "cur time = 2018/12/05 17:28:40\n",
      "========================= seed = 0\n",
      "current whole valid auc = 0.8668319360959889\n",
      "bagging whole valid auc = 0.8668319360959889\n",
      "('best_iteration', [617, 878, 538, 498, 565], 619.2)\n",
      "('train', array([0.87717385, 0.8784865 , 0.87633414, 0.87589546, 0.87594342]), 0.8767666749527123)\n",
      "('valid', array([0.86517834, 0.86970549, 0.8654667 , 0.86495458, 0.86903774]), 0.8668685715713031)\n",
      "\n",
      "################################################## seed = 1\n",
      "cur time = 2018/12/05 17:29:20\n",
      "========================= seed = 1\n",
      "current whole valid auc = 0.866587023338531\n",
      "bagging whole valid auc = 0.8669855823670378\n",
      "('best_iteration', [389, 440, 485, 482, 586], 476.4)\n",
      "('train', array([0.8737379 , 0.87491433, 0.8743669 , 0.87465893, 0.87753351]), 0.8750423140621661)\n",
      "('valid', array([0.86681994, 0.86494643, 0.87081009, 0.86898082, 0.86204152]), 0.8667197580940215)\n",
      "\n",
      "################################################## seed = 2\n",
      "cur time = 2018/12/05 17:29:52\n",
      "========================= seed = 2\n",
      "current whole valid auc = 0.8667740126973682\n",
      "bagging whole valid auc = 0.867095604295792\n",
      "('best_iteration', [498, 467, 568, 526, 491], 510.0)\n",
      "('train', array([0.87476378, 0.87621072, 0.87635367, 0.87617435, 0.87472324]), 0.8756451532906752)\n",
      "('valid', array([0.86929117, 0.86226518, 0.8658315 , 0.86614525, 0.8706398 ]), 0.866834581082444)\n",
      "\n",
      "################################################## seed = 3\n",
      "cur time = 2018/12/05 17:30:26\n",
      "========================= seed = 3\n",
      "current whole valid auc = 0.8668016256879099\n",
      "bagging whole valid auc = 0.8671510875131007\n",
      "('best_iteration', [618, 574, 455, 396, 545], 517.6)\n",
      "('train', array([0.87642576, 0.87677162, 0.87392783, 0.87534474, 0.87532104]), 0.8755581964130854)\n",
      "('valid', array([0.86720519, 0.86439359, 0.87153927, 0.86098194, 0.87011661]), 0.866847318832875)\n",
      "\n",
      "################################################## seed = 4\n",
      "cur time = 2018/12/05 17:31:01\n",
      "========================= seed = 4\n",
      "current whole valid auc = 0.8667541616852267\n",
      "bagging whole valid auc = 0.8671813630054592\n",
      "('best_iteration', [686, 476, 423, 627, 471], 536.6)\n",
      "('train', array([0.87753364, 0.87568086, 0.87393416, 0.87804255, 0.87443916]), 0.8759260752540463)\n",
      "('valid', array([0.86734546, 0.86493432, 0.86887941, 0.8624699 , 0.8706997 ]), 0.866865759041055)\n",
      "\n",
      "################################################## seed = 5\n",
      "cur time = 2018/12/05 17:31:36\n",
      "========================= seed = 5\n",
      "current whole valid auc = 0.8663835045926613\n",
      "bagging whole valid auc = 0.8671367563913177\n",
      "('best_iteration', [722, 457, 373, 529, 392], 494.6)\n",
      "('train', array([0.87937411, 0.87615877, 0.87300736, 0.87392608, 0.87359291]), 0.8752118441625655)\n",
      "('valid', array([0.85892421, 0.86186603, 0.87018954, 0.87482544, 0.86664046]), 0.8664891335898991)\n",
      "\n",
      "################################################## seed = 6\n",
      "cur time = 2018/12/05 17:32:08\n",
      "========================= seed = 6\n",
      "current whole valid auc = 0.866435196247768\n",
      "bagging whole valid auc = 0.8671214112885134\n",
      "('best_iteration', [615, 359, 349, 629, 450], 480.4)\n",
      "('train', array([0.87782651, 0.87261998, 0.87368276, 0.87703796, 0.8741139 ]), 0.8750562205217571)\n",
      "('valid', array([0.86258211, 0.87081337, 0.86526361, 0.86535494, 0.86875086]), 0.8665529776529413)\n",
      "\n",
      "################################################## seed = 7\n",
      "cur time = 2018/12/05 17:32:39\n",
      "========================= seed = 7\n",
      "current whole valid auc = 0.8665140918806924\n",
      "bagging whole valid auc = 0.8671202533692166\n",
      "('best_iteration', [701, 350, 654, 544, 478], 545.4)\n",
      "('train', array([0.87841748, 0.87317726, 0.87692118, 0.87612362, 0.87495807]), 0.8759195214287556)\n",
      "('valid', array([0.86327399, 0.86752496, 0.86798074, 0.866078  , 0.86817542]), 0.8666066244864208)\n",
      "\n",
      "################################################## seed = 8\n",
      "cur time = 2018/12/05 17:33:15\n",
      "========================= seed = 8\n",
      "current whole valid auc = 0.8664240164478866\n",
      "bagging whole valid auc = 0.8671092912581629\n",
      "('best_iteration', [663, 607, 545, 465, 527], 561.4)\n",
      "('train', array([0.8778659 , 0.87696861, 0.87555548, 0.87567884, 0.8752245 ]), 0.8762586648215704)\n",
      "('valid', array([0.86523356, 0.86619855, 0.86800518, 0.86403529, 0.86883318]), 0.8664611530538217)\n",
      "\n",
      "################################################## seed = 9\n",
      "cur time = 2018/12/05 17:33:51\n",
      "========================= seed = 9\n",
      "current whole valid auc = 0.8666105176992049\n",
      "bagging whole valid auc = 0.8671109166205728\n",
      "('best_iteration', [656, 426, 584, 406, 505], 515.4)\n",
      "('train', array([0.87783512, 0.87383204, 0.87623986, 0.87422888, 0.87542463]), 0.8755121063884799)\n",
      "('valid', array([0.8629309 , 0.87044503, 0.86663653, 0.86630108, 0.86728639]), 0.8667199857427843)\n",
      "\n",
      "##############################################\n",
      "### CV avergae result ###\n",
      "cur time = 2018/12/05 17:34:24\n",
      "train auc = 0.8756896771295815\n",
      "valid auc = 0.8666965863147564\n",
      "##############################################\n",
      "bagging whole valid auc = 0.8671109166205728\n"
     ]
    }
   ],
   "source": [
    "## X\n",
    "# private = 0.868443\n",
    "# public = 0.861826\n",
    "params = hyperopt_result['params'][0]\n",
    "bagging_meta_train, bagging_meta_test = cv_lgb(train_fea, test_fea, train_label, 10, 5, params)"
   ]
  },
  {
   "cell_type": "code",
   "execution_count": 79,
   "metadata": {},
   "outputs": [],
   "source": [
    "if not os.path.exists(path + '/meta/_result/'):\n",
    "    os.mkdir(path + '/meta/_result/')\n",
    "result = pd.DataFrame({col_id:test_id, col_label:bagging_meta_test})[[col_id, col_label]]\n",
    "result.to_csv(path + '/meta/_result/stacking_X.csv', index = False)"
   ]
  },
  {
   "cell_type": "code",
   "execution_count": null,
   "metadata": {},
   "outputs": [],
   "source": []
  },
  {
   "cell_type": "code",
   "execution_count": 60,
   "metadata": {
    "scrolled": true
   },
   "outputs": [
    {
     "name": "stdout",
     "output_type": "stream",
     "text": [
      "('train shape = ', (150000, 30), 'test shape = ', (101503, 30))\n",
      "\n",
      "################################################## seed = 0\n",
      "cur time = 2018/12/05 17:19:54\n",
      "========================= seed = 0\n",
      "current whole valid auc = 0.8649957718060267\n",
      "bagging whole valid auc = 0.8649957718060267\n",
      "('best_iteration', [150, 196, 238, 149, 128], 172.2)\n",
      "('train', array([0.86965654, 0.86938724, 0.87171617, 0.86975908, 0.86862844]), 0.8698294939510713)\n",
      "('valid', array([0.86515333, 0.86926961, 0.86365056, 0.8657203 , 0.86782497]), 0.866323754898238)\n",
      "\n",
      "################################################## seed = 1\n",
      "cur time = 2018/12/05 17:20:10\n",
      "========================= seed = 1\n",
      "current whole valid auc = 0.8657690167736859\n",
      "bagging whole valid auc = 0.8655608285846457\n",
      "('best_iteration', [153, 165, 154, 140, 149], 152.2)\n",
      "('train', array([0.8692896 , 0.8701563 , 0.86855841, 0.86875118, 0.87110416]), 0.8695719303528412)\n",
      "('valid', array([0.86675288, 0.86496007, 0.87083382, 0.86866487, 0.8601958 ]), 0.8662814884402424)\n",
      "\n",
      "################################################## seed = 2\n",
      "cur time = 2018/12/05 17:20:25\n",
      "========================= seed = 2\n",
      "current whole valid auc = 0.8646698235807841\n",
      "bagging whole valid auc = 0.8655821962929249\n",
      "('best_iteration', [126, 137, 165, 195, 383], 201.2)\n",
      "('train', array([0.86790381, 0.87015383, 0.86998868, 0.87052229, 0.87280727]), 0.8702751747236483)\n",
      "('valid', array([0.86944054, 0.86151961, 0.86485669, 0.86589142, 0.86950261]), 0.8662421740423024)\n",
      "\n",
      "################################################## seed = 3\n",
      "cur time = 2018/12/05 17:20:45\n",
      "========================= seed = 3\n",
      "current whole valid auc = 0.8630904829405909\n",
      "bagging whole valid auc = 0.8653002532763551\n",
      "('best_iteration', [189, 209, 157, 148, 103], 161.2)\n",
      "('train', array([0.87023666, 0.87135518, 0.86828772, 0.87107881, 0.86733711]), 0.8696590964475067)\n",
      "('valid', array([0.86730648, 0.86353837, 0.87137629, 0.85993863, 0.87023788]), 0.8664795310595812)\n",
      "\n",
      "################################################## seed = 4\n",
      "cur time = 2018/12/05 17:21:00\n",
      "========================= seed = 4\n",
      "current whole valid auc = 0.8647053239612927\n",
      "bagging whole valid auc = 0.8654109492922812\n",
      "('best_iteration', [195, 131, 146, 361, 132], 193.0)\n",
      "('train', array([0.87022461, 0.86911506, 0.86906748, 0.87427108, 0.86792502]), 0.8701206479676935)\n",
      "('valid', array([0.86641856, 0.86524369, 0.86755142, 0.86183292, 0.87089693]), 0.8663887050039343)\n",
      "\n",
      "################################################## seed = 5\n",
      "cur time = 2018/12/05 17:21:16\n",
      "========================= seed = 5\n",
      "current whole valid auc = 0.8648253064899794\n",
      "bagging whole valid auc = 0.86557409869607\n",
      "('best_iteration', [115, 137, 159, 254, 131], 159.2)\n",
      "('train', array([0.87012547, 0.870821  , 0.86873443, 0.86930369, 0.86909568]), 0.8696160532288879)\n",
      "('valid', array([0.85963481, 0.86053751, 0.86960123, 0.87431165, 0.86714405]), 0.8662458522287239)\n",
      "\n",
      "################################################## seed = 6\n",
      "cur time = 2018/12/05 17:21:31\n",
      "========================= seed = 6\n",
      "current whole valid auc = 0.8652434721205854\n",
      "bagging whole valid auc = 0.8656900616415238\n",
      "('best_iteration', [144, 149, 141, 307, 126], 173.4)\n",
      "('train', array([0.87031541, 0.8682563 , 0.86975816, 0.872757  , 0.86843857]), 0.86990508613925)\n",
      "('valid', array([0.86225849, 0.87104062, 0.86563114, 0.86519091, 0.86833276]), 0.8664907835099143)\n",
      "\n",
      "################################################## seed = 7\n",
      "cur time = 2018/12/05 17:21:45\n",
      "========================= seed = 7\n",
      "current whole valid auc = 0.8647144622603832\n",
      "bagging whole valid auc = 0.8657339845488561\n",
      "('best_iteration', [195, 155, 128, 115, 140], 146.6)\n",
      "('train', array([0.87087755, 0.86938493, 0.86855624, 0.86851766, 0.86888604]), 0.8692444819426625)\n",
      "('valid', array([0.86357641, 0.86697246, 0.86716815, 0.86702859, 0.86765954]), 0.8664810284908825)\n",
      "\n",
      "################################################## seed = 8\n",
      "cur time = 2018/12/05 17:21:58\n",
      "========================= seed = 8\n",
      "current whole valid auc = 0.8651256415403765\n",
      "bagging whole valid auc = 0.8657967986423035\n",
      "('best_iteration', [142, 127, 165, 269, 157], 172.0)\n",
      "('train', array([0.86962441, 0.86919097, 0.8693889 , 0.87235193, 0.86858319]), 0.8698278798634702)\n",
      "('valid', array([0.86491866, 0.86571785, 0.86802676, 0.86401967, 0.86954208]), 0.8664450038826983)\n",
      "\n",
      "################################################## seed = 9\n",
      "cur time = 2018/12/05 17:22:12\n",
      "========================= seed = 9\n",
      "current whole valid auc = 0.863435434224767\n",
      "bagging whole valid auc = 0.8656953079066456\n",
      "('best_iteration', [291, 141, 110, 180, 119], 168.2)\n",
      "('train', array([0.87290767, 0.86860252, 0.86856324, 0.87001791, 0.86881373]), 0.8697810143446025)\n",
      "('valid', array([0.86289947, 0.86934019, 0.86590512, 0.86598213, 0.86688826]), 0.866203034084131)\n",
      "\n",
      "##############################################\n",
      "### CV avergae result ###\n",
      "cur time = 2018/12/05 17:22:25\n",
      "train auc = 0.8697830858961635\n",
      "valid auc = 0.8663581355640647\n",
      "##############################################\n",
      "bagging whole valid auc = 0.8656953079066456\n"
     ]
    }
   ],
   "source": [
    "## X + meta\n",
    "# private = 0.868659\n",
    "# public = 0.862403\n",
    "params = hyperopt_result_2['params'][0]\n",
    "bagging_meta_train_2, bagging_meta_test_2 = cv_lgb(meta_train_fea, meta_test_fea, train_label, 10, 5, params)"
   ]
  },
  {
   "cell_type": "code",
   "execution_count": 62,
   "metadata": {},
   "outputs": [],
   "source": [
    "if not os.path.exists(path + '/meta/_result/'):\n",
    "    os.mkdir(path + '/meta/_result/')\n",
    "result = pd.DataFrame({col_id:test_id, col_label:bagging_meta_test_2})[[col_id, col_label]]\n",
    "result.to_csv(path + '/meta/_result/stacking_X_meta.csv', index = False)"
   ]
  },
  {
   "cell_type": "code",
   "execution_count": null,
   "metadata": {},
   "outputs": [],
   "source": []
  },
  {
   "cell_type": "code",
   "execution_count": null,
   "metadata": {},
   "outputs": [],
   "source": []
  },
  {
   "cell_type": "code",
   "execution_count": null,
   "metadata": {},
   "outputs": [],
   "source": []
  },
  {
   "cell_type": "code",
   "execution_count": null,
   "metadata": {},
   "outputs": [],
   "source": []
  },
  {
   "cell_type": "code",
   "execution_count": null,
   "metadata": {},
   "outputs": [],
   "source": []
  },
  {
   "cell_type": "code",
   "execution_count": null,
   "metadata": {},
   "outputs": [],
   "source": []
  },
  {
   "cell_type": "code",
   "execution_count": null,
   "metadata": {},
   "outputs": [],
   "source": []
  }
 ],
 "metadata": {
  "kernelspec": {
   "display_name": "Python 2",
   "language": "python",
   "name": "python2"
  },
  "language_info": {
   "codemirror_mode": {
    "name": "ipython",
    "version": 2
   },
   "file_extension": ".py",
   "mimetype": "text/x-python",
   "name": "python",
   "nbconvert_exporter": "python",
   "pygments_lexer": "ipython2",
   "version": "2.7.15"
  }
 },
 "nbformat": 4,
 "nbformat_minor": 2
}
