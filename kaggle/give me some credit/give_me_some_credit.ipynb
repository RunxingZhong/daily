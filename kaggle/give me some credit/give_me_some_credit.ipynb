{
 "cells": [
  {
   "cell_type": "code",
   "execution_count": 1,
   "metadata": {},
   "outputs": [
    {
     "data": {
      "text/plain": [
       "u'/mnt/disk0/home/zhongrunxing/jupyter_code'"
      ]
     },
     "execution_count": 1,
     "metadata": {},
     "output_type": "execute_result"
    }
   ],
   "source": [
    "%pwd"
   ]
  },
  {
   "cell_type": "code",
   "execution_count": 254,
   "metadata": {},
   "outputs": [],
   "source": [
    "import numpy as np\n",
    "import pandas as pd\n",
    "import lightgbm as lgb\n",
    "import matplotlib.pyplot as plt\n",
    "import seaborn as sns\n",
    "\n",
    "import os\n",
    "import gc\n",
    "import datetime\n",
    "from sklearn.cross_validation import train_test_split\n",
    "from sklearn.preprocessing import OneHotEncoder\n",
    "from sklearn.cross_validation import StratifiedKFold\n",
    "from sklearn.metrics import roc_auc_score\n",
    "from sklearn.ensemble import RandomForestClassifier\n",
    "\n",
    "import warnings\n",
    "warnings.filterwarnings(\"ignore\")\n"
   ]
  },
  {
   "cell_type": "markdown",
   "metadata": {},
   "source": [
    "# prepare data"
   ]
  },
  {
   "cell_type": "code",
   "execution_count": 3,
   "metadata": {},
   "outputs": [],
   "source": [
    "path = '/home/zhongrunxing/data/kaggle/give_me/'"
   ]
  },
  {
   "cell_type": "code",
   "execution_count": 4,
   "metadata": {},
   "outputs": [],
   "source": [
    "train = pd.read_csv(path + 'train.csv')\n",
    "test = pd.read_csv(path + 'test.csv')"
   ]
  },
  {
   "cell_type": "code",
   "execution_count": 5,
   "metadata": {},
   "outputs": [
    {
     "name": "stdout",
     "output_type": "stream",
     "text": [
      "((150000, 12), (101503, 12))\n"
     ]
    }
   ],
   "source": [
    "print(train.shape, test.shape)"
   ]
  },
  {
   "cell_type": "code",
   "execution_count": 6,
   "metadata": {},
   "outputs": [
    {
     "data": {
      "text/html": [
       "<div>\n",
       "<style scoped>\n",
       "    .dataframe tbody tr th:only-of-type {\n",
       "        vertical-align: middle;\n",
       "    }\n",
       "\n",
       "    .dataframe tbody tr th {\n",
       "        vertical-align: top;\n",
       "    }\n",
       "\n",
       "    .dataframe thead th {\n",
       "        text-align: right;\n",
       "    }\n",
       "</style>\n",
       "<table border=\"1\" class=\"dataframe\">\n",
       "  <thead>\n",
       "    <tr style=\"text-align: right;\">\n",
       "      <th></th>\n",
       "      <th>0</th>\n",
       "      <th>1</th>\n",
       "      <th>2</th>\n",
       "      <th>3</th>\n",
       "      <th>4</th>\n",
       "    </tr>\n",
       "  </thead>\n",
       "  <tbody>\n",
       "    <tr>\n",
       "      <th>Id</th>\n",
       "      <td>1.000000</td>\n",
       "      <td>2.000000</td>\n",
       "      <td>3.000000</td>\n",
       "      <td>4.00000</td>\n",
       "      <td>5.000000</td>\n",
       "    </tr>\n",
       "    <tr>\n",
       "      <th>Probability</th>\n",
       "      <td>1.000000</td>\n",
       "      <td>0.000000</td>\n",
       "      <td>0.000000</td>\n",
       "      <td>0.00000</td>\n",
       "      <td>0.000000</td>\n",
       "    </tr>\n",
       "    <tr>\n",
       "      <th>RevolvingUtilizationOfUnsecuredLines</th>\n",
       "      <td>0.766127</td>\n",
       "      <td>0.957151</td>\n",
       "      <td>0.658180</td>\n",
       "      <td>0.23381</td>\n",
       "      <td>0.907239</td>\n",
       "    </tr>\n",
       "    <tr>\n",
       "      <th>age</th>\n",
       "      <td>45.000000</td>\n",
       "      <td>40.000000</td>\n",
       "      <td>38.000000</td>\n",
       "      <td>30.00000</td>\n",
       "      <td>49.000000</td>\n",
       "    </tr>\n",
       "    <tr>\n",
       "      <th>NumberOfTime30-59DaysPastDueNotWorse</th>\n",
       "      <td>2.000000</td>\n",
       "      <td>0.000000</td>\n",
       "      <td>1.000000</td>\n",
       "      <td>0.00000</td>\n",
       "      <td>1.000000</td>\n",
       "    </tr>\n",
       "    <tr>\n",
       "      <th>DebtRatio</th>\n",
       "      <td>0.802982</td>\n",
       "      <td>0.121876</td>\n",
       "      <td>0.085113</td>\n",
       "      <td>0.03605</td>\n",
       "      <td>0.024926</td>\n",
       "    </tr>\n",
       "    <tr>\n",
       "      <th>MonthlyIncome</th>\n",
       "      <td>9120.000000</td>\n",
       "      <td>2600.000000</td>\n",
       "      <td>3042.000000</td>\n",
       "      <td>3300.00000</td>\n",
       "      <td>63588.000000</td>\n",
       "    </tr>\n",
       "    <tr>\n",
       "      <th>NumberOfOpenCreditLinesAndLoans</th>\n",
       "      <td>13.000000</td>\n",
       "      <td>4.000000</td>\n",
       "      <td>2.000000</td>\n",
       "      <td>5.00000</td>\n",
       "      <td>7.000000</td>\n",
       "    </tr>\n",
       "    <tr>\n",
       "      <th>NumberOfTimes90DaysLate</th>\n",
       "      <td>0.000000</td>\n",
       "      <td>0.000000</td>\n",
       "      <td>1.000000</td>\n",
       "      <td>0.00000</td>\n",
       "      <td>0.000000</td>\n",
       "    </tr>\n",
       "    <tr>\n",
       "      <th>NumberRealEstateLoansOrLines</th>\n",
       "      <td>6.000000</td>\n",
       "      <td>0.000000</td>\n",
       "      <td>0.000000</td>\n",
       "      <td>0.00000</td>\n",
       "      <td>1.000000</td>\n",
       "    </tr>\n",
       "    <tr>\n",
       "      <th>NumberOfTime60-89DaysPastDueNotWorse</th>\n",
       "      <td>0.000000</td>\n",
       "      <td>0.000000</td>\n",
       "      <td>0.000000</td>\n",
       "      <td>0.00000</td>\n",
       "      <td>0.000000</td>\n",
       "    </tr>\n",
       "    <tr>\n",
       "      <th>NumberOfDependents</th>\n",
       "      <td>2.000000</td>\n",
       "      <td>1.000000</td>\n",
       "      <td>0.000000</td>\n",
       "      <td>0.00000</td>\n",
       "      <td>0.000000</td>\n",
       "    </tr>\n",
       "  </tbody>\n",
       "</table>\n",
       "</div>"
      ],
      "text/plain": [
       "                                                0            1            2  \\\n",
       "Id                                       1.000000     2.000000     3.000000   \n",
       "Probability                              1.000000     0.000000     0.000000   \n",
       "RevolvingUtilizationOfUnsecuredLines     0.766127     0.957151     0.658180   \n",
       "age                                     45.000000    40.000000    38.000000   \n",
       "NumberOfTime30-59DaysPastDueNotWorse     2.000000     0.000000     1.000000   \n",
       "DebtRatio                                0.802982     0.121876     0.085113   \n",
       "MonthlyIncome                         9120.000000  2600.000000  3042.000000   \n",
       "NumberOfOpenCreditLinesAndLoans         13.000000     4.000000     2.000000   \n",
       "NumberOfTimes90DaysLate                  0.000000     0.000000     1.000000   \n",
       "NumberRealEstateLoansOrLines             6.000000     0.000000     0.000000   \n",
       "NumberOfTime60-89DaysPastDueNotWorse     0.000000     0.000000     0.000000   \n",
       "NumberOfDependents                       2.000000     1.000000     0.000000   \n",
       "\n",
       "                                               3             4  \n",
       "Id                                       4.00000      5.000000  \n",
       "Probability                              0.00000      0.000000  \n",
       "RevolvingUtilizationOfUnsecuredLines     0.23381      0.907239  \n",
       "age                                     30.00000     49.000000  \n",
       "NumberOfTime30-59DaysPastDueNotWorse     0.00000      1.000000  \n",
       "DebtRatio                                0.03605      0.024926  \n",
       "MonthlyIncome                         3300.00000  63588.000000  \n",
       "NumberOfOpenCreditLinesAndLoans          5.00000      7.000000  \n",
       "NumberOfTimes90DaysLate                  0.00000      0.000000  \n",
       "NumberRealEstateLoansOrLines             0.00000      1.000000  \n",
       "NumberOfTime60-89DaysPastDueNotWorse     0.00000      0.000000  \n",
       "NumberOfDependents                       0.00000      0.000000  "
      ]
     },
     "execution_count": 6,
     "metadata": {},
     "output_type": "execute_result"
    }
   ],
   "source": [
    "train.head().T"
   ]
  },
  {
   "cell_type": "code",
   "execution_count": 7,
   "metadata": {},
   "outputs": [
    {
     "data": {
      "text/html": [
       "<div>\n",
       "<style scoped>\n",
       "    .dataframe tbody tr th:only-of-type {\n",
       "        vertical-align: middle;\n",
       "    }\n",
       "\n",
       "    .dataframe tbody tr th {\n",
       "        vertical-align: top;\n",
       "    }\n",
       "\n",
       "    .dataframe thead th {\n",
       "        text-align: right;\n",
       "    }\n",
       "</style>\n",
       "<table border=\"1\" class=\"dataframe\">\n",
       "  <thead>\n",
       "    <tr style=\"text-align: right;\">\n",
       "      <th></th>\n",
       "      <th>0</th>\n",
       "      <th>1</th>\n",
       "      <th>2</th>\n",
       "      <th>3</th>\n",
       "      <th>4</th>\n",
       "    </tr>\n",
       "  </thead>\n",
       "  <tbody>\n",
       "    <tr>\n",
       "      <th>Id</th>\n",
       "      <td>1.000000</td>\n",
       "      <td>2.000000</td>\n",
       "      <td>3.000000</td>\n",
       "      <td>4.000000</td>\n",
       "      <td>5.000000</td>\n",
       "    </tr>\n",
       "    <tr>\n",
       "      <th>Probability</th>\n",
       "      <td>NaN</td>\n",
       "      <td>NaN</td>\n",
       "      <td>NaN</td>\n",
       "      <td>NaN</td>\n",
       "      <td>NaN</td>\n",
       "    </tr>\n",
       "    <tr>\n",
       "      <th>RevolvingUtilizationOfUnsecuredLines</th>\n",
       "      <td>0.885519</td>\n",
       "      <td>0.463295</td>\n",
       "      <td>0.043275</td>\n",
       "      <td>0.280308</td>\n",
       "      <td>1.000000</td>\n",
       "    </tr>\n",
       "    <tr>\n",
       "      <th>age</th>\n",
       "      <td>43.000000</td>\n",
       "      <td>57.000000</td>\n",
       "      <td>59.000000</td>\n",
       "      <td>38.000000</td>\n",
       "      <td>27.000000</td>\n",
       "    </tr>\n",
       "    <tr>\n",
       "      <th>NumberOfTime30-59DaysPastDueNotWorse</th>\n",
       "      <td>0.000000</td>\n",
       "      <td>0.000000</td>\n",
       "      <td>0.000000</td>\n",
       "      <td>1.000000</td>\n",
       "      <td>0.000000</td>\n",
       "    </tr>\n",
       "    <tr>\n",
       "      <th>DebtRatio</th>\n",
       "      <td>0.177513</td>\n",
       "      <td>0.527237</td>\n",
       "      <td>0.687648</td>\n",
       "      <td>0.925961</td>\n",
       "      <td>0.019917</td>\n",
       "    </tr>\n",
       "    <tr>\n",
       "      <th>MonthlyIncome</th>\n",
       "      <td>5700.000000</td>\n",
       "      <td>9141.000000</td>\n",
       "      <td>5083.000000</td>\n",
       "      <td>3200.000000</td>\n",
       "      <td>3865.000000</td>\n",
       "    </tr>\n",
       "    <tr>\n",
       "      <th>NumberOfOpenCreditLinesAndLoans</th>\n",
       "      <td>4.000000</td>\n",
       "      <td>15.000000</td>\n",
       "      <td>12.000000</td>\n",
       "      <td>7.000000</td>\n",
       "      <td>4.000000</td>\n",
       "    </tr>\n",
       "    <tr>\n",
       "      <th>NumberOfTimes90DaysLate</th>\n",
       "      <td>0.000000</td>\n",
       "      <td>0.000000</td>\n",
       "      <td>0.000000</td>\n",
       "      <td>0.000000</td>\n",
       "      <td>0.000000</td>\n",
       "    </tr>\n",
       "    <tr>\n",
       "      <th>NumberRealEstateLoansOrLines</th>\n",
       "      <td>0.000000</td>\n",
       "      <td>4.000000</td>\n",
       "      <td>1.000000</td>\n",
       "      <td>2.000000</td>\n",
       "      <td>0.000000</td>\n",
       "    </tr>\n",
       "    <tr>\n",
       "      <th>NumberOfTime60-89DaysPastDueNotWorse</th>\n",
       "      <td>0.000000</td>\n",
       "      <td>0.000000</td>\n",
       "      <td>0.000000</td>\n",
       "      <td>0.000000</td>\n",
       "      <td>0.000000</td>\n",
       "    </tr>\n",
       "    <tr>\n",
       "      <th>NumberOfDependents</th>\n",
       "      <td>0.000000</td>\n",
       "      <td>2.000000</td>\n",
       "      <td>2.000000</td>\n",
       "      <td>0.000000</td>\n",
       "      <td>1.000000</td>\n",
       "    </tr>\n",
       "  </tbody>\n",
       "</table>\n",
       "</div>"
      ],
      "text/plain": [
       "                                                0            1            2  \\\n",
       "Id                                       1.000000     2.000000     3.000000   \n",
       "Probability                                   NaN          NaN          NaN   \n",
       "RevolvingUtilizationOfUnsecuredLines     0.885519     0.463295     0.043275   \n",
       "age                                     43.000000    57.000000    59.000000   \n",
       "NumberOfTime30-59DaysPastDueNotWorse     0.000000     0.000000     0.000000   \n",
       "DebtRatio                                0.177513     0.527237     0.687648   \n",
       "MonthlyIncome                         5700.000000  9141.000000  5083.000000   \n",
       "NumberOfOpenCreditLinesAndLoans          4.000000    15.000000    12.000000   \n",
       "NumberOfTimes90DaysLate                  0.000000     0.000000     0.000000   \n",
       "NumberRealEstateLoansOrLines             0.000000     4.000000     1.000000   \n",
       "NumberOfTime60-89DaysPastDueNotWorse     0.000000     0.000000     0.000000   \n",
       "NumberOfDependents                       0.000000     2.000000     2.000000   \n",
       "\n",
       "                                                3            4  \n",
       "Id                                       4.000000     5.000000  \n",
       "Probability                                   NaN          NaN  \n",
       "RevolvingUtilizationOfUnsecuredLines     0.280308     1.000000  \n",
       "age                                     38.000000    27.000000  \n",
       "NumberOfTime30-59DaysPastDueNotWorse     1.000000     0.000000  \n",
       "DebtRatio                                0.925961     0.019917  \n",
       "MonthlyIncome                         3200.000000  3865.000000  \n",
       "NumberOfOpenCreditLinesAndLoans          7.000000     4.000000  \n",
       "NumberOfTimes90DaysLate                  0.000000     0.000000  \n",
       "NumberRealEstateLoansOrLines             2.000000     0.000000  \n",
       "NumberOfTime60-89DaysPastDueNotWorse     0.000000     0.000000  \n",
       "NumberOfDependents                       0.000000     1.000000  "
      ]
     },
     "execution_count": 7,
     "metadata": {},
     "output_type": "execute_result"
    }
   ],
   "source": [
    "test.head().T"
   ]
  },
  {
   "cell_type": "code",
   "execution_count": 8,
   "metadata": {},
   "outputs": [
    {
     "data": {
      "text/html": [
       "<div>\n",
       "<style scoped>\n",
       "    .dataframe tbody tr th:only-of-type {\n",
       "        vertical-align: middle;\n",
       "    }\n",
       "\n",
       "    .dataframe tbody tr th {\n",
       "        vertical-align: top;\n",
       "    }\n",
       "\n",
       "    .dataframe thead th {\n",
       "        text-align: right;\n",
       "    }\n",
       "</style>\n",
       "<table border=\"1\" class=\"dataframe\">\n",
       "  <thead>\n",
       "    <tr style=\"text-align: right;\">\n",
       "      <th></th>\n",
       "      <th>count</th>\n",
       "      <th>mean</th>\n",
       "      <th>std</th>\n",
       "      <th>min</th>\n",
       "      <th>25%</th>\n",
       "      <th>50%</th>\n",
       "      <th>75%</th>\n",
       "      <th>max</th>\n",
       "    </tr>\n",
       "  </thead>\n",
       "  <tbody>\n",
       "    <tr>\n",
       "      <th>Id</th>\n",
       "      <td>150000.0</td>\n",
       "      <td>75000.500000</td>\n",
       "      <td>43301.414527</td>\n",
       "      <td>1.0</td>\n",
       "      <td>37500.750000</td>\n",
       "      <td>75000.500000</td>\n",
       "      <td>112500.250000</td>\n",
       "      <td>150000.0</td>\n",
       "    </tr>\n",
       "    <tr>\n",
       "      <th>Probability</th>\n",
       "      <td>150000.0</td>\n",
       "      <td>0.066840</td>\n",
       "      <td>0.249746</td>\n",
       "      <td>0.0</td>\n",
       "      <td>0.000000</td>\n",
       "      <td>0.000000</td>\n",
       "      <td>0.000000</td>\n",
       "      <td>1.0</td>\n",
       "    </tr>\n",
       "    <tr>\n",
       "      <th>RevolvingUtilizationOfUnsecuredLines</th>\n",
       "      <td>150000.0</td>\n",
       "      <td>6.048438</td>\n",
       "      <td>249.755371</td>\n",
       "      <td>0.0</td>\n",
       "      <td>0.029867</td>\n",
       "      <td>0.154181</td>\n",
       "      <td>0.559046</td>\n",
       "      <td>50708.0</td>\n",
       "    </tr>\n",
       "    <tr>\n",
       "      <th>age</th>\n",
       "      <td>150000.0</td>\n",
       "      <td>52.295207</td>\n",
       "      <td>14.771866</td>\n",
       "      <td>0.0</td>\n",
       "      <td>41.000000</td>\n",
       "      <td>52.000000</td>\n",
       "      <td>63.000000</td>\n",
       "      <td>109.0</td>\n",
       "    </tr>\n",
       "    <tr>\n",
       "      <th>NumberOfTime30-59DaysPastDueNotWorse</th>\n",
       "      <td>150000.0</td>\n",
       "      <td>0.421033</td>\n",
       "      <td>4.192781</td>\n",
       "      <td>0.0</td>\n",
       "      <td>0.000000</td>\n",
       "      <td>0.000000</td>\n",
       "      <td>0.000000</td>\n",
       "      <td>98.0</td>\n",
       "    </tr>\n",
       "    <tr>\n",
       "      <th>DebtRatio</th>\n",
       "      <td>150000.0</td>\n",
       "      <td>353.005076</td>\n",
       "      <td>2037.818523</td>\n",
       "      <td>0.0</td>\n",
       "      <td>0.175074</td>\n",
       "      <td>0.366508</td>\n",
       "      <td>0.868254</td>\n",
       "      <td>329664.0</td>\n",
       "    </tr>\n",
       "    <tr>\n",
       "      <th>MonthlyIncome</th>\n",
       "      <td>120269.0</td>\n",
       "      <td>6670.221237</td>\n",
       "      <td>14384.674215</td>\n",
       "      <td>0.0</td>\n",
       "      <td>3400.000000</td>\n",
       "      <td>5400.000000</td>\n",
       "      <td>8249.000000</td>\n",
       "      <td>3008750.0</td>\n",
       "    </tr>\n",
       "    <tr>\n",
       "      <th>NumberOfOpenCreditLinesAndLoans</th>\n",
       "      <td>150000.0</td>\n",
       "      <td>8.452760</td>\n",
       "      <td>5.145951</td>\n",
       "      <td>0.0</td>\n",
       "      <td>5.000000</td>\n",
       "      <td>8.000000</td>\n",
       "      <td>11.000000</td>\n",
       "      <td>58.0</td>\n",
       "    </tr>\n",
       "    <tr>\n",
       "      <th>NumberOfTimes90DaysLate</th>\n",
       "      <td>150000.0</td>\n",
       "      <td>0.265973</td>\n",
       "      <td>4.169304</td>\n",
       "      <td>0.0</td>\n",
       "      <td>0.000000</td>\n",
       "      <td>0.000000</td>\n",
       "      <td>0.000000</td>\n",
       "      <td>98.0</td>\n",
       "    </tr>\n",
       "    <tr>\n",
       "      <th>NumberRealEstateLoansOrLines</th>\n",
       "      <td>150000.0</td>\n",
       "      <td>1.018240</td>\n",
       "      <td>1.129771</td>\n",
       "      <td>0.0</td>\n",
       "      <td>0.000000</td>\n",
       "      <td>1.000000</td>\n",
       "      <td>2.000000</td>\n",
       "      <td>54.0</td>\n",
       "    </tr>\n",
       "    <tr>\n",
       "      <th>NumberOfTime60-89DaysPastDueNotWorse</th>\n",
       "      <td>150000.0</td>\n",
       "      <td>0.240387</td>\n",
       "      <td>4.155179</td>\n",
       "      <td>0.0</td>\n",
       "      <td>0.000000</td>\n",
       "      <td>0.000000</td>\n",
       "      <td>0.000000</td>\n",
       "      <td>98.0</td>\n",
       "    </tr>\n",
       "    <tr>\n",
       "      <th>NumberOfDependents</th>\n",
       "      <td>146076.0</td>\n",
       "      <td>0.757222</td>\n",
       "      <td>1.115086</td>\n",
       "      <td>0.0</td>\n",
       "      <td>0.000000</td>\n",
       "      <td>0.000000</td>\n",
       "      <td>1.000000</td>\n",
       "      <td>20.0</td>\n",
       "    </tr>\n",
       "  </tbody>\n",
       "</table>\n",
       "</div>"
      ],
      "text/plain": [
       "                                         count          mean           std  \\\n",
       "Id                                    150000.0  75000.500000  43301.414527   \n",
       "Probability                           150000.0      0.066840      0.249746   \n",
       "RevolvingUtilizationOfUnsecuredLines  150000.0      6.048438    249.755371   \n",
       "age                                   150000.0     52.295207     14.771866   \n",
       "NumberOfTime30-59DaysPastDueNotWorse  150000.0      0.421033      4.192781   \n",
       "DebtRatio                             150000.0    353.005076   2037.818523   \n",
       "MonthlyIncome                         120269.0   6670.221237  14384.674215   \n",
       "NumberOfOpenCreditLinesAndLoans       150000.0      8.452760      5.145951   \n",
       "NumberOfTimes90DaysLate               150000.0      0.265973      4.169304   \n",
       "NumberRealEstateLoansOrLines          150000.0      1.018240      1.129771   \n",
       "NumberOfTime60-89DaysPastDueNotWorse  150000.0      0.240387      4.155179   \n",
       "NumberOfDependents                    146076.0      0.757222      1.115086   \n",
       "\n",
       "                                      min           25%           50%  \\\n",
       "Id                                    1.0  37500.750000  75000.500000   \n",
       "Probability                           0.0      0.000000      0.000000   \n",
       "RevolvingUtilizationOfUnsecuredLines  0.0      0.029867      0.154181   \n",
       "age                                   0.0     41.000000     52.000000   \n",
       "NumberOfTime30-59DaysPastDueNotWorse  0.0      0.000000      0.000000   \n",
       "DebtRatio                             0.0      0.175074      0.366508   \n",
       "MonthlyIncome                         0.0   3400.000000   5400.000000   \n",
       "NumberOfOpenCreditLinesAndLoans       0.0      5.000000      8.000000   \n",
       "NumberOfTimes90DaysLate               0.0      0.000000      0.000000   \n",
       "NumberRealEstateLoansOrLines          0.0      0.000000      1.000000   \n",
       "NumberOfTime60-89DaysPastDueNotWorse  0.0      0.000000      0.000000   \n",
       "NumberOfDependents                    0.0      0.000000      0.000000   \n",
       "\n",
       "                                                75%        max  \n",
       "Id                                    112500.250000   150000.0  \n",
       "Probability                                0.000000        1.0  \n",
       "RevolvingUtilizationOfUnsecuredLines       0.559046    50708.0  \n",
       "age                                       63.000000      109.0  \n",
       "NumberOfTime30-59DaysPastDueNotWorse       0.000000       98.0  \n",
       "DebtRatio                                  0.868254   329664.0  \n",
       "MonthlyIncome                           8249.000000  3008750.0  \n",
       "NumberOfOpenCreditLinesAndLoans           11.000000       58.0  \n",
       "NumberOfTimes90DaysLate                    0.000000       98.0  \n",
       "NumberRealEstateLoansOrLines               2.000000       54.0  \n",
       "NumberOfTime60-89DaysPastDueNotWorse       0.000000       98.0  \n",
       "NumberOfDependents                         1.000000       20.0  "
      ]
     },
     "execution_count": 8,
     "metadata": {},
     "output_type": "execute_result"
    }
   ],
   "source": [
    "train.describe().T"
   ]
  },
  {
   "cell_type": "code",
   "execution_count": 9,
   "metadata": {},
   "outputs": [
    {
     "data": {
      "text/plain": [
       "Id                                        int64\n",
       "Probability                               int64\n",
       "RevolvingUtilizationOfUnsecuredLines    float64\n",
       "age                                       int64\n",
       "NumberOfTime30-59DaysPastDueNotWorse      int64\n",
       "DebtRatio                               float64\n",
       "MonthlyIncome                           float64\n",
       "NumberOfOpenCreditLinesAndLoans           int64\n",
       "NumberOfTimes90DaysLate                   int64\n",
       "NumberRealEstateLoansOrLines              int64\n",
       "NumberOfTime60-89DaysPastDueNotWorse      int64\n",
       "NumberOfDependents                      float64\n",
       "dtype: object"
      ]
     },
     "execution_count": 9,
     "metadata": {},
     "output_type": "execute_result"
    }
   ],
   "source": [
    "train.dtypes"
   ]
  },
  {
   "cell_type": "code",
   "execution_count": 10,
   "metadata": {},
   "outputs": [],
   "source": [
    "col_id = 'Id'\n",
    "col_label = 'Probability'\n",
    "col_fea = [col for col in train.columns if col not in [col_id, col_label]]"
   ]
  },
  {
   "cell_type": "code",
   "execution_count": 11,
   "metadata": {},
   "outputs": [
    {
     "data": {
      "text/plain": [
       "((150000, 12), (101503, 12))"
      ]
     },
     "execution_count": 11,
     "metadata": {},
     "output_type": "execute_result"
    }
   ],
   "source": [
    "train.shape, test.shape"
   ]
  },
  {
   "cell_type": "code",
   "execution_count": 12,
   "metadata": {},
   "outputs": [
    {
     "data": {
      "text/plain": [
       "'14,400,072 Bytes'"
      ]
     },
     "execution_count": 12,
     "metadata": {},
     "output_type": "execute_result"
    }
   ],
   "source": [
    "'{:,.0f} Bytes'.format(train.memory_usage(deep=True).sum())"
   ]
  },
  {
   "cell_type": "code",
   "execution_count": 13,
   "metadata": {},
   "outputs": [
    {
     "name": "stdout",
     "output_type": "stream",
     "text": [
      "<class 'pandas.core.frame.DataFrame'>\n",
      "RangeIndex: 150000 entries, 0 to 149999\n",
      "Data columns (total 12 columns):\n",
      "Id                                      150000 non-null int64\n",
      "Probability                             150000 non-null int64\n",
      "RevolvingUtilizationOfUnsecuredLines    150000 non-null float64\n",
      "age                                     150000 non-null int64\n",
      "NumberOfTime30-59DaysPastDueNotWorse    150000 non-null int64\n",
      "DebtRatio                               150000 non-null float64\n",
      "MonthlyIncome                           120269 non-null float64\n",
      "NumberOfOpenCreditLinesAndLoans         150000 non-null int64\n",
      "NumberOfTimes90DaysLate                 150000 non-null int64\n",
      "NumberRealEstateLoansOrLines            150000 non-null int64\n",
      "NumberOfTime60-89DaysPastDueNotWorse    150000 non-null int64\n",
      "NumberOfDependents                      146076 non-null float64\n",
      "dtypes: float64(4), int64(8)\n",
      "memory usage: 13.7 MB\n"
     ]
    }
   ],
   "source": [
    "train.info()"
   ]
  },
  {
   "cell_type": "markdown",
   "metadata": {},
   "source": [
    "# <font color = 'red'> simple baseline </font>"
   ]
  },
  {
   "cell_type": "code",
   "execution_count": 20,
   "metadata": {},
   "outputs": [
    {
     "name": "stdout",
     "output_type": "stream",
     "text": [
      "\n",
      "################################################## seed = 0\n",
      "cur time = 2018/11/20 16:55:22\n",
      "========================= seed = 0\n",
      "current whole valid auc = 0.8657359323472548\n",
      "bagging whole valid auc = 0.8657359323472548\n",
      "('best_iteration', [261, 145, 137, 237, 217], 199.4)\n",
      "('train', array([0.89780202, 0.88374393, 0.88373328, 0.89444568, 0.89145291]), 0.8902355625568568)\n",
      "('valid', array([0.8644881 , 0.86830905, 0.86391065, 0.86459549, 0.8679837 ]), 0.8658573978087439)\n",
      "\n",
      "##############################################\n",
      "### CV avergae result ###\n",
      "cur time = 2018/11/20 16:55:39\n",
      "train auc = 0.8902355625568568\n",
      "valid auc = 0.8658573978087439\n",
      "##############################################\n",
      "bagging whole valid auc = 0.8657359323472548\n"
     ]
    }
   ],
   "source": [
    "## defaut params, bagging whole valid auc = 0.8657359323472548\n",
    "meta_train, meta_test = cv_lgb(train[col_fea], test[col_fea], train[col_label], 1, 5)"
   ]
  },
  {
   "cell_type": "code",
   "execution_count": null,
   "metadata": {},
   "outputs": [],
   "source": []
  },
  {
   "cell_type": "markdown",
   "metadata": {},
   "source": [
    "# remove outlier"
   ]
  },
  {
   "cell_type": "code",
   "execution_count": 30,
   "metadata": {},
   "outputs": [
    {
     "data": {
      "text/plain": [
       "Index([u'Id', u'Probability', u'RevolvingUtilizationOfUnsecuredLines', u'age',\n",
       "       u'NumberOfTime30-59DaysPastDueNotWorse', u'DebtRatio', u'MonthlyIncome',\n",
       "       u'NumberOfOpenCreditLinesAndLoans', u'NumberOfTimes90DaysLate',\n",
       "       u'NumberRealEstateLoansOrLines',\n",
       "       u'NumberOfTime60-89DaysPastDueNotWorse', u'NumberOfDependents'],\n",
       "      dtype='object')"
      ]
     },
     "execution_count": 30,
     "metadata": {},
     "output_type": "execute_result"
    }
   ],
   "source": [
    "train.columns"
   ]
  },
  {
   "cell_type": "code",
   "execution_count": 31,
   "metadata": {},
   "outputs": [],
   "source": [
    "#异常值过滤\n",
    "df_x = train.copy()\n",
    "df_x['age'][df_x[\"DebtRatio\"]>1] = 1\n",
    "\n",
    "df_x_test = test.copy()\n",
    "df_x_test['age'][df_x_test[\"DebtRatio\"]>1] = 1\n",
    "\n",
    "\n",
    "# df_x[df_x[\"age\"]<=0] = df_x[\"age\"].mean()\n",
    "# df_x[df_x[\"NumberOfTime30-59DaysPastDueNotWorse\"]>80] = 80  \n",
    "# df_x[df_x[\"NumberRealEstateLoansOrLines\"]>50] = 50"
   ]
  },
  {
   "cell_type": "code",
   "execution_count": 32,
   "metadata": {},
   "outputs": [
    {
     "name": "stdout",
     "output_type": "stream",
     "text": [
      "\n",
      "################################################## seed = 0\n",
      "cur time = 2018/11/20 14:37:14\n",
      "========================= seed = 0\n",
      "current whole valid auc = 0.8643725379553904\n",
      "bagging whole valid auc = 0.8643725379553904\n",
      "('best_iteration', [205, 187, 207, 171, 142], 182.4)\n",
      "('train', array([0.89059954, 0.88765012, 0.89058097, 0.88627578, 0.88182945]), 0.8873871738933412)\n",
      "('valid', array([0.86367513, 0.86710592, 0.86242083, 0.86273999, 0.86658889]), 0.8645061499687905)\n",
      "\n",
      "##############################################\n",
      "### CV avergae result ###\n",
      "cur time = 2018/11/20 14:37:30\n",
      "train auc = 0.8873871738933412\n",
      "valid auc = 0.8645061499687905\n",
      "##############################################\n",
      "bagging whole valid auc = 0.8643725379553904\n"
     ]
    }
   ],
   "source": [
    "# ##############################################\n",
    "# ### CV avergae result ###\n",
    "# cur time = 2018/11/13 19:59:26\n",
    "# train auc = 0.8777210819505399\n",
    "# valid auc = 0.8667551354583244\n",
    "# ##############################################\n",
    "# bagging whole valid auc = 0.8667054104325682\n",
    "\n",
    "meta_train, meta_test = cv_lgb(df_x[col_fea], df_x_test[col_fea], df_x[col_label], 1, 5)"
   ]
  },
  {
   "cell_type": "code",
   "execution_count": 436,
   "metadata": {},
   "outputs": [
    {
     "data": {
      "text/plain": [
       "(23578, (101503, 12))"
      ]
     },
     "execution_count": 436,
     "metadata": {},
     "output_type": "execute_result"
    }
   ],
   "source": [
    "(test['DebtRatio'] > 1).sum(), test.shape"
   ]
  },
  {
   "cell_type": "code",
   "execution_count": 437,
   "metadata": {},
   "outputs": [],
   "source": [
    "result = pd.DataFrame({col_id:test[col_id], col_label:meta_test})[[col_id, col_label]]\n",
    "result.to_csv(path + '/result/baseline_lgb_clip_age.csv', index = False)"
   ]
  },
  {
   "cell_type": "code",
   "execution_count": null,
   "metadata": {},
   "outputs": [],
   "source": []
  },
  {
   "cell_type": "markdown",
   "metadata": {},
   "source": [
    "# EDA"
   ]
  },
  {
   "cell_type": "code",
   "execution_count": 30,
   "metadata": {},
   "outputs": [
    {
     "data": {
      "text/plain": [
       "0    139974\n",
       "1     10026\n",
       "Name: Probability, dtype: int64"
      ]
     },
     "execution_count": 30,
     "metadata": {},
     "output_type": "execute_result"
    }
   ],
   "source": [
    "train[col_label].value_counts()"
   ]
  },
  {
   "cell_type": "code",
   "execution_count": 35,
   "metadata": {
    "scrolled": false
   },
   "outputs": [
    {
     "data": {
      "text/html": [
       "<div>\n",
       "<style scoped>\n",
       "    .dataframe tbody tr th:only-of-type {\n",
       "        vertical-align: middle;\n",
       "    }\n",
       "\n",
       "    .dataframe tbody tr th {\n",
       "        vertical-align: top;\n",
       "    }\n",
       "\n",
       "    .dataframe thead th {\n",
       "        text-align: right;\n",
       "    }\n",
       "</style>\n",
       "<table border=\"1\" class=\"dataframe\">\n",
       "  <thead>\n",
       "    <tr style=\"text-align: right;\">\n",
       "      <th></th>\n",
       "      <th>count</th>\n",
       "      <th>mean</th>\n",
       "      <th>std</th>\n",
       "      <th>min</th>\n",
       "      <th>25%</th>\n",
       "      <th>50%</th>\n",
       "      <th>75%</th>\n",
       "      <th>max</th>\n",
       "    </tr>\n",
       "  </thead>\n",
       "  <tbody>\n",
       "    <tr>\n",
       "      <th>Id</th>\n",
       "      <td>150000.0</td>\n",
       "      <td>75000.500000</td>\n",
       "      <td>43301.414527</td>\n",
       "      <td>1.0</td>\n",
       "      <td>37500.750000</td>\n",
       "      <td>75000.500000</td>\n",
       "      <td>112500.250000</td>\n",
       "      <td>150000.0</td>\n",
       "    </tr>\n",
       "    <tr>\n",
       "      <th>Probability</th>\n",
       "      <td>150000.0</td>\n",
       "      <td>0.066840</td>\n",
       "      <td>0.249746</td>\n",
       "      <td>0.0</td>\n",
       "      <td>0.000000</td>\n",
       "      <td>0.000000</td>\n",
       "      <td>0.000000</td>\n",
       "      <td>1.0</td>\n",
       "    </tr>\n",
       "    <tr>\n",
       "      <th>RevolvingUtilizationOfUnsecuredLines</th>\n",
       "      <td>150000.0</td>\n",
       "      <td>6.048438</td>\n",
       "      <td>249.755371</td>\n",
       "      <td>0.0</td>\n",
       "      <td>0.029867</td>\n",
       "      <td>0.154181</td>\n",
       "      <td>0.559046</td>\n",
       "      <td>50708.0</td>\n",
       "    </tr>\n",
       "    <tr>\n",
       "      <th>age</th>\n",
       "      <td>150000.0</td>\n",
       "      <td>52.295207</td>\n",
       "      <td>14.771866</td>\n",
       "      <td>0.0</td>\n",
       "      <td>41.000000</td>\n",
       "      <td>52.000000</td>\n",
       "      <td>63.000000</td>\n",
       "      <td>109.0</td>\n",
       "    </tr>\n",
       "    <tr>\n",
       "      <th>NumberOfTime30-59DaysPastDueNotWorse</th>\n",
       "      <td>150000.0</td>\n",
       "      <td>0.421033</td>\n",
       "      <td>4.192781</td>\n",
       "      <td>0.0</td>\n",
       "      <td>0.000000</td>\n",
       "      <td>0.000000</td>\n",
       "      <td>0.000000</td>\n",
       "      <td>98.0</td>\n",
       "    </tr>\n",
       "    <tr>\n",
       "      <th>DebtRatio</th>\n",
       "      <td>150000.0</td>\n",
       "      <td>353.005076</td>\n",
       "      <td>2037.818523</td>\n",
       "      <td>0.0</td>\n",
       "      <td>0.175074</td>\n",
       "      <td>0.366508</td>\n",
       "      <td>0.868254</td>\n",
       "      <td>329664.0</td>\n",
       "    </tr>\n",
       "    <tr>\n",
       "      <th>MonthlyIncome</th>\n",
       "      <td>120269.0</td>\n",
       "      <td>6670.221237</td>\n",
       "      <td>14384.674215</td>\n",
       "      <td>0.0</td>\n",
       "      <td>3400.000000</td>\n",
       "      <td>5400.000000</td>\n",
       "      <td>8249.000000</td>\n",
       "      <td>3008750.0</td>\n",
       "    </tr>\n",
       "    <tr>\n",
       "      <th>NumberOfOpenCreditLinesAndLoans</th>\n",
       "      <td>150000.0</td>\n",
       "      <td>8.452760</td>\n",
       "      <td>5.145951</td>\n",
       "      <td>0.0</td>\n",
       "      <td>5.000000</td>\n",
       "      <td>8.000000</td>\n",
       "      <td>11.000000</td>\n",
       "      <td>58.0</td>\n",
       "    </tr>\n",
       "    <tr>\n",
       "      <th>NumberOfTimes90DaysLate</th>\n",
       "      <td>150000.0</td>\n",
       "      <td>0.265973</td>\n",
       "      <td>4.169304</td>\n",
       "      <td>0.0</td>\n",
       "      <td>0.000000</td>\n",
       "      <td>0.000000</td>\n",
       "      <td>0.000000</td>\n",
       "      <td>98.0</td>\n",
       "    </tr>\n",
       "    <tr>\n",
       "      <th>NumberRealEstateLoansOrLines</th>\n",
       "      <td>150000.0</td>\n",
       "      <td>1.018240</td>\n",
       "      <td>1.129771</td>\n",
       "      <td>0.0</td>\n",
       "      <td>0.000000</td>\n",
       "      <td>1.000000</td>\n",
       "      <td>2.000000</td>\n",
       "      <td>54.0</td>\n",
       "    </tr>\n",
       "    <tr>\n",
       "      <th>NumberOfTime60-89DaysPastDueNotWorse</th>\n",
       "      <td>150000.0</td>\n",
       "      <td>0.240387</td>\n",
       "      <td>4.155179</td>\n",
       "      <td>0.0</td>\n",
       "      <td>0.000000</td>\n",
       "      <td>0.000000</td>\n",
       "      <td>0.000000</td>\n",
       "      <td>98.0</td>\n",
       "    </tr>\n",
       "    <tr>\n",
       "      <th>NumberOfDependents</th>\n",
       "      <td>146076.0</td>\n",
       "      <td>0.757222</td>\n",
       "      <td>1.115086</td>\n",
       "      <td>0.0</td>\n",
       "      <td>0.000000</td>\n",
       "      <td>0.000000</td>\n",
       "      <td>1.000000</td>\n",
       "      <td>20.0</td>\n",
       "    </tr>\n",
       "  </tbody>\n",
       "</table>\n",
       "</div>"
      ],
      "text/plain": [
       "                                         count          mean           std  \\\n",
       "Id                                    150000.0  75000.500000  43301.414527   \n",
       "Probability                           150000.0      0.066840      0.249746   \n",
       "RevolvingUtilizationOfUnsecuredLines  150000.0      6.048438    249.755371   \n",
       "age                                   150000.0     52.295207     14.771866   \n",
       "NumberOfTime30-59DaysPastDueNotWorse  150000.0      0.421033      4.192781   \n",
       "DebtRatio                             150000.0    353.005076   2037.818523   \n",
       "MonthlyIncome                         120269.0   6670.221237  14384.674215   \n",
       "NumberOfOpenCreditLinesAndLoans       150000.0      8.452760      5.145951   \n",
       "NumberOfTimes90DaysLate               150000.0      0.265973      4.169304   \n",
       "NumberRealEstateLoansOrLines          150000.0      1.018240      1.129771   \n",
       "NumberOfTime60-89DaysPastDueNotWorse  150000.0      0.240387      4.155179   \n",
       "NumberOfDependents                    146076.0      0.757222      1.115086   \n",
       "\n",
       "                                      min           25%           50%  \\\n",
       "Id                                    1.0  37500.750000  75000.500000   \n",
       "Probability                           0.0      0.000000      0.000000   \n",
       "RevolvingUtilizationOfUnsecuredLines  0.0      0.029867      0.154181   \n",
       "age                                   0.0     41.000000     52.000000   \n",
       "NumberOfTime30-59DaysPastDueNotWorse  0.0      0.000000      0.000000   \n",
       "DebtRatio                             0.0      0.175074      0.366508   \n",
       "MonthlyIncome                         0.0   3400.000000   5400.000000   \n",
       "NumberOfOpenCreditLinesAndLoans       0.0      5.000000      8.000000   \n",
       "NumberOfTimes90DaysLate               0.0      0.000000      0.000000   \n",
       "NumberRealEstateLoansOrLines          0.0      0.000000      1.000000   \n",
       "NumberOfTime60-89DaysPastDueNotWorse  0.0      0.000000      0.000000   \n",
       "NumberOfDependents                    0.0      0.000000      0.000000   \n",
       "\n",
       "                                                75%        max  \n",
       "Id                                    112500.250000   150000.0  \n",
       "Probability                                0.000000        1.0  \n",
       "RevolvingUtilizationOfUnsecuredLines       0.559046    50708.0  \n",
       "age                                       63.000000      109.0  \n",
       "NumberOfTime30-59DaysPastDueNotWorse       0.000000       98.0  \n",
       "DebtRatio                                  0.868254   329664.0  \n",
       "MonthlyIncome                           8249.000000  3008750.0  \n",
       "NumberOfOpenCreditLinesAndLoans           11.000000       58.0  \n",
       "NumberOfTimes90DaysLate                    0.000000       98.0  \n",
       "NumberRealEstateLoansOrLines               2.000000       54.0  \n",
       "NumberOfTime60-89DaysPastDueNotWorse       0.000000       98.0  \n",
       "NumberOfDependents                         1.000000       20.0  "
      ]
     },
     "execution_count": 35,
     "metadata": {},
     "output_type": "execute_result"
    }
   ],
   "source": [
    "train.describe().T"
   ]
  },
  {
   "cell_type": "code",
   "execution_count": 36,
   "metadata": {},
   "outputs": [
    {
     "data": {
      "text/plain": [
       "Index([u'Id', u'Probability', u'RevolvingUtilizationOfUnsecuredLines', u'age',\n",
       "       u'NumberOfTime30-59DaysPastDueNotWorse', u'DebtRatio', u'MonthlyIncome',\n",
       "       u'NumberOfOpenCreditLinesAndLoans', u'NumberOfTimes90DaysLate',\n",
       "       u'NumberRealEstateLoansOrLines',\n",
       "       u'NumberOfTime60-89DaysPastDueNotWorse', u'NumberOfDependents'],\n",
       "      dtype='object')"
      ]
     },
     "execution_count": 36,
     "metadata": {},
     "output_type": "execute_result"
    }
   ],
   "source": [
    "train.columns"
   ]
  },
  {
   "cell_type": "code",
   "execution_count": 24,
   "metadata": {},
   "outputs": [],
   "source": [
    "# https://cloud.tencent.com/developer/article/1092198\n",
    "# #数据指标解读\n",
    "# ID——用户编号\n",
    "# SeriousDlqin2yrs——好坏客户区分，这里以逾期90天为界，超过90天表示“坏客户”，用1表示是；未超过90天表示“好客户”，用0表示\n",
    "# RevolvingUtilizationOfUnsecuredLines——贷款以及信用卡可以用额度与总额度比值\n",
    "# age——借款人的年龄\n",
    "# NumberOfTime30-59DaysPastDueNotWorse——借款人逾期30-59天但过去两年不是坏账的次数（笔数）\n",
    "# DebtRatio——负债率，每月要支付的债务、赡养费、生活费占每月总收入的比值\n",
    "# MonthlyIncome——月收入\n",
    "# NumberOfOpenCreditLinesAndLoans——贷款和信用卡数量\n",
    "# NumberOfTimes90DaysLate——逾期90天的次数\n",
    "# NumberRealEstateLoansOrLines——固定资产贷款数量\n",
    "# NumberOfTime60-89DaysPastDueNotWorse——逾期60-89天次数\n",
    "# NumberOfDependents——家属数量"
   ]
  },
  {
   "cell_type": "code",
   "execution_count": null,
   "metadata": {},
   "outputs": [],
   "source": []
  },
  {
   "cell_type": "code",
   "execution_count": 41,
   "metadata": {},
   "outputs": [
    {
     "name": "stdout",
     "output_type": "stream",
     "text": [
      "<class 'pandas.core.frame.DataFrame'>\n",
      "RangeIndex: 150000 entries, 0 to 149999\n",
      "Data columns (total 12 columns):\n",
      "Id                                      150000 non-null int64\n",
      "Probability                             150000 non-null int64\n",
      "RevolvingUtilizationOfUnsecuredLines    150000 non-null float64\n",
      "age                                     150000 non-null int64\n",
      "NumberOfTime30-59DaysPastDueNotWorse    150000 non-null int64\n",
      "DebtRatio                               150000 non-null float64\n",
      "MonthlyIncome                           120269 non-null float64\n",
      "NumberOfOpenCreditLinesAndLoans         150000 non-null int64\n",
      "NumberOfTimes90DaysLate                 150000 non-null int64\n",
      "NumberRealEstateLoansOrLines            150000 non-null int64\n",
      "NumberOfTime60-89DaysPastDueNotWorse    150000 non-null int64\n",
      "NumberOfDependents                      146076 non-null float64\n",
      "dtypes: float64(4), int64(8)\n",
      "memory usage: 13.7 MB\n"
     ]
    }
   ],
   "source": [
    "train.info()"
   ]
  },
  {
   "cell_type": "code",
   "execution_count": null,
   "metadata": {},
   "outputs": [],
   "source": []
  },
  {
   "cell_type": "code",
   "execution_count": 48,
   "metadata": {},
   "outputs": [
    {
     "data": {
      "text/html": [
       "<div>\n",
       "<style scoped>\n",
       "    .dataframe tbody tr th:only-of-type {\n",
       "        vertical-align: middle;\n",
       "    }\n",
       "\n",
       "    .dataframe tbody tr th {\n",
       "        vertical-align: top;\n",
       "    }\n",
       "\n",
       "    .dataframe thead th {\n",
       "        text-align: right;\n",
       "    }\n",
       "</style>\n",
       "<table border=\"1\" class=\"dataframe\">\n",
       "  <thead>\n",
       "    <tr style=\"text-align: right;\">\n",
       "      <th></th>\n",
       "      <th>count</th>\n",
       "      <th>mean</th>\n",
       "      <th>std</th>\n",
       "      <th>min</th>\n",
       "      <th>25%</th>\n",
       "      <th>50%</th>\n",
       "      <th>75%</th>\n",
       "      <th>max</th>\n",
       "    </tr>\n",
       "  </thead>\n",
       "  <tbody>\n",
       "    <tr>\n",
       "      <th>Id</th>\n",
       "      <td>150000.0</td>\n",
       "      <td>75000.500000</td>\n",
       "      <td>43301.414527</td>\n",
       "      <td>1.0</td>\n",
       "      <td>37500.750000</td>\n",
       "      <td>75000.500000</td>\n",
       "      <td>112500.250000</td>\n",
       "      <td>150000.0</td>\n",
       "    </tr>\n",
       "    <tr>\n",
       "      <th>Probability</th>\n",
       "      <td>150000.0</td>\n",
       "      <td>0.066840</td>\n",
       "      <td>0.249746</td>\n",
       "      <td>0.0</td>\n",
       "      <td>0.000000</td>\n",
       "      <td>0.000000</td>\n",
       "      <td>0.000000</td>\n",
       "      <td>1.0</td>\n",
       "    </tr>\n",
       "    <tr>\n",
       "      <th>RevolvingUtilizationOfUnsecuredLines</th>\n",
       "      <td>150000.0</td>\n",
       "      <td>6.048438</td>\n",
       "      <td>249.755371</td>\n",
       "      <td>0.0</td>\n",
       "      <td>0.029867</td>\n",
       "      <td>0.154181</td>\n",
       "      <td>0.559046</td>\n",
       "      <td>50708.0</td>\n",
       "    </tr>\n",
       "    <tr>\n",
       "      <th>age</th>\n",
       "      <td>150000.0</td>\n",
       "      <td>52.295207</td>\n",
       "      <td>14.771866</td>\n",
       "      <td>0.0</td>\n",
       "      <td>41.000000</td>\n",
       "      <td>52.000000</td>\n",
       "      <td>63.000000</td>\n",
       "      <td>109.0</td>\n",
       "    </tr>\n",
       "    <tr>\n",
       "      <th>NumberOfTime30-59DaysPastDueNotWorse</th>\n",
       "      <td>150000.0</td>\n",
       "      <td>0.421033</td>\n",
       "      <td>4.192781</td>\n",
       "      <td>0.0</td>\n",
       "      <td>0.000000</td>\n",
       "      <td>0.000000</td>\n",
       "      <td>0.000000</td>\n",
       "      <td>98.0</td>\n",
       "    </tr>\n",
       "    <tr>\n",
       "      <th>DebtRatio</th>\n",
       "      <td>150000.0</td>\n",
       "      <td>353.005076</td>\n",
       "      <td>2037.818523</td>\n",
       "      <td>0.0</td>\n",
       "      <td>0.175074</td>\n",
       "      <td>0.366508</td>\n",
       "      <td>0.868254</td>\n",
       "      <td>329664.0</td>\n",
       "    </tr>\n",
       "    <tr>\n",
       "      <th>MonthlyIncome</th>\n",
       "      <td>120269.0</td>\n",
       "      <td>6670.221237</td>\n",
       "      <td>14384.674215</td>\n",
       "      <td>0.0</td>\n",
       "      <td>3400.000000</td>\n",
       "      <td>5400.000000</td>\n",
       "      <td>8249.000000</td>\n",
       "      <td>3008750.0</td>\n",
       "    </tr>\n",
       "    <tr>\n",
       "      <th>NumberOfOpenCreditLinesAndLoans</th>\n",
       "      <td>150000.0</td>\n",
       "      <td>8.452760</td>\n",
       "      <td>5.145951</td>\n",
       "      <td>0.0</td>\n",
       "      <td>5.000000</td>\n",
       "      <td>8.000000</td>\n",
       "      <td>11.000000</td>\n",
       "      <td>58.0</td>\n",
       "    </tr>\n",
       "    <tr>\n",
       "      <th>NumberOfTimes90DaysLate</th>\n",
       "      <td>150000.0</td>\n",
       "      <td>0.265973</td>\n",
       "      <td>4.169304</td>\n",
       "      <td>0.0</td>\n",
       "      <td>0.000000</td>\n",
       "      <td>0.000000</td>\n",
       "      <td>0.000000</td>\n",
       "      <td>98.0</td>\n",
       "    </tr>\n",
       "    <tr>\n",
       "      <th>NumberRealEstateLoansOrLines</th>\n",
       "      <td>150000.0</td>\n",
       "      <td>1.018240</td>\n",
       "      <td>1.129771</td>\n",
       "      <td>0.0</td>\n",
       "      <td>0.000000</td>\n",
       "      <td>1.000000</td>\n",
       "      <td>2.000000</td>\n",
       "      <td>54.0</td>\n",
       "    </tr>\n",
       "    <tr>\n",
       "      <th>NumberOfTime60-89DaysPastDueNotWorse</th>\n",
       "      <td>150000.0</td>\n",
       "      <td>0.240387</td>\n",
       "      <td>4.155179</td>\n",
       "      <td>0.0</td>\n",
       "      <td>0.000000</td>\n",
       "      <td>0.000000</td>\n",
       "      <td>0.000000</td>\n",
       "      <td>98.0</td>\n",
       "    </tr>\n",
       "    <tr>\n",
       "      <th>NumberOfDependents</th>\n",
       "      <td>146076.0</td>\n",
       "      <td>0.757222</td>\n",
       "      <td>1.115086</td>\n",
       "      <td>0.0</td>\n",
       "      <td>0.000000</td>\n",
       "      <td>0.000000</td>\n",
       "      <td>1.000000</td>\n",
       "      <td>20.0</td>\n",
       "    </tr>\n",
       "  </tbody>\n",
       "</table>\n",
       "</div>"
      ],
      "text/plain": [
       "                                         count          mean           std  \\\n",
       "Id                                    150000.0  75000.500000  43301.414527   \n",
       "Probability                           150000.0      0.066840      0.249746   \n",
       "RevolvingUtilizationOfUnsecuredLines  150000.0      6.048438    249.755371   \n",
       "age                                   150000.0     52.295207     14.771866   \n",
       "NumberOfTime30-59DaysPastDueNotWorse  150000.0      0.421033      4.192781   \n",
       "DebtRatio                             150000.0    353.005076   2037.818523   \n",
       "MonthlyIncome                         120269.0   6670.221237  14384.674215   \n",
       "NumberOfOpenCreditLinesAndLoans       150000.0      8.452760      5.145951   \n",
       "NumberOfTimes90DaysLate               150000.0      0.265973      4.169304   \n",
       "NumberRealEstateLoansOrLines          150000.0      1.018240      1.129771   \n",
       "NumberOfTime60-89DaysPastDueNotWorse  150000.0      0.240387      4.155179   \n",
       "NumberOfDependents                    146076.0      0.757222      1.115086   \n",
       "\n",
       "                                      min           25%           50%  \\\n",
       "Id                                    1.0  37500.750000  75000.500000   \n",
       "Probability                           0.0      0.000000      0.000000   \n",
       "RevolvingUtilizationOfUnsecuredLines  0.0      0.029867      0.154181   \n",
       "age                                   0.0     41.000000     52.000000   \n",
       "NumberOfTime30-59DaysPastDueNotWorse  0.0      0.000000      0.000000   \n",
       "DebtRatio                             0.0      0.175074      0.366508   \n",
       "MonthlyIncome                         0.0   3400.000000   5400.000000   \n",
       "NumberOfOpenCreditLinesAndLoans       0.0      5.000000      8.000000   \n",
       "NumberOfTimes90DaysLate               0.0      0.000000      0.000000   \n",
       "NumberRealEstateLoansOrLines          0.0      0.000000      1.000000   \n",
       "NumberOfTime60-89DaysPastDueNotWorse  0.0      0.000000      0.000000   \n",
       "NumberOfDependents                    0.0      0.000000      0.000000   \n",
       "\n",
       "                                                75%        max  \n",
       "Id                                    112500.250000   150000.0  \n",
       "Probability                                0.000000        1.0  \n",
       "RevolvingUtilizationOfUnsecuredLines       0.559046    50708.0  \n",
       "age                                       63.000000      109.0  \n",
       "NumberOfTime30-59DaysPastDueNotWorse       0.000000       98.0  \n",
       "DebtRatio                                  0.868254   329664.0  \n",
       "MonthlyIncome                           8249.000000  3008750.0  \n",
       "NumberOfOpenCreditLinesAndLoans           11.000000       58.0  \n",
       "NumberOfTimes90DaysLate                    0.000000       98.0  \n",
       "NumberRealEstateLoansOrLines               2.000000       54.0  \n",
       "NumberOfTime60-89DaysPastDueNotWorse       0.000000       98.0  \n",
       "NumberOfDependents                         1.000000       20.0  "
      ]
     },
     "execution_count": 48,
     "metadata": {},
     "output_type": "execute_result"
    }
   ],
   "source": [
    "train.describe().T"
   ]
  },
  {
   "cell_type": "code",
   "execution_count": 49,
   "metadata": {},
   "outputs": [
    {
     "data": {
      "text/html": [
       "<div>\n",
       "<style scoped>\n",
       "    .dataframe tbody tr th:only-of-type {\n",
       "        vertical-align: middle;\n",
       "    }\n",
       "\n",
       "    .dataframe tbody tr th {\n",
       "        vertical-align: top;\n",
       "    }\n",
       "\n",
       "    .dataframe thead th {\n",
       "        text-align: right;\n",
       "    }\n",
       "</style>\n",
       "<table border=\"1\" class=\"dataframe\">\n",
       "  <thead>\n",
       "    <tr style=\"text-align: right;\">\n",
       "      <th></th>\n",
       "      <th>count</th>\n",
       "      <th>mean</th>\n",
       "      <th>std</th>\n",
       "      <th>min</th>\n",
       "      <th>25%</th>\n",
       "      <th>50%</th>\n",
       "      <th>75%</th>\n",
       "      <th>max</th>\n",
       "    </tr>\n",
       "  </thead>\n",
       "  <tbody>\n",
       "    <tr>\n",
       "      <th>Id</th>\n",
       "      <td>101503.0</td>\n",
       "      <td>50752.000000</td>\n",
       "      <td>29301.536524</td>\n",
       "      <td>1.0</td>\n",
       "      <td>25376.500000</td>\n",
       "      <td>50752.000000</td>\n",
       "      <td>76127.500000</td>\n",
       "      <td>101503.0</td>\n",
       "    </tr>\n",
       "    <tr>\n",
       "      <th>Probability</th>\n",
       "      <td>0.0</td>\n",
       "      <td>NaN</td>\n",
       "      <td>NaN</td>\n",
       "      <td>NaN</td>\n",
       "      <td>NaN</td>\n",
       "      <td>NaN</td>\n",
       "      <td>NaN</td>\n",
       "      <td>NaN</td>\n",
       "    </tr>\n",
       "    <tr>\n",
       "      <th>RevolvingUtilizationOfUnsecuredLines</th>\n",
       "      <td>101503.0</td>\n",
       "      <td>5.310000</td>\n",
       "      <td>196.156039</td>\n",
       "      <td>0.0</td>\n",
       "      <td>0.030131</td>\n",
       "      <td>0.152586</td>\n",
       "      <td>0.564225</td>\n",
       "      <td>21821.0</td>\n",
       "    </tr>\n",
       "    <tr>\n",
       "      <th>age</th>\n",
       "      <td>101503.0</td>\n",
       "      <td>52.405436</td>\n",
       "      <td>14.779756</td>\n",
       "      <td>21.0</td>\n",
       "      <td>41.000000</td>\n",
       "      <td>52.000000</td>\n",
       "      <td>63.000000</td>\n",
       "      <td>104.0</td>\n",
       "    </tr>\n",
       "    <tr>\n",
       "      <th>NumberOfTime30-59DaysPastDueNotWorse</th>\n",
       "      <td>101503.0</td>\n",
       "      <td>0.453770</td>\n",
       "      <td>4.538487</td>\n",
       "      <td>0.0</td>\n",
       "      <td>0.000000</td>\n",
       "      <td>0.000000</td>\n",
       "      <td>0.000000</td>\n",
       "      <td>98.0</td>\n",
       "    </tr>\n",
       "    <tr>\n",
       "      <th>DebtRatio</th>\n",
       "      <td>101503.0</td>\n",
       "      <td>344.475020</td>\n",
       "      <td>1632.595231</td>\n",
       "      <td>0.0</td>\n",
       "      <td>0.173423</td>\n",
       "      <td>0.364260</td>\n",
       "      <td>0.851619</td>\n",
       "      <td>268326.0</td>\n",
       "    </tr>\n",
       "    <tr>\n",
       "      <th>MonthlyIncome</th>\n",
       "      <td>81400.0</td>\n",
       "      <td>6855.035590</td>\n",
       "      <td>36508.600375</td>\n",
       "      <td>0.0</td>\n",
       "      <td>3408.000000</td>\n",
       "      <td>5400.000000</td>\n",
       "      <td>8200.000000</td>\n",
       "      <td>7727000.0</td>\n",
       "    </tr>\n",
       "    <tr>\n",
       "      <th>NumberOfOpenCreditLinesAndLoans</th>\n",
       "      <td>101503.0</td>\n",
       "      <td>8.453514</td>\n",
       "      <td>5.144100</td>\n",
       "      <td>0.0</td>\n",
       "      <td>5.000000</td>\n",
       "      <td>8.000000</td>\n",
       "      <td>11.000000</td>\n",
       "      <td>85.0</td>\n",
       "    </tr>\n",
       "    <tr>\n",
       "      <th>NumberOfTimes90DaysLate</th>\n",
       "      <td>101503.0</td>\n",
       "      <td>0.296691</td>\n",
       "      <td>4.515859</td>\n",
       "      <td>0.0</td>\n",
       "      <td>0.000000</td>\n",
       "      <td>0.000000</td>\n",
       "      <td>0.000000</td>\n",
       "      <td>98.0</td>\n",
       "    </tr>\n",
       "    <tr>\n",
       "      <th>NumberRealEstateLoansOrLines</th>\n",
       "      <td>101503.0</td>\n",
       "      <td>1.013074</td>\n",
       "      <td>1.110253</td>\n",
       "      <td>0.0</td>\n",
       "      <td>0.000000</td>\n",
       "      <td>1.000000</td>\n",
       "      <td>2.000000</td>\n",
       "      <td>37.0</td>\n",
       "    </tr>\n",
       "    <tr>\n",
       "      <th>NumberOfTime60-89DaysPastDueNotWorse</th>\n",
       "      <td>101503.0</td>\n",
       "      <td>0.270317</td>\n",
       "      <td>4.503578</td>\n",
       "      <td>0.0</td>\n",
       "      <td>0.000000</td>\n",
       "      <td>0.000000</td>\n",
       "      <td>0.000000</td>\n",
       "      <td>98.0</td>\n",
       "    </tr>\n",
       "    <tr>\n",
       "      <th>NumberOfDependents</th>\n",
       "      <td>98877.0</td>\n",
       "      <td>0.769046</td>\n",
       "      <td>1.136778</td>\n",
       "      <td>0.0</td>\n",
       "      <td>0.000000</td>\n",
       "      <td>0.000000</td>\n",
       "      <td>1.000000</td>\n",
       "      <td>43.0</td>\n",
       "    </tr>\n",
       "  </tbody>\n",
       "</table>\n",
       "</div>"
      ],
      "text/plain": [
       "                                         count          mean           std  \\\n",
       "Id                                    101503.0  50752.000000  29301.536524   \n",
       "Probability                                0.0           NaN           NaN   \n",
       "RevolvingUtilizationOfUnsecuredLines  101503.0      5.310000    196.156039   \n",
       "age                                   101503.0     52.405436     14.779756   \n",
       "NumberOfTime30-59DaysPastDueNotWorse  101503.0      0.453770      4.538487   \n",
       "DebtRatio                             101503.0    344.475020   1632.595231   \n",
       "MonthlyIncome                          81400.0   6855.035590  36508.600375   \n",
       "NumberOfOpenCreditLinesAndLoans       101503.0      8.453514      5.144100   \n",
       "NumberOfTimes90DaysLate               101503.0      0.296691      4.515859   \n",
       "NumberRealEstateLoansOrLines          101503.0      1.013074      1.110253   \n",
       "NumberOfTime60-89DaysPastDueNotWorse  101503.0      0.270317      4.503578   \n",
       "NumberOfDependents                     98877.0      0.769046      1.136778   \n",
       "\n",
       "                                       min           25%           50%  \\\n",
       "Id                                     1.0  25376.500000  50752.000000   \n",
       "Probability                            NaN           NaN           NaN   \n",
       "RevolvingUtilizationOfUnsecuredLines   0.0      0.030131      0.152586   \n",
       "age                                   21.0     41.000000     52.000000   \n",
       "NumberOfTime30-59DaysPastDueNotWorse   0.0      0.000000      0.000000   \n",
       "DebtRatio                              0.0      0.173423      0.364260   \n",
       "MonthlyIncome                          0.0   3408.000000   5400.000000   \n",
       "NumberOfOpenCreditLinesAndLoans        0.0      5.000000      8.000000   \n",
       "NumberOfTimes90DaysLate                0.0      0.000000      0.000000   \n",
       "NumberRealEstateLoansOrLines           0.0      0.000000      1.000000   \n",
       "NumberOfTime60-89DaysPastDueNotWorse   0.0      0.000000      0.000000   \n",
       "NumberOfDependents                     0.0      0.000000      0.000000   \n",
       "\n",
       "                                               75%        max  \n",
       "Id                                    76127.500000   101503.0  \n",
       "Probability                                    NaN        NaN  \n",
       "RevolvingUtilizationOfUnsecuredLines      0.564225    21821.0  \n",
       "age                                      63.000000      104.0  \n",
       "NumberOfTime30-59DaysPastDueNotWorse      0.000000       98.0  \n",
       "DebtRatio                                 0.851619   268326.0  \n",
       "MonthlyIncome                          8200.000000  7727000.0  \n",
       "NumberOfOpenCreditLinesAndLoans          11.000000       85.0  \n",
       "NumberOfTimes90DaysLate                   0.000000       98.0  \n",
       "NumberRealEstateLoansOrLines              2.000000       37.0  \n",
       "NumberOfTime60-89DaysPastDueNotWorse      0.000000       98.0  \n",
       "NumberOfDependents                        1.000000       43.0  "
      ]
     },
     "execution_count": 49,
     "metadata": {},
     "output_type": "execute_result"
    }
   ],
   "source": [
    "test.describe().T"
   ]
  },
  {
   "cell_type": "code",
   "execution_count": null,
   "metadata": {},
   "outputs": [],
   "source": []
  },
  {
   "cell_type": "code",
   "execution_count": null,
   "metadata": {},
   "outputs": [],
   "source": []
  },
  {
   "cell_type": "markdown",
   "metadata": {},
   "source": [
    "# feature importance (lgb)"
   ]
  },
  {
   "cell_type": "code",
   "execution_count": 228,
   "metadata": {},
   "outputs": [],
   "source": [
    "def simple_lgb(X, y):\n",
    "    print('######################################################## begin')\n",
    "    print('####### cur time = ' + str(datetime.datetime.now().strftime(\"%Y/%m/%d %H:%M:%S\")))\n",
    "    \n",
    "    X_train, X_val, y_train, y_val = train_test_split(X, y, test_size=0.2, random_state=1)\n",
    "    train_data = lgb.Dataset(X_train, label=y_train)\n",
    "    valid_data = lgb.Dataset(X_val, label=y_val)\n",
    "    \n",
    "    params = {\n",
    "        'task':'train', \n",
    "        'objective': 'binary',\n",
    "        'metric': 'auc', \n",
    "\n",
    "        'boosting_type':'gbdt',\n",
    "        'num_leaves': 31,\n",
    "        'learning_rate': 0.05,\n",
    "        'feature_fraction': 0.85,\n",
    "        'subsample':0.85,\n",
    "        'num_threads': 15,\n",
    "        'seed': 1,\n",
    "        'max_bin':127,\n",
    "        'is_unbalance': True # useful\n",
    "        #'reg_alpha': 0.1,\n",
    "        #'reg_lambda': 0.1\n",
    "    }   \n",
    "    model = lgb.train(params, train_data, 3000, [train_data, valid_data],\n",
    "                          early_stopping_rounds=100, verbose_eval=-1)\n",
    "    print('########################################################## end')\n",
    "    print('####### cur time = ' + str(datetime.datetime.now().strftime(\"%Y/%m/%d %H:%M:%S\")))\n",
    "    return model"
   ]
  },
  {
   "cell_type": "code",
   "execution_count": 274,
   "metadata": {},
   "outputs": [
    {
     "name": "stdout",
     "output_type": "stream",
     "text": [
      "######################################################## begin\n",
      "####### cur time = 2018/11/21 11:51:17\n",
      "Training until validation scores don't improve for 100 rounds.\n",
      "Early stopping, best iteration is:\n",
      "[146]\ttraining's auc: 0.888462\tvalid_1's auc: 0.865975\n",
      "########################################################## end\n",
      "####### cur time = 2018/11/21 11:51:20\n"
     ]
    }
   ],
   "source": [
    "model_lgb = simple_lgb(train[col_fea], train[col_label])"
   ]
  },
  {
   "cell_type": "code",
   "execution_count": 23,
   "metadata": {
    "scrolled": true
   },
   "outputs": [
    {
     "data": {
      "image/png": "[encoded data removed]",
      "text/plain": [
       "<Figure size 504x360 with 1 Axes>"
      ]
     },
     "metadata": {},
     "output_type": "display_data"
    }
   ],
   "source": [
    "fig, ax = plt.subplots(figsize=(7,5))\n",
    "lgb.plot_importance(model_lgb, max_num_features=50, height=0.8, ax=ax)\n",
    "ax.grid(False)\n",
    "plt.title(\"LightGBM - Feature Importance\", fontsize=15)\n",
    "plt.show()"
   ]
  },
  {
   "cell_type": "markdown",
   "metadata": {},
   "source": [
    "# feature importance (rf)"
   ]
  },
  {
   "cell_type": "code",
   "execution_count": 238,
   "metadata": {},
   "outputs": [],
   "source": [
    "from sklearn.ensemble import RandomForestClassifier\n",
    "\n",
    "def simple_rf(X, y):\n",
    "    print('######################################################## begin')\n",
    "    print('####### cur time = ' + str(datetime.datetime.now().strftime(\"%Y/%m/%d %H:%M:%S\")))\n",
    "    X_train, X_valid, y_train, y_valid = train_test_split(X, y, test_size=0.2, random_state=1)\n",
    "    \n",
    "    model = RandomForestClassifier()\n",
    "    params = {\n",
    "        'bootstrap': True,\n",
    "        'criterion': 'gini',\n",
    "        'max_depth': 12,\n",
    "        'max_features': 'auto',\n",
    "        'max_leaf_nodes': None,\n",
    "        'min_impurity_decrease': 0.0,\n",
    "        'min_impurity_split': None,\n",
    "        'min_samples_leaf': 10,\n",
    "        'min_samples_split': 2,\n",
    "        'min_weight_fraction_leaf': 0.0,\n",
    "        'n_estimators': 1000,\n",
    "        #'n_jobs': -1,\n",
    "        'n_jobs': 15,\n",
    "        'oob_score': False,\n",
    "        'random_state': 42,\n",
    "        'verbose': 0,\n",
    "        'warm_start': False,\n",
    "        'class_weight':{0:13, 1:1}\n",
    "    }\n",
    "    model.set_params(**params)\n",
    "    model.fit(X_train, y_train)\n",
    "    \n",
    "    auc_train = roc_auc_score(y_train, model.predict_proba(X_train)[:,1])\n",
    "    auc_valid = roc_auc_score(y_valid, model.predict_proba(X_valid)[:,1])\n",
    "    print(auc_train, auc_valid)\n",
    "    print('auc_train = {}, auc_valid = {}'.format(auc_train, auc_valid))\n",
    "    print('########################################################## end')\n",
    "    print('####### cur time = ' + str(datetime.datetime.now().strftime(\"%Y/%m/%d %H:%M:%S\")))\n",
    "    return model"
   ]
  },
  {
   "cell_type": "code",
   "execution_count": 227,
   "metadata": {
    "scrolled": false
   },
   "outputs": [
    {
     "name": "stdout",
     "output_type": "stream",
     "text": [
      "######################################################## begin\n",
      "####### cur time = 2018/11/21 11:15:33\n",
      "(0.9025343956756243, 0.8657046807499564)\n",
      "auc_train = 0.902534395676, auc_valid = 0.86570468075\n",
      "########################################################## end\n",
      "####### cur time = 2018/11/21 11:15:50\n"
     ]
    }
   ],
   "source": [
    "train2 = train.copy()\n",
    "train2.fillna(train2.mean(), inplace= True)\n",
    "model_rf = simple_rf(train2[col_fea], train2[col_label])"
   ]
  },
  {
   "cell_type": "code",
   "execution_count": 240,
   "metadata": {},
   "outputs": [
    {
     "name": "stdout",
     "output_type": "stream",
     "text": [
      "######################################################## begin\n",
      "####### cur time = 2018/11/21 11:29:34\n",
      "(0.8989151497034167, 0.8659711091823894)\n",
      "auc_train = 0.898915149703, auc_valid = 0.865971109182\n",
      "########################################################## end\n",
      "####### cur time = 2018/11/21 11:29:50\n"
     ]
    }
   ],
   "source": [
    "train2 = train.copy()\n",
    "train2.fillna(train2.mean(), inplace= True)\n",
    "model_rf = simple_rf(train2[col_fea], train2[col_label])"
   ]
  },
  {
   "cell_type": "code",
   "execution_count": 93,
   "metadata": {},
   "outputs": [
    {
     "data": {
      "image/png": "[encoded data removed]",
      "text/plain": [
       "<Figure size 504x360 with 1 Axes>"
      ]
     },
     "metadata": {},
     "output_type": "display_data"
    }
   ],
   "source": [
    "fig, ax = plt.subplots(figsize=(7,5))\n",
    "\n",
    "rf_fea_imp = pd.DataFrame({'fea':col_fea, 'imp':model_rf.feature_importances_})\n",
    "rf_fea_imp.sort_values(by = 'imp', inplace = True, ascending = True)\n",
    "plt.barh(rf_fea_imp['fea'], rf_fea_imp['imp'])\n",
    "\n",
    "ax.grid(False)\n",
    "plt.title(\"LightGBM - Feature Importance\", fontsize=15)\n",
    "plt.show()"
   ]
  },
  {
   "cell_type": "code",
   "execution_count": null,
   "metadata": {},
   "outputs": [],
   "source": []
  },
  {
   "cell_type": "code",
   "execution_count": null,
   "metadata": {},
   "outputs": [],
   "source": []
  },
  {
   "cell_type": "markdown",
   "metadata": {},
   "source": [
    "# feature importance (erf)"
   ]
  },
  {
   "cell_type": "code",
   "execution_count": 138,
   "metadata": {},
   "outputs": [],
   "source": [
    "from sklearn.ensemble import ExtraTreesClassifier\n",
    "\n",
    "def simple_erf(X, y):\n",
    "    print('######################################################## begin')\n",
    "    print('####### cur time = ' + str(datetime.datetime.now().strftime(\"%Y/%m/%d %H:%M:%S\")))\n",
    "    X_train, X_valid, y_train, y_valid = train_test_split(X, y, test_size=0.2, random_state=1)\n",
    "    \n",
    "    model = ExtraTreesClassifier()\n",
    "    params = {\n",
    "        'n_estimators':1000,\n",
    "        'max_depth':12,\n",
    "        'min_samples_split':2,\n",
    "        'random_state':1,\n",
    "        'n_jobs': 15\n",
    "    }\n",
    "    \n",
    "    \n",
    "    model.set_params(**params)\n",
    "    model.fit(X_train, y_train)\n",
    "    \n",
    "    auc_train = roc_auc_score(y_train, model.predict_proba(X_train)[:,1])\n",
    "    auc_valid = roc_auc_score(y_valid, model.predict_proba(X_valid)[:,1])\n",
    "    print(auc_train, auc_valid)\n",
    "    print('auc_train = {}, auc_valid = {}'.format(auc_train, auc_valid))\n",
    "    print('########################################################## end')\n",
    "    print('####### cur time = ' + str(datetime.datetime.now().strftime(\"%Y/%m/%d %H:%M:%S\")))\n",
    "    return model"
   ]
  },
  {
   "cell_type": "code",
   "execution_count": 139,
   "metadata": {},
   "outputs": [
    {
     "name": "stdout",
     "output_type": "stream",
     "text": [
      "######################################################## begin\n",
      "####### cur time = 2018/11/20 19:28:12\n",
      "(0.8367278853861279, 0.830408291721419)\n",
      "auc_train = 0.836727885386, auc_valid = 0.830408291721\n",
      "########################################################## end\n",
      "####### cur time = 2018/11/20 19:28:21\n"
     ]
    }
   ],
   "source": [
    "train2 = train.copy()\n",
    "train2.fillna(train2.mean(), inplace= True)\n",
    "model_erf = simple_erf(train2[col_fea], train2[col_label])"
   ]
  },
  {
   "cell_type": "code",
   "execution_count": 140,
   "metadata": {},
   "outputs": [
    {
     "data": {
      "image/png": "[encoded data removed]",
      "text/plain": [
       "<Figure size 504x360 with 1 Axes>"
      ]
     },
     "metadata": {},
     "output_type": "display_data"
    }
   ],
   "source": [
    "fig, ax = plt.subplots(figsize=(7,5))\n",
    "\n",
    "rf_fea_imp = pd.DataFrame({'fea':col_fea, 'imp':model_erf.feature_importances_})\n",
    "rf_fea_imp.sort_values(by = 'imp', inplace = True, ascending = True)\n",
    "plt.barh(rf_fea_imp['fea'], rf_fea_imp['imp'])\n",
    "\n",
    "ax.grid(False)\n",
    "plt.title(\"LightGBM - Feature Importance\", fontsize=15)\n",
    "plt.show()"
   ]
  },
  {
   "cell_type": "code",
   "execution_count": null,
   "metadata": {},
   "outputs": [],
   "source": []
  },
  {
   "cell_type": "code",
   "execution_count": null,
   "metadata": {},
   "outputs": [],
   "source": []
  },
  {
   "cell_type": "code",
   "execution_count": null,
   "metadata": {},
   "outputs": [],
   "source": []
  },
  {
   "cell_type": "code",
   "execution_count": 245,
   "metadata": {},
   "outputs": [],
   "source": [
    "# https://cloud.tencent.com/developer/article/1092198\n",
    "# #数据指标解读\n",
    "# ID——用户编号\n",
    "# SeriousDlqin2yrs——好坏客户区分，这里以逾期90天为界，超过90天表示“坏客户”，用1表示是；未超过90天表示“好客户”，用0表示\n",
    "# RevolvingUtilizationOfUnsecuredLines——贷款以及信用卡可以用额度与总额度比值\n",
    "# age——借款人的年龄\n",
    "# NumberOfTime30-59DaysPastDueNotWorse——借款人逾期30-59天但过去两年不是坏账的次数（笔数）\n",
    "# DebtRatio——负债率，每月要支付的债务、赡养费、生活费占每月总收入的比值\n",
    "# MonthlyIncome——月收入\n",
    "# NumberOfOpenCreditLinesAndLoans——贷款和信用卡数量\n",
    "# NumberOfTimes90DaysLate——逾期90天的次数\n",
    "# NumberRealEstateLoansOrLines——固定资产贷款数量\n",
    "# NumberOfTime60-89DaysPastDueNotWorse——逾期60-89天次数\n",
    "# NumberOfDependents——家属数量"
   ]
  },
  {
   "cell_type": "code",
   "execution_count": 246,
   "metadata": {
    "scrolled": true
   },
   "outputs": [
    {
     "data": {
      "text/html": [
       "<div>\n",
       "<style scoped>\n",
       "    .dataframe tbody tr th:only-of-type {\n",
       "        vertical-align: middle;\n",
       "    }\n",
       "\n",
       "    .dataframe tbody tr th {\n",
       "        vertical-align: top;\n",
       "    }\n",
       "\n",
       "    .dataframe thead th {\n",
       "        text-align: right;\n",
       "    }\n",
       "</style>\n",
       "<table border=\"1\" class=\"dataframe\">\n",
       "  <thead>\n",
       "    <tr style=\"text-align: right;\">\n",
       "      <th></th>\n",
       "      <th>count</th>\n",
       "      <th>mean</th>\n",
       "      <th>std</th>\n",
       "      <th>min</th>\n",
       "      <th>25%</th>\n",
       "      <th>50%</th>\n",
       "      <th>75%</th>\n",
       "      <th>max</th>\n",
       "    </tr>\n",
       "  </thead>\n",
       "  <tbody>\n",
       "    <tr>\n",
       "      <th>Id</th>\n",
       "      <td>150000.0</td>\n",
       "      <td>75000.500000</td>\n",
       "      <td>43301.414527</td>\n",
       "      <td>1.0</td>\n",
       "      <td>37500.750000</td>\n",
       "      <td>75000.500000</td>\n",
       "      <td>112500.250000</td>\n",
       "      <td>150000.0</td>\n",
       "    </tr>\n",
       "    <tr>\n",
       "      <th>Probability</th>\n",
       "      <td>150000.0</td>\n",
       "      <td>0.066840</td>\n",
       "      <td>0.249746</td>\n",
       "      <td>0.0</td>\n",
       "      <td>0.000000</td>\n",
       "      <td>0.000000</td>\n",
       "      <td>0.000000</td>\n",
       "      <td>1.0</td>\n",
       "    </tr>\n",
       "    <tr>\n",
       "      <th>RevolvingUtilizationOfUnsecuredLines</th>\n",
       "      <td>150000.0</td>\n",
       "      <td>6.048438</td>\n",
       "      <td>249.755371</td>\n",
       "      <td>0.0</td>\n",
       "      <td>0.029867</td>\n",
       "      <td>0.154181</td>\n",
       "      <td>0.559046</td>\n",
       "      <td>50708.0</td>\n",
       "    </tr>\n",
       "    <tr>\n",
       "      <th>age</th>\n",
       "      <td>150000.0</td>\n",
       "      <td>52.295207</td>\n",
       "      <td>14.771866</td>\n",
       "      <td>0.0</td>\n",
       "      <td>41.000000</td>\n",
       "      <td>52.000000</td>\n",
       "      <td>63.000000</td>\n",
       "      <td>109.0</td>\n",
       "    </tr>\n",
       "    <tr>\n",
       "      <th>NumberOfTime30-59DaysPastDueNotWorse</th>\n",
       "      <td>150000.0</td>\n",
       "      <td>0.421033</td>\n",
       "      <td>4.192781</td>\n",
       "      <td>0.0</td>\n",
       "      <td>0.000000</td>\n",
       "      <td>0.000000</td>\n",
       "      <td>0.000000</td>\n",
       "      <td>98.0</td>\n",
       "    </tr>\n",
       "    <tr>\n",
       "      <th>DebtRatio</th>\n",
       "      <td>150000.0</td>\n",
       "      <td>353.005076</td>\n",
       "      <td>2037.818523</td>\n",
       "      <td>0.0</td>\n",
       "      <td>0.175074</td>\n",
       "      <td>0.366508</td>\n",
       "      <td>0.868254</td>\n",
       "      <td>329664.0</td>\n",
       "    </tr>\n",
       "    <tr>\n",
       "      <th>MonthlyIncome</th>\n",
       "      <td>120269.0</td>\n",
       "      <td>6670.221237</td>\n",
       "      <td>14384.674215</td>\n",
       "      <td>0.0</td>\n",
       "      <td>3400.000000</td>\n",
       "      <td>5400.000000</td>\n",
       "      <td>8249.000000</td>\n",
       "      <td>3008750.0</td>\n",
       "    </tr>\n",
       "    <tr>\n",
       "      <th>NumberOfOpenCreditLinesAndLoans</th>\n",
       "      <td>150000.0</td>\n",
       "      <td>8.452760</td>\n",
       "      <td>5.145951</td>\n",
       "      <td>0.0</td>\n",
       "      <td>5.000000</td>\n",
       "      <td>8.000000</td>\n",
       "      <td>11.000000</td>\n",
       "      <td>58.0</td>\n",
       "    </tr>\n",
       "    <tr>\n",
       "      <th>NumberOfTimes90DaysLate</th>\n",
       "      <td>150000.0</td>\n",
       "      <td>0.265973</td>\n",
       "      <td>4.169304</td>\n",
       "      <td>0.0</td>\n",
       "      <td>0.000000</td>\n",
       "      <td>0.000000</td>\n",
       "      <td>0.000000</td>\n",
       "      <td>98.0</td>\n",
       "    </tr>\n",
       "    <tr>\n",
       "      <th>NumberRealEstateLoansOrLines</th>\n",
       "      <td>150000.0</td>\n",
       "      <td>1.018240</td>\n",
       "      <td>1.129771</td>\n",
       "      <td>0.0</td>\n",
       "      <td>0.000000</td>\n",
       "      <td>1.000000</td>\n",
       "      <td>2.000000</td>\n",
       "      <td>54.0</td>\n",
       "    </tr>\n",
       "    <tr>\n",
       "      <th>NumberOfTime60-89DaysPastDueNotWorse</th>\n",
       "      <td>150000.0</td>\n",
       "      <td>0.240387</td>\n",
       "      <td>4.155179</td>\n",
       "      <td>0.0</td>\n",
       "      <td>0.000000</td>\n",
       "      <td>0.000000</td>\n",
       "      <td>0.000000</td>\n",
       "      <td>98.0</td>\n",
       "    </tr>\n",
       "    <tr>\n",
       "      <th>NumberOfDependents</th>\n",
       "      <td>146076.0</td>\n",
       "      <td>0.757222</td>\n",
       "      <td>1.115086</td>\n",
       "      <td>0.0</td>\n",
       "      <td>0.000000</td>\n",
       "      <td>0.000000</td>\n",
       "      <td>1.000000</td>\n",
       "      <td>20.0</td>\n",
       "    </tr>\n",
       "  </tbody>\n",
       "</table>\n",
       "</div>"
      ],
      "text/plain": [
       "                                         count          mean           std  \\\n",
       "Id                                    150000.0  75000.500000  43301.414527   \n",
       "Probability                           150000.0      0.066840      0.249746   \n",
       "RevolvingUtilizationOfUnsecuredLines  150000.0      6.048438    249.755371   \n",
       "age                                   150000.0     52.295207     14.771866   \n",
       "NumberOfTime30-59DaysPastDueNotWorse  150000.0      0.421033      4.192781   \n",
       "DebtRatio                             150000.0    353.005076   2037.818523   \n",
       "MonthlyIncome                         120269.0   6670.221237  14384.674215   \n",
       "NumberOfOpenCreditLinesAndLoans       150000.0      8.452760      5.145951   \n",
       "NumberOfTimes90DaysLate               150000.0      0.265973      4.169304   \n",
       "NumberRealEstateLoansOrLines          150000.0      1.018240      1.129771   \n",
       "NumberOfTime60-89DaysPastDueNotWorse  150000.0      0.240387      4.155179   \n",
       "NumberOfDependents                    146076.0      0.757222      1.115086   \n",
       "\n",
       "                                      min           25%           50%  \\\n",
       "Id                                    1.0  37500.750000  75000.500000   \n",
       "Probability                           0.0      0.000000      0.000000   \n",
       "RevolvingUtilizationOfUnsecuredLines  0.0      0.029867      0.154181   \n",
       "age                                   0.0     41.000000     52.000000   \n",
       "NumberOfTime30-59DaysPastDueNotWorse  0.0      0.000000      0.000000   \n",
       "DebtRatio                             0.0      0.175074      0.366508   \n",
       "MonthlyIncome                         0.0   3400.000000   5400.000000   \n",
       "NumberOfOpenCreditLinesAndLoans       0.0      5.000000      8.000000   \n",
       "NumberOfTimes90DaysLate               0.0      0.000000      0.000000   \n",
       "NumberRealEstateLoansOrLines          0.0      0.000000      1.000000   \n",
       "NumberOfTime60-89DaysPastDueNotWorse  0.0      0.000000      0.000000   \n",
       "NumberOfDependents                    0.0      0.000000      0.000000   \n",
       "\n",
       "                                                75%        max  \n",
       "Id                                    112500.250000   150000.0  \n",
       "Probability                                0.000000        1.0  \n",
       "RevolvingUtilizationOfUnsecuredLines       0.559046    50708.0  \n",
       "age                                       63.000000      109.0  \n",
       "NumberOfTime30-59DaysPastDueNotWorse       0.000000       98.0  \n",
       "DebtRatio                                  0.868254   329664.0  \n",
       "MonthlyIncome                           8249.000000  3008750.0  \n",
       "NumberOfOpenCreditLinesAndLoans           11.000000       58.0  \n",
       "NumberOfTimes90DaysLate                    0.000000       98.0  \n",
       "NumberRealEstateLoansOrLines               2.000000       54.0  \n",
       "NumberOfTime60-89DaysPastDueNotWorse       0.000000       98.0  \n",
       "NumberOfDependents                         1.000000       20.0  "
      ]
     },
     "execution_count": 246,
     "metadata": {},
     "output_type": "execute_result"
    }
   ],
   "source": [
    "train.describe().T"
   ]
  },
  {
   "cell_type": "code",
   "execution_count": 275,
   "metadata": {
    "scrolled": true
   },
   "outputs": [
    {
     "name": "stdout",
     "output_type": "stream",
     "text": [
      "######################################################## begin\n",
      "####### cur time = 2018/11/21 11:51:40\n",
      "Training until validation scores don't improve for 100 rounds.\n",
      "Early stopping, best iteration is:\n",
      "[146]\ttraining's auc: 0.888462\tvalid_1's auc: 0.865975\n",
      "########################################################## end\n",
      "####### cur time = 2018/11/21 11:51:43\n"
     ]
    }
   ],
   "source": [
    "model_lgb = simple_lgb(train[col_fea], train[col_label])"
   ]
  },
  {
   "cell_type": "code",
   "execution_count": 276,
   "metadata": {},
   "outputs": [
    {
     "name": "stdout",
     "output_type": "stream",
     "text": [
      "######################################################## begin\n",
      "####### cur time = 2018/11/21 11:52:21\n",
      "Training until validation scores don't improve for 100 rounds.\n",
      "Early stopping, best iteration is:\n",
      "[164]\ttraining's auc: 0.890376\tvalid_1's auc: 0.8655\n",
      "########################################################## end\n",
      "####### cur time = 2018/11/21 11:52:24\n"
     ]
    }
   ],
   "source": [
    "model_lgb = simple_lgb(pd.concat([train_fea, train[col_fea]], axis = 1),\n",
    "                       train[col_label])"
   ]
  },
  {
   "cell_type": "markdown",
   "metadata": {},
   "source": [
    "# Feature "
   ]
  },
  {
   "cell_type": "code",
   "execution_count": 795,
   "metadata": {},
   "outputs": [],
   "source": [
    "train_fea = pd.DataFrame([])\n",
    "test_fea = pd.DataFrame([])\n",
    "\n",
    "X = train[col_fea].copy()\n",
    "X_test = test.copy()"
   ]
  },
  {
   "cell_type": "code",
   "execution_count": 831,
   "metadata": {},
   "outputs": [],
   "source": [
    "X2 = X.copy()\n",
    "X = test[col_fea].copy()"
   ]
  },
  {
   "cell_type": "code",
   "execution_count": 638,
   "metadata": {
    "scrolled": true
   },
   "outputs": [
    {
     "name": "stdout",
     "output_type": "stream",
     "text": [
      "\n",
      "################################################## seed = 0\n",
      "cur time = 2018/11/21 16:06:34\n",
      "========================= seed = 0\n",
      "current whole valid auc = 0.8657359323472548\n",
      "bagging whole valid auc = 0.8657359323472548\n",
      "('best_iteration', [261, 145, 137, 237, 217], 199.4)\n",
      "('train', array([0.89780202, 0.88374393, 0.88373328, 0.89444568, 0.89145291]), 0.8902355625568568)\n",
      "('valid', array([0.8644881 , 0.86830905, 0.86391065, 0.86459549, 0.8679837 ]), 0.8658573978087439)\n",
      "\n",
      "##############################################\n",
      "### CV avergae result ###\n",
      "cur time = 2018/11/21 16:06:49\n",
      "train auc = 0.8902355625568568\n",
      "valid auc = 0.8658573978087439\n",
      "##############################################\n",
      "bagging whole valid auc = 0.8657359323472548\n"
     ]
    }
   ],
   "source": [
    "meta_train, meta_test = cv_lgb(X, X[:10], train[col_label], 1, 5)"
   ]
  },
  {
   "cell_type": "code",
   "execution_count": 832,
   "metadata": {},
   "outputs": [],
   "source": [
    "X['UnknownNumberOfDependents'] = X['NumberOfDependents'].apply(lambda x: 1 if np.isnan(x) else 0)\n",
    "X['MonthlyIncome_isnan'] = X['MonthlyIncome'].apply(lambda x: 1 if np.isnan(x) else 0)"
   ]
  },
  {
   "cell_type": "code",
   "execution_count": 833,
   "metadata": {},
   "outputs": [],
   "source": [
    "X['no_dependents'] = X['NumberOfDependents'].apply(lambda x: 1 if x == 0 else 0)\n",
    "X['NumberOfDependents'] = X['NumberOfDependents'].apply(lambda x: 0 if np.isnan(x) else x)"
   ]
  },
  {
   "cell_type": "code",
   "execution_count": 834,
   "metadata": {},
   "outputs": [],
   "source": [
    "X['no_income'] = X['MonthlyIncome'].apply(lambda x: 1 if x == 0 else 0)\n",
    "X['MonthlyIncome'] = X['MonthlyIncome'].apply(lambda x: 0 if np.isnan(x) else x)"
   ]
  },
  {
   "cell_type": "code",
   "execution_count": 835,
   "metadata": {},
   "outputs": [],
   "source": [
    "X['DebtRatio_is0'] = X['DebtRatio'].apply(lambda x: 1 if x == 0 else 0)\n",
    "X['UnknownIncomeDebtRatio'] = X['DebtRatio']\n",
    "X['UnknownIncomeDebtRatio'][X['MonthlyIncome_isnan'] == 0] = 0\n",
    "X['DebtRatio'][X['MonthlyIncome_isnan'] == 1] = 0 ##"
   ]
  },
  {
   "cell_type": "code",
   "execution_count": 794,
   "metadata": {},
   "outputs": [
    {
     "name": "stdout",
     "output_type": "stream",
     "text": [
      "\n",
      "################################################## seed = 0\n",
      "cur time = 2018/11/21 16:30:17\n",
      "========================= seed = 0\n",
      "current whole valid auc = 0.865843071591384\n",
      "bagging whole valid auc = 0.865843071591384\n",
      "('best_iteration', [186, 182, 168, 365, 187], 217.6)\n",
      "('train', array([0.88927428, 0.88722106, 0.88656188, 0.90551799, 0.88809631]), 0.8913343044446336)\n",
      "('valid', array([0.86433264, 0.86860471, 0.86403286, 0.86522451, 0.86753894]), 0.8659467313972543)\n",
      "\n",
      "##############################################\n",
      "### CV avergae result ###\n",
      "cur time = 2018/11/21 16:30:33\n",
      "train auc = 0.8913343044446336\n",
      "valid auc = 0.8659467313972543\n",
      "##############################################\n",
      "bagging whole valid auc = 0.865843071591384\n"
     ]
    }
   ],
   "source": [
    "meta_train, meta_test = cv_lgb(X, X[:10], train[col_label], 1, 5)"
   ]
  },
  {
   "cell_type": "code",
   "execution_count": 836,
   "metadata": {},
   "outputs": [],
   "source": [
    "X['utilization_outlier'] = X['RevolvingUtilizationOfUnsecuredLines']\n",
    "X['utilization_outlier'][np.log(X['utilization_outlier']) <= 3] = 0\n",
    "X['utilization_is0'] = X['RevolvingUtilizationOfUnsecuredLines'].apply(lambda x: 1 if x == 0 else 0)\n",
    "X['RevolvingUtilizationOfUnsecuredLines'][np.log(X['RevolvingUtilizationOfUnsecuredLines']) > 3] = 0"
   ]
  },
  {
   "cell_type": "code",
   "execution_count": 837,
   "metadata": {},
   "outputs": [],
   "source": [
    "X['Log.Debt'] = np.log((X['MonthlyIncome'] + 1) * X['DebtRatio'])\n",
    "X['Log.Debt'] = X['Log.Debt'].apply(lambda x: 0 if np.isinf(x) else x)"
   ]
  },
  {
   "cell_type": "code",
   "execution_count": 838,
   "metadata": {},
   "outputs": [],
   "source": [
    "X['RevolvingLines'] = X['NumberOfOpenCreditLinesAndLoans'] - X['NumberRealEstateLoansOrLines']"
   ]
  },
  {
   "cell_type": "code",
   "execution_count": 839,
   "metadata": {},
   "outputs": [],
   "source": [
    "#X['no_income'] = X['MonthlyIncome'].apply(lambda x: 1 if x == 0 else 0)\n",
    "\n",
    "X['has_RevolvingLines'] = X['RevolvingLines'].apply(lambda x: 1 if x > 0 else 0)\n",
    "X['has_RealEstateLoans'] = X['NumberRealEstateLoansOrLines'].apply(lambda x: 1 if x > 0 else 0)\n",
    "X['has_RealEstateLoans_3'] = X['NumberRealEstateLoansOrLines'].apply(lambda x: 1 if x >= 3 else 0)\n",
    "\n",
    "X['age_60'] = X['age'].apply(lambda x: 1 if x >= 60 else 0)\n",
    "X['DebtRatio_33'] = ((X['no_income'] == 0) & (X['DebtRatio'] > 0.33)).astype(int)\n",
    "X['DebtRatio_43'] = ((X['no_income'] == 0) & (X['DebtRatio'] > 0.43)).astype(int)\n",
    "\n",
    "X['rest_income'] = (1 - X['DebtRatio']) * X['MonthlyIncome']\n",
    "X['rest_income'][X['no_income'] == 1] = 0"
   ]
  },
  {
   "cell_type": "code",
   "execution_count": 840,
   "metadata": {},
   "outputs": [],
   "source": [
    "X['RevolvingToRealEstate'] = X['RevolvingLines'] / (1 + X['NumberRealEstateLoansOrLines'])"
   ]
  },
  {
   "cell_type": "code",
   "execution_count": 702,
   "metadata": {
    "scrolled": true
   },
   "outputs": [
    {
     "name": "stdout",
     "output_type": "stream",
     "text": [
      "\n",
      "################################################## seed = 0\n",
      "cur time = 2018/11/21 16:15:36\n",
      "========================= seed = 0\n",
      "current whole valid auc = 0.8661050969709171\n",
      "bagging whole valid auc = 0.8661050969709171\n",
      "('best_iteration', [179, 155, 156, 218, 156], 172.8)\n",
      "('train', array([0.8908964 , 0.88658225, 0.8881184 , 0.89600986, 0.88693653]), 0.8897086892836088)\n",
      "('valid', array([0.86474498, 0.86867603, 0.86448358, 0.86548746, 0.86764066]), 0.866206541456263)\n",
      "\n",
      "##############################################\n",
      "### CV avergae result ###\n",
      "cur time = 2018/11/21 16:15:59\n",
      "train auc = 0.8897086892836088\n",
      "valid auc = 0.866206541456263\n",
      "##############################################\n",
      "bagging whole valid auc = 0.8661050969709171\n"
     ]
    }
   ],
   "source": [
    "meta_train, meta_test = cv_lgb(X, X[:10], train[col_label], 1, 5)"
   ]
  },
  {
   "cell_type": "markdown",
   "metadata": {},
   "source": [
    "# not good"
   ]
  },
  {
   "cell_type": "code",
   "execution_count": 841,
   "metadata": {},
   "outputs": [],
   "source": [
    "X['NumberOfTime30-59DaysPastDueNotWorseLarge'] = (X['NumberOfTime30-59DaysPastDueNotWorse'] > 90).astype(int)\n",
    "X['NumberOfTime30-59DaysPastDueNotWorse96'] = (X['NumberOfTime30-59DaysPastDueNotWorse'] == 96).astype(int)\n",
    "X['NumberOfTime30-59DaysPastDueNotWorse98'] = (X['NumberOfTime30-59DaysPastDueNotWorse'] == 98).astype(int)\n",
    "X['Never30-59DaysPastDueNotWorse'] = (X['NumberOfTime30-59DaysPastDueNotWorse'] == 0).astype(int)\n",
    "X['NumberOfTime30-59DaysPastDueNotWorse'][X['NumberOfTime30-59DaysPastDueNotWorse'] > 90] = 0"
   ]
  },
  {
   "cell_type": "code",
   "execution_count": 842,
   "metadata": {},
   "outputs": [],
   "source": [
    "X['NumberOfTime60-89DaysPastDueNotWorseLarge'] = (X['NumberOfTime60-89DaysPastDueNotWorse'] > 90).astype(int)\n",
    "X['NumberOfTime60-89DaysPastDueNotWorse96'] = (X['NumberOfTime60-89DaysPastDueNotWorse'] == 96).astype(int)\n",
    "X['NumberOfTime60-89DaysPastDueNotWorse98'] = (X['NumberOfTime60-89DaysPastDueNotWorse'] == 98).astype(int)\n",
    "X['Never60-89DaysPastDueNotWorse'] = (X['NumberOfTime60-89DaysPastDueNotWorse'] == 0).astype(int)\n",
    "X['NumberOfTime60-89DaysPastDueNotWorse'][X['NumberOfTime60-89DaysPastDueNotWorse'] > 90] = 0"
   ]
  },
  {
   "cell_type": "code",
   "execution_count": 843,
   "metadata": {},
   "outputs": [],
   "source": [
    "X['NumberOfTimes90DaysLateLarge'] = (X['NumberOfTimes90DaysLate'] > 90).astype(int)\n",
    "X['NumberOfTimes90DaysLate96'] = (X['NumberOfTimes90DaysLate'] == 96).astype(int)\n",
    "X['NumberOfTimes90DaysLate98'] = (X['NumberOfTimes90DaysLate'] == 98).astype(int)\n",
    "X['Never90DaysLate'] = (X['NumberOfTimes90DaysLate'] == 0).astype(int)\n",
    "X['NumberOfTimes90DaysLate'][X['NumberOfTimes90DaysLate'] > 90] = 0"
   ]
  },
  {
   "cell_type": "code",
   "execution_count": 655,
   "metadata": {
    "scrolled": true
   },
   "outputs": [
    {
     "name": "stdout",
     "output_type": "stream",
     "text": [
      "\n",
      "################################################## seed = 0\n",
      "cur time = 2018/11/21 16:10:01\n",
      "========================= seed = 0\n",
      "current whole valid auc = 0.8657827760614777\n",
      "bagging whole valid auc = 0.8657827760614777\n",
      "('best_iteration', [183, 224, 227, 179, 154], 193.4)\n",
      "('train', array([0.89116015, 0.89438744, 0.8957965 , 0.89094642, 0.88610006]), 0.8916781117151664)\n",
      "('valid', array([0.86432455, 0.86779695, 0.86431092, 0.86523792, 0.86772583]), 0.8658792348458786)\n",
      "\n",
      "##############################################\n",
      "### CV avergae result ###\n",
      "cur time = 2018/11/21 16:10:20\n",
      "train auc = 0.8916781117151664\n",
      "valid auc = 0.8658792348458786\n",
      "##############################################\n",
      "bagging whole valid auc = 0.8657827760614777\n"
     ]
    }
   ],
   "source": [
    "meta_train, meta_test = cv_lgb(X, X[:10], train[col_label], 1, 5)"
   ]
  },
  {
   "cell_type": "code",
   "execution_count": 844,
   "metadata": {},
   "outputs": [],
   "source": [
    "X['IncomeDivBy10'] = (X['MonthlyIncome'] % 10 == 0).astype(int)\n",
    "X['IncomeDivBy100'] = (X['MonthlyIncome'] % 100 == 0).astype(int)\n",
    "X['IncomeDivBy1000'] = (X['MonthlyIncome'] % 1000 == 0).astype(int)\n",
    "X['IncomeDivBy5000'] = (X['MonthlyIncome'] % 5000 == 0).astype(int)\n",
    "X['Weird0999Utilization'] = (X['RevolvingUtilizationOfUnsecuredLines'] == 0.9999999).astype(int)\n",
    "X['FullUtilization'] = (X['RevolvingUtilizationOfUnsecuredLines'] == 1).astype(int)\n",
    "X['ExcessUtilization'] = (X['RevolvingUtilizationOfUnsecuredLines'] > 1).astype(int)"
   ]
  },
  {
   "cell_type": "code",
   "execution_count": 704,
   "metadata": {
    "scrolled": true
   },
   "outputs": [
    {
     "name": "stdout",
     "output_type": "stream",
     "text": [
      "\n",
      "################################################## seed = 0\n",
      "cur time = 2018/11/21 16:16:21\n",
      "========================= seed = 0\n",
      "current whole valid auc = 0.8661455731978561\n",
      "bagging whole valid auc = 0.8661455731978561\n",
      "('best_iteration', [181, 175, 209, 175, 199], 187.8)\n",
      "('train', array([0.89240852, 0.88949669, 0.89599275, 0.89125244, 0.89371133]), 0.8925723445702237)\n",
      "('valid', array([0.865036  , 0.86882063, 0.86477604, 0.86478401, 0.86769717]), 0.8662227697406479)\n",
      "\n",
      "##############################################\n",
      "### CV avergae result ###\n",
      "cur time = 2018/11/21 16:16:41\n",
      "train auc = 0.8925723445702237\n",
      "valid auc = 0.8662227697406479\n",
      "##############################################\n",
      "bagging whole valid auc = 0.8661455731978561\n"
     ]
    }
   ],
   "source": [
    "meta_train, meta_test = cv_lgb(X, X[:10], train[col_label], 1, 5)"
   ]
  },
  {
   "cell_type": "code",
   "execution_count": 845,
   "metadata": {
    "scrolled": true
   },
   "outputs": [],
   "source": [
    "X['NumberOfTime30-89DaysPastDueNotWorse'] = X['NumberOfTime30-59DaysPastDueNotWorse'] + X['NumberOfTime60-89DaysPastDueNotWorse']\n",
    "X['Never30-89DaysPastDueNotWorse'] = X['Never60-89DaysPastDueNotWorse'] * X['Never30-59DaysPastDueNotWorse']"
   ]
  },
  {
   "cell_type": "code",
   "execution_count": 846,
   "metadata": {
    "scrolled": true
   },
   "outputs": [],
   "source": [
    "X['NumberOfTimesPastDue'] = X['NumberOfTime30-59DaysPastDueNotWorse'] + X['NumberOfTime60-89DaysPastDueNotWorse'] + X['NumberOfTimes90DaysLate']\n",
    "X['NeverPastDue'] = X['Never90DaysLate'] * X['Never60-89DaysPastDueNotWorse'] * X['Never30-59DaysPastDueNotWorse']\n",
    "X['Log.RevolvingUtilizationTimesLines'] = np.log1p(X['RevolvingLines'] * X['RevolvingUtilizationOfUnsecuredLines'])"
   ]
  },
  {
   "cell_type": "code",
   "execution_count": null,
   "metadata": {},
   "outputs": [],
   "source": []
  },
  {
   "cell_type": "code",
   "execution_count": 847,
   "metadata": {},
   "outputs": [],
   "source": [
    "X['Log.RevolvingUtilizationOfUnsecuredLines'] = np.log(X['RevolvingUtilizationOfUnsecuredLines'])\n",
    "X['Log.RevolvingUtilizationOfUnsecuredLines'][np.isnan(X['Log.RevolvingUtilizationOfUnsecuredLines'])] = 0\n",
    "X['Log.RevolvingUtilizationOfUnsecuredLines'][np.isinf(X['Log.RevolvingUtilizationOfUnsecuredLines'])] = 0\n",
    "# X['RevolvingUtilizationOfUnsecuredLines'] = NULL\n",
    "#X.drop(['RevolvingUtilizationOfUnsecuredLines'], axis = 1, inplace = True)"
   ]
  },
  {
   "cell_type": "code",
   "execution_count": 708,
   "metadata": {
    "scrolled": true
   },
   "outputs": [
    {
     "name": "stdout",
     "output_type": "stream",
     "text": [
      "\n",
      "################################################## seed = 0\n",
      "cur time = 2018/11/21 16:17:13\n",
      "========================= seed = 0\n",
      "current whole valid auc = 0.866079786992786\n",
      "bagging whole valid auc = 0.866079786992786\n",
      "('best_iteration', [146, 157, 181, 187, 125], 159.2)\n",
      "('train', array([0.88732824, 0.88853699, 0.89154087, 0.89348326, 0.8822777 ]), 0.8886334119325433)\n",
      "('valid', array([0.8649949 , 0.86859301, 0.86501923, 0.8653166 , 0.8673114 ]), 0.8662470255053378)\n",
      "\n",
      "##############################################\n",
      "### CV avergae result ###\n",
      "cur time = 2018/11/21 16:17:42\n",
      "train auc = 0.8886334119325433\n",
      "valid auc = 0.8662470255053378\n",
      "##############################################\n",
      "bagging whole valid auc = 0.866079786992786\n"
     ]
    }
   ],
   "source": [
    "meta_train, meta_test = cv_lgb(X, X[:10], train[col_label], 1, 5)"
   ]
  },
  {
   "cell_type": "markdown",
   "metadata": {},
   "source": [
    "# not good"
   ]
  },
  {
   "cell_type": "code",
   "execution_count": 848,
   "metadata": {
    "scrolled": true
   },
   "outputs": [],
   "source": [
    "X['DelinquenciesPerLine'] = X['NumberOfTimesPastDue'] / X['NumberOfOpenCreditLinesAndLoans']\n",
    "X['DelinquenciesPerLine'][X['NumberOfOpenCreditLinesAndLoans'] == 0] = 0\n",
    "X['MajorDelinquenciesPerLine'] = X['NumberOfTimes90DaysLate'] / X['NumberOfOpenCreditLinesAndLoans']\n",
    "X['MajorDelinquenciesPerLine'][X['NumberOfOpenCreditLinesAndLoans'] == 0] = 0\n",
    "X['MinorDelinquenciesPerLine'] = X['NumberOfTime30-89DaysPastDueNotWorse'] / X['NumberOfOpenCreditLinesAndLoans']\n",
    "X['MinorDelinquenciesPerLine'][X['NumberOfOpenCreditLinesAndLoans'] == 0] = 0"
   ]
  },
  {
   "cell_type": "code",
   "execution_count": 849,
   "metadata": {},
   "outputs": [],
   "source": [
    "# Now delinquencies per revolving\n",
    "X['DelinquenciesPerRevolvingLine'] = X['NumberOfTimesPastDue'] / X['RevolvingLines']\n",
    "X['DelinquenciesPerRevolvingLine'][X['RevolvingLines'] == 0] = 0\n",
    "X['MajorDelinquenciesPerRevolvingLine'] = X['NumberOfTimes90DaysLate'] / X['RevolvingLines']\n",
    "X['MajorDelinquenciesPerRevolvingLine'][X['RevolvingLines'] == 0] = 0\n",
    "X['MinorDelinquenciesPerRevolvingLine'] = X['NumberOfTime30-89DaysPastDueNotWorse'] / X['RevolvingLines']\n",
    "X['MinorDelinquenciesPerRevolvingLine'][X['RevolvingLines'] == 0] = 0"
   ]
  },
  {
   "cell_type": "code",
   "execution_count": 850,
   "metadata": {},
   "outputs": [],
   "source": [
    "X['Log.DebtPerLine'] = X['Log.Debt'] - np.log1p(X['NumberOfOpenCreditLinesAndLoans'])\n",
    "X['Log.DebtPerRealEstateLine'] = X['Log.Debt'] - np.log1p(X['NumberRealEstateLoansOrLines'])\n",
    "X['Log.DebtPerPerson'] = X['Log.Debt'] - np.log1p(X['NumberOfDependents'])\n",
    "X['RevolvingLinesPerPerson'] = X['RevolvingLines'] / (1 + X['NumberOfDependents'])\n",
    "X['RealEstateLoansPerPerson'] = X['NumberRealEstateLoansOrLines'] / (1 + X['NumberOfDependents'])\n",
    "X['UnknownNumberOfDependents'] = X['UnknownNumberOfDependents'].astype(int)\n",
    "X['YearsOfAgePerDependent'] = X['age'] / (1 + X['NumberOfDependents'])"
   ]
  },
  {
   "cell_type": "code",
   "execution_count": 787,
   "metadata": {
    "scrolled": true
   },
   "outputs": [
    {
     "name": "stdout",
     "output_type": "stream",
     "text": [
      "\n",
      "################################################## seed = 0\n",
      "cur time = 2018/11/21 16:29:33\n",
      "========================= seed = 0\n",
      "current whole valid auc = 0.8659576756740076\n",
      "bagging whole valid auc = 0.8659576756740076\n",
      "('best_iteration', [144, 157, 157, 150, 159], 153.4)\n",
      "('train', array([0.88868981, 0.88972809, 0.89081374, 0.8896114 , 0.89030711]), 0.8898300308218531)\n",
      "('valid', array([0.86440486, 0.8684969 , 0.86466483, 0.8646963 , 0.86793148]), 0.8660388738411401)\n",
      "\n",
      "##############################################\n",
      "### CV avergae result ###\n",
      "cur time = 2018/11/21 16:29:52\n",
      "train auc = 0.8898300308218531\n",
      "valid auc = 0.8660388738411401\n",
      "##############################################\n",
      "bagging whole valid auc = 0.8659576756740076\n"
     ]
    }
   ],
   "source": [
    "meta_train, meta_test = cv_lgb(X, X[:10], train[col_label], 1, 5)"
   ]
  },
  {
   "cell_type": "markdown",
   "metadata": {},
   "source": [
    "# not good"
   ]
  },
  {
   "cell_type": "code",
   "execution_count": 851,
   "metadata": {
    "scrolled": true
   },
   "outputs": [],
   "source": [
    "X['Log.MonthlyIncome'] = np.log(X['MonthlyIncome'])\n",
    "X['Log.MonthlyIncome'][np.isinf(X['Log.MonthlyIncome']) | np.isnan(X['Log.MonthlyIncome'])] = 0\n",
    "#X['MonthlyIncome'] = NULL\n",
    "X['Log.IncomePerPerson'] = X['Log.MonthlyIncome'] - np.log1p(X['NumberOfDependents'])\n",
    "X['Log.IncomeAge'] = X['Log.MonthlyIncome'] - np.log1p(X['age'])\n",
    "\n",
    "X['Log.NumberOfTimesPastDue'] = np.log(X['NumberOfTimesPastDue'])\n",
    "X['Log.NumberOfTimesPastDue'][np.isinf(X['Log.NumberOfTimesPastDue'])] = 0"
   ]
  },
  {
   "cell_type": "code",
   "execution_count": 852,
   "metadata": {},
   "outputs": [],
   "source": [
    "X['Log.NumberOfTimes90DaysLate'] = np.log(X['NumberOfTimes90DaysLate'])\n",
    "X['Log.NumberOfTimes90DaysLate'][np.isinf(X['Log.NumberOfTimes90DaysLate'])] = 0\n",
    "\n",
    "X['Log.NumberOfTime30-59DaysPastDueNotWorse'] = np.log(X['NumberOfTime30-59DaysPastDueNotWorse'])\n",
    "X['Log.NumberOfTime30-59DaysPastDueNotWorse'][np.isinf(X['Log.NumberOfTime30-59DaysPastDueNotWorse'])] = 0\n",
    "\n",
    "X['Log.NumberOfTime60-89DaysPastDueNotWorse'] = np.log(X['NumberOfTime60-89DaysPastDueNotWorse'])\n",
    "X['Log.NumberOfTime60-89DaysPastDueNotWorse'][np.isinf(X['Log.NumberOfTime60-89DaysPastDueNotWorse'])] = 0\n",
    "\n",
    "X['Log.Ratio90to30-59DaysLate'] = X['Log.NumberOfTimes90DaysLate'] - X['Log.NumberOfTime30-59DaysPastDueNotWorse']\n",
    "X['Log.Ratio90to60-89DaysLate'] = X['Log.NumberOfTimes90DaysLate'] - X['Log.NumberOfTime60-89DaysPastDueNotWorse']\n"
   ]
  },
  {
   "cell_type": "code",
   "execution_count": 853,
   "metadata": {},
   "outputs": [],
   "source": [
    "X['AnyOpenCreditLinesOrLoans'] = (X['NumberOfOpenCreditLinesAndLoans'] > 0).astype(int)\n",
    "X['Log.NumberOfOpenCreditLinesAndLoans'] = np.log(X['NumberOfOpenCreditLinesAndLoans'])\n",
    "X['Log.NumberOfOpenCreditLinesAndLoans'][np.isinf(X['Log.NumberOfOpenCreditLinesAndLoans'])] = 0\n",
    "X['Log.NumberOfOpenCreditLinesAndLoansPerPerson'] = X['Log.NumberOfOpenCreditLinesAndLoans'] - np.log1p(X['NumberOfDependents'])\n",
    "\n",
    "X['Has.Dependents'] = (X['NumberOfDependents'] > 0).astype(int)\n",
    "X['Log.HouseholdSize'] = np.log1p(X['NumberOfDependents'])\n",
    "#X['NumberOfDependents'] = NULL\n",
    "\n",
    "X['Log.DebtRatio'] = np.log(X['DebtRatio'])\n",
    "X['Log.DebtRatio'][np.isinf(X['Log.DebtRatio'])] = 0\n",
    "#X['DebtRatio'] = NULL"
   ]
  },
  {
   "cell_type": "code",
   "execution_count": 854,
   "metadata": {
    "scrolled": true
   },
   "outputs": [],
   "source": [
    "X['Log.DebtPerDelinquency'] = X['Log.Debt'] - np.log1p(X['NumberOfTimesPastDue'])\n",
    "X['Log.DebtPer90DaysLate'] = X['Log.Debt'] - np.log1p(X['NumberOfTimes90DaysLate'])"
   ]
  },
  {
   "cell_type": "code",
   "execution_count": 714,
   "metadata": {},
   "outputs": [
    {
     "name": "stdout",
     "output_type": "stream",
     "text": [
      "\n",
      "################################################## seed = 0\n",
      "cur time = 2018/11/21 16:18:36\n",
      "========================= seed = 0\n",
      "current whole valid auc = 0.8657531589798454\n",
      "bagging whole valid auc = 0.8657531589798454\n",
      "('best_iteration', [144, 163, 134, 131, 154], 145.2)\n",
      "('train', array([0.88864152, 0.88980279, 0.88730405, 0.88548824, 0.8898079 ]), 0.8882088992991163)\n",
      "('valid', array([0.86401607, 0.8686946 , 0.86399658, 0.8649873 , 0.86743872]), 0.8658266535296866)\n",
      "\n",
      "##############################################\n",
      "### CV avergae result ###\n",
      "cur time = 2018/11/21 16:18:52\n",
      "train auc = 0.8882088992991163\n",
      "valid auc = 0.8658266535296866\n",
      "##############################################\n",
      "bagging whole valid auc = 0.8657531589798454\n"
     ]
    }
   ],
   "source": [
    "meta_train, meta_test = cv_lgb(X, X[:10], train[col_label], 1, 5)"
   ]
  },
  {
   "cell_type": "code",
   "execution_count": null,
   "metadata": {},
   "outputs": [],
   "source": []
  },
  {
   "cell_type": "code",
   "execution_count": 855,
   "metadata": {
    "scrolled": true
   },
   "outputs": [],
   "source": [
    "X['Log.UnknownIncomeDebtRatio'] = np.log(X['UnknownIncomeDebtRatio'])\n",
    "X['Log.UnknownIncomeDebtRatio'][np.isinf(X['Log.UnknownIncomeDebtRatio'])] = 0\n",
    "#X['IntegralDebtRatio'] = NULL\n",
    "X['Log.UnknownIncomeDebtRatioPerPerson'] = X['Log.UnknownIncomeDebtRatio'] - X['Log.HouseholdSize']\n",
    "X['Log.UnknownIncomeDebtRatioPerLine'] = X['Log.UnknownIncomeDebtRatio'] - np.log1p(X['NumberOfOpenCreditLinesAndLoans'])\n",
    "X['Log.UnknownIncomeDebtRatioPerRealEstateLine'] = X['Log.UnknownIncomeDebtRatio'] - np.log1p(X['NumberRealEstateLoansOrLines'])\n",
    "X['Log.UnknownIncomeDebtRatioPerDelinquency'] = X['Log.UnknownIncomeDebtRatio'] - np.log1p(X['NumberOfTimesPastDue'])\n",
    "X['Log.UnknownIncomeDebtRatioPer90DaysLate'] = X['Log.UnknownIncomeDebtRatio'] - np.log1p(X['NumberOfTimes90DaysLate'])\n",
    "\n",
    "X['Log.NumberRealEstateLoansOrLines'] = np.log(X['NumberRealEstateLoansOrLines'])\n",
    "X['Log.NumberRealEstateLoansOrLines'][np.isinf(X['Log.NumberRealEstateLoansOrLines'])] = 0\n",
    "#X['NumberRealEstateLoansOrLines'] = NULL\n",
    "\n",
    "#X['NumberOfOpenCreditLinesAndLoans'] = NULL\n",
    "\n",
    "#X['NumberOfTimesPastDue'] = NULL\n",
    "#X['NumberOfTimes90DaysLate'] = NULL\n",
    "#X['NumberOfTime30-59DaysPastDueNotWorse'] = NULL\n",
    "#X['NumberOfTime60-89DaysPastDueNotWorse'] = NULL\n",
    "\n",
    "X['LowAge'] = (X['age'] < 18).astype(int)\n",
    "X['Log.age'] = np.log(X['age'] - 17)\n",
    "X['Log.age'][X['LowAge'] == 1] = 0\n",
    "#X['age'] = NULL"
   ]
  },
  {
   "cell_type": "code",
   "execution_count": null,
   "metadata": {},
   "outputs": [],
   "source": []
  },
  {
   "cell_type": "code",
   "execution_count": 862,
   "metadata": {
    "scrolled": false
   },
   "outputs": [
    {
     "name": "stdout",
     "output_type": "stream",
     "text": [
      "\n",
      "################################################## seed = 0\n",
      "cur time = 2018/11/21 16:55:38\n",
      "========================= seed = 0\n",
      "current whole valid auc = 0.8668717211341785\n",
      "bagging whole valid auc = 0.8668717211341785\n",
      "('best_iteration', [358, 470, 369, 374, 427], 399.6)\n",
      "('train', array([0.87796504, 0.87921412, 0.87883035, 0.87874372, 0.87913175]), 0.8787769946547325)\n",
      "('valid', array([0.86531751, 0.87023039, 0.86558807, 0.86461278, 0.86902102]), 0.8669539540088088)\n",
      "\n",
      "################################################## seed = 1\n",
      "cur time = 2018/11/21 16:56:41\n",
      "========================= seed = 1\n",
      "current whole valid auc = 0.8670588562127055\n",
      "bagging whole valid auc = 0.8673412178616363\n",
      "('best_iteration', [543, 353, 345, 440, 270], 390.2)\n",
      "('train', array([0.88130171, 0.87832216, 0.87734888, 0.87883533, 0.87733151]), 0.8786279185741741)\n",
      "('valid', array([0.86703009, 0.8649004 , 0.8711275 , 0.87023902, 0.8624197 ]), 0.8671433441544172)\n",
      "\n",
      "################################################## seed = 2\n",
      "cur time = 2018/11/21 16:57:36\n",
      "========================= seed = 2\n",
      "current whole valid auc = 0.8670409861332687\n",
      "bagging whole valid auc = 0.8675132080683268\n",
      "('best_iteration', [473, 240, 350, 358, 419], 368.0)\n",
      "('train', array([0.87950587, 0.87663067, 0.87795181, 0.87841163, 0.87822293]), 0.8781445846888444)\n",
      "('valid', array([0.86917437, 0.86187608, 0.86716539, 0.86612709, 0.87094722]), 0.8670580299128499)\n",
      "\n",
      "################################################## seed = 3\n",
      "cur time = 2018/11/21 16:58:28\n",
      "========================= seed = 3\n",
      "current whole valid auc = 0.8670173920133942\n",
      "bagging whole valid auc = 0.8676020097899063\n",
      "('best_iteration', [407, 539, 400, 273, 535], 430.8)\n",
      "('train', array([0.87854049, 0.88158527, 0.87774954, 0.8774432 , 0.88058416]), 0.8791805326108981)\n",
      "('valid', array([0.86799169, 0.86459605, 0.87143176, 0.86148897, 0.86974316]), 0.8670503270581129)\n",
      "\n",
      "################################################## seed = 4\n",
      "cur time = 2018/11/21 16:59:17\n",
      "========================= seed = 4\n",
      "current whole valid auc = 0.8668446561066765\n",
      "bagging whole valid auc = 0.8676087378354449\n",
      "('best_iteration', [325, 462, 319, 390, 434], 386.0)\n",
      "('train', array([0.87733553, 0.880158  , 0.87683436, 0.87973374, 0.87861816]), 0.8785359588748809)\n",
      "('valid', array([0.86718135, 0.86594038, 0.86903164, 0.86205138, 0.87055195]), 0.8669513400456517)\n",
      "\n",
      "################################################## seed = 5\n",
      "cur time = 2018/11/21 17:00:14\n",
      "========================= seed = 5\n",
      "current whole valid auc = 0.8665794594534014\n",
      "bagging whole valid auc = 0.867581450131155\n",
      "('best_iteration', [627, 561, 253, 347, 422], 442.0)\n",
      "('train', array([0.8840052 , 0.88283914, 0.87519366, 0.87577902, 0.87938237]), 0.8794398771648909)\n",
      "('valid', array([0.85946129, 0.86152455, 0.8699309 , 0.87575666, 0.86716355]), 0.866767391377012)\n",
      "\n",
      "################################################## seed = 6\n",
      "cur time = 2018/11/21 17:01:10\n",
      "========================= seed = 6\n",
      "current whole valid auc = 0.8669302872670795\n",
      "bagging whole valid auc = 0.8676120170628935\n",
      "('best_iteration', [338, 296, 304, 526, 484], 389.6)\n",
      "('train', array([0.87834131, 0.87601431, 0.87771152, 0.88118666, 0.88002873]), 0.8786565059072412)\n",
      "('valid', array([0.86403515, 0.87106979, 0.86493308, 0.86652948, 0.86832756]), 0.8669790101732321)\n",
      "\n",
      "################################################## seed = 7\n",
      "cur time = 2018/11/21 17:01:44\n",
      "========================= seed = 7\n",
      "current whole valid auc = 0.8667923512887667\n",
      "bagging whole valid auc = 0.8676176121289357\n",
      "('best_iteration', [575, 484, 428, 488, 351], 465.2)\n",
      "('train', array([0.88224263, 0.88000144, 0.87976155, 0.88057859, 0.8771002 ]), 0.8799368796788707)\n",
      "('valid', array([0.86415657, 0.86727513, 0.86754168, 0.86672396, 0.8686541 ]), 0.8668702866459504)\n",
      "\n",
      "################################################## seed = 8\n",
      "cur time = 2018/11/21 17:02:39\n",
      "========================= seed = 8\n",
      "current whole valid auc = 0.866467550650618\n",
      "bagging whole valid auc = 0.8675759398604336\n",
      "('best_iteration', [453, 312, 333, 297, 335], 346.0)\n",
      "('train', array([0.88018311, 0.87710084, 0.87736766, 0.8770139 , 0.87744705]), 0.8778225134538473)\n",
      "('valid', array([0.86531978, 0.86630502, 0.86801517, 0.86475085, 0.86829531]), 0.8665372247358883)\n",
      "\n",
      "################################################## seed = 9\n",
      "cur time = 2018/11/21 17:03:39\n",
      "========================= seed = 9\n",
      "current whole valid auc = 0.8668314668714615\n",
      "bagging whole valid auc = 0.8675846687905172\n",
      "('best_iteration', [442, 429, 307, 286, 517], 396.2)\n",
      "('train', array([0.88052991, 0.87858317, 0.87692447, 0.87656451, 0.88066918]), 0.8786542475581445)\n",
      "('valid', array([0.86392054, 0.87097672, 0.86576736, 0.86706441, 0.86704121]), 0.8669540471459015)\n",
      "\n",
      "##############################################\n",
      "### CV avergae result ###\n",
      "cur time = 2018/11/21 17:04:32\n",
      "train auc = 0.8787776013166525\n",
      "valid auc = 0.8669264955257823\n",
      "##############################################\n",
      "bagging whole valid auc = 0.8675846687905172\n"
     ]
    }
   ],
   "source": [
    "meta_train, meta_test = cv_lgb(X2, X, train[col_label], 10, 5)"
   ]
  },
  {
   "cell_type": "code",
   "execution_count": 863,
   "metadata": {},
   "outputs": [],
   "source": [
    "result = pd.DataFrame({col_id:test[col_id], col_label:meta_test})[[col_id, col_label]]\n",
    "result.to_csv(path + '/result/baseline_lgb_3th_fea_hyperopt.csv', index = False)"
   ]
  },
  {
   "cell_type": "code",
   "execution_count": null,
   "metadata": {},
   "outputs": [],
   "source": []
  },
  {
   "cell_type": "code",
   "execution_count": 886,
   "metadata": {},
   "outputs": [
    {
     "name": "stdout",
     "output_type": "stream",
     "text": [
      "\n",
      "################################################## seed = 0\n",
      "cur time = 2018/11/21 17:48:47\n",
      "========================= seed = 0\n",
      "current whole valid auc = 0.8668717211341785\n",
      "bagging whole valid auc = 0.8668717211341785\n",
      "('best_iteration', [358, 470, 369, 374, 427], 399.6)\n",
      "('train', array([0.87796504, 0.87921412, 0.87883035, 0.87874372, 0.87913175]), 0.8787769946547325)\n",
      "('valid', array([0.86531751, 0.87023039, 0.86558807, 0.86461278, 0.86902102]), 0.8669539540088088)\n",
      "\n",
      "##############################################\n",
      "### CV avergae result ###\n",
      "cur time = 2018/11/21 17:49:46\n",
      "train auc = 0.8787769946547325\n",
      "valid auc = 0.8669539540088088\n",
      "##############################################\n",
      "bagging whole valid auc = 0.8668717211341785\n"
     ]
    }
   ],
   "source": [
    "meta_train, meta_test = cv_lgb(X2, X, train[col_label], 1, 5)"
   ]
  },
  {
   "cell_type": "code",
   "execution_count": 887,
   "metadata": {},
   "outputs": [],
   "source": [
    "result = pd.DataFrame({col_id:test[col_id], col_label:meta_test})[[col_id, col_label]]\n",
    "result.to_csv(path + '/result/baseline_single_lgb_3th_fea_hyperopt.csv', index = False)"
   ]
  },
  {
   "cell_type": "code",
   "execution_count": null,
   "metadata": {},
   "outputs": [],
   "source": []
  },
  {
   "cell_type": "code",
   "execution_count": null,
   "metadata": {},
   "outputs": [],
   "source": []
  },
  {
   "cell_type": "code",
   "execution_count": 757,
   "metadata": {},
   "outputs": [
    {
     "name": "stdout",
     "output_type": "stream",
     "text": [
      "\n",
      "################################################## seed = 0\n",
      "cur time = 2018/11/21 16:22:44\n",
      "========================= seed = 0\n",
      "current whole valid auc = 0.8665553394600247\n",
      "bagging whole valid auc = 0.8665553394600247\n",
      "('best_iteration', [164, 158, 123, 270, 176], 178.2)\n",
      "('train', array([0.89486987, 0.89351061, 0.88783532, 0.90811065, 0.8953507 ]), 0.8959354310614345)\n",
      "('valid', array([0.86626529, 0.86987287, 0.86411521, 0.86509039, 0.8681606 ]), 0.8667008708458862)\n",
      "\n",
      "################################################## seed = 1\n",
      "cur time = 2018/11/21 16:23:04\n",
      "========================= seed = 1\n",
      "current whole valid auc = 0.8657517028517944\n",
      "bagging whole valid auc = 0.8667825214446441\n",
      "('best_iteration', [166, 141, 221, 130, 164], 164.4)\n",
      "('train', array([0.89440397, 0.89123911, 0.9021976 , 0.88709036, 0.89491452]), 0.8939691090142844)\n",
      "('valid', array([0.86647552, 0.862617  , 0.87145035, 0.86879737, 0.86027654]), 0.8659233551143217)\n",
      "\n",
      "################################################## seed = 2\n",
      "cur time = 2018/11/21 16:23:28\n",
      "========================= seed = 2\n",
      "current whole valid auc = 0.8660440717737123\n",
      "bagging whole valid auc = 0.8669505056068506\n",
      "('best_iteration', [177, 137, 146, 151, 154], 153.0)\n",
      "('train', array([0.89504496, 0.89041111, 0.89203214, 0.8917192 , 0.89194199]), 0.8922298811468146)\n",
      "('valid', array([0.86862131, 0.8613275 , 0.86550303, 0.86510569, 0.86994399]), 0.866100304459799)\n",
      "\n",
      "################################################## seed = 3\n",
      "cur time = 2018/11/21 16:23:54\n",
      "========================= seed = 3\n",
      "current whole valid auc = 0.8657557730271933\n",
      "bagging whole valid auc = 0.8669766621130581\n",
      "('best_iteration', [193, 169, 158, 140, 167], 165.4)\n",
      "('train', array([0.89723209, 0.89464099, 0.8932354 , 0.89069993, 0.89445472]), 0.8940526254345296)\n",
      "('valid', array([0.86738049, 0.86224263, 0.87058221, 0.86008706, 0.8690142 ]), 0.8658613176174523)\n",
      "\n",
      "################################################## seed = 4\n",
      "cur time = 2018/11/21 16:24:27\n",
      "========================= seed = 4\n",
      "current whole valid auc = 0.8663628640577009\n",
      "bagging whole valid auc = 0.8670917942068811\n",
      "('best_iteration', [175, 169, 163, 165, 135], 161.4)\n",
      "('train', array([0.89596912, 0.89576312, 0.89232449, 0.89566155, 0.88890297]), 0.8937242484829)\n",
      "('valid', array([0.86609304, 0.86561812, 0.86846834, 0.86204972, 0.87034186]), 0.8665142154820492)\n",
      "\n",
      "################################################## seed = 5\n",
      "cur time = 2018/11/21 16:24:48\n",
      "========================= seed = 5\n",
      "current whole valid auc = 0.8657370243542222\n",
      "bagging whole valid auc = 0.8670813515562382\n",
      "('best_iteration', [145, 126, 130, 176, 161], 147.6)\n",
      "('train', array([0.89311484, 0.88865808, 0.88744138, 0.89308308, 0.89343701]), 0.8911468767707114)\n",
      "('valid', array([0.85899102, 0.85990905, 0.86859936, 0.8745221 , 0.86727228]), 0.8658587623717338)\n",
      "\n",
      "################################################## seed = 6\n",
      "cur time = 2018/11/21 16:25:05\n",
      "========================= seed = 6\n",
      "current whole valid auc = 0.8657842261327202\n",
      "bagging whole valid auc = 0.8670821482047145\n",
      "('best_iteration', [121, 105, 123, 156, 138], 128.6)\n",
      "('train', array([0.88725588, 0.88094924, 0.88689722, 0.89288343, 0.88906469]), 0.887410092158859)\n",
      "('valid', array([0.86269351, 0.87082162, 0.86538541, 0.86437844, 0.86712036]), 0.8660798672069031)\n",
      "\n",
      "################################################## seed = 7\n",
      "cur time = 2018/11/21 16:25:20\n",
      "========================= seed = 7\n",
      "current whole valid auc = 0.8662550307745591\n",
      "bagging whole valid auc = 0.8671394990567782\n",
      "('best_iteration', [161, 123, 141, 158, 174], 151.4)\n",
      "('train', array([0.89479881, 0.88623983, 0.88977324, 0.89414319, 0.89613424]), 0.8922178649639632)\n",
      "('valid', array([0.86248218, 0.86699216, 0.86694069, 0.86707413, 0.86845646]), 0.8663891247644904)\n",
      "\n",
      "################################################## seed = 8\n",
      "cur time = 2018/11/21 16:25:40\n",
      "========================= seed = 8\n",
      "current whole valid auc = 0.8657859341527536\n",
      "bagging whole valid auc = 0.8671116975926033\n",
      "('best_iteration', [139, 130, 152, 154, 132], 141.4)\n",
      "('train', array([0.89031012, 0.88847789, 0.89119468, 0.89358285, 0.88806659]), 0.8903264271073283)\n",
      "('valid', array([0.86425108, 0.86522934, 0.867615  , 0.86481679, 0.86766335]), 0.8659151120453702)\n",
      "\n",
      "################################################## seed = 9\n",
      "cur time = 2018/11/21 16:25:56\n",
      "========================= seed = 9\n",
      "current whole valid auc = 0.8659966761773383\n",
      "bagging whole valid auc = 0.867117454411064\n",
      "('best_iteration', [142, 136, 140, 130, 140], 137.6)\n",
      "('train', array([0.89128261, 0.88877352, 0.89036629, 0.8894398 , 0.8906608 ]), 0.8901046045410625)\n",
      "('valid', array([0.86294541, 0.86908437, 0.86574777, 0.86622004, 0.86658158]), 0.8661158332576878)\n",
      "\n",
      "##############################################\n",
      "### CV avergae result ###\n",
      "cur time = 2018/11/21 16:26:14\n",
      "train auc = 0.8921117160681888\n",
      "valid auc = 0.8661458763165695\n",
      "##############################################\n",
      "bagging whole valid auc = 0.867117454411064\n"
     ]
    }
   ],
   "source": [
    "meta_train, meta_test = cv_lgb(X, X, train[col_label], 10, 5)"
   ]
  },
  {
   "cell_type": "code",
   "execution_count": null,
   "metadata": {},
   "outputs": [],
   "source": []
  },
  {
   "cell_type": "code",
   "execution_count": null,
   "metadata": {},
   "outputs": [],
   "source": []
  },
  {
   "cell_type": "markdown",
   "metadata": {},
   "source": [
    "# age"
   ]
  },
  {
   "cell_type": "code",
   "execution_count": 265,
   "metadata": {
    "scrolled": true
   },
   "outputs": [
    {
     "data": {
      "image/png": "[encoded data removed]",
      "text/plain": [
       "<Figure size 576x396 with 1 Axes>"
      ]
     },
     "metadata": {},
     "output_type": "display_data"
    }
   ],
   "source": [
    "col_ana = 'age'\n",
    "sns.kdeplot(train.loc[train[col_label] == 0, col_ana], label = 'target == 0')\n",
    "sns.kdeplot(pd.Series(int(1) * list(train.loc[train[col_label] == 1, col_ana])), label = 'target == 1')\n",
    "plt.xlabel(col_ana)\n",
    "plt.ylabel('density')\n",
    "plt.title(col_ana)\n",
    "plt.show()"
   ]
  },
  {
   "cell_type": "code",
   "execution_count": null,
   "metadata": {},
   "outputs": [],
   "source": []
  },
  {
   "cell_type": "code",
   "execution_count": null,
   "metadata": {},
   "outputs": [],
   "source": []
  },
  {
   "cell_type": "code",
   "execution_count": null,
   "metadata": {},
   "outputs": [],
   "source": []
  },
  {
   "cell_type": "code",
   "execution_count": 106,
   "metadata": {
    "scrolled": true
   },
   "outputs": [
    {
     "data": {
      "text/plain": [
       "count    150000.000000\n",
       "mean         52.295207\n",
       "std          14.771866\n",
       "min           0.000000\n",
       "25%          41.000000\n",
       "50%          52.000000\n",
       "75%          63.000000\n",
       "max         109.000000\n",
       "Name: age, dtype: float64"
      ]
     },
     "execution_count": 106,
     "metadata": {},
     "output_type": "execute_result"
    }
   ],
   "source": [
    "train['age'].describe()"
   ]
  },
  {
   "cell_type": "code",
   "execution_count": 38,
   "metadata": {},
   "outputs": [],
   "source": [
    "train_fea['age_less_52'] = train['age'].apply(lambda x: 1 if x <= 52 else 0)\n",
    "test_fea['age_less_52'] = test['age'].apply(lambda x: 1 if x <= 52 else 0)"
   ]
  },
  {
   "cell_type": "code",
   "execution_count": null,
   "metadata": {},
   "outputs": [],
   "source": []
  },
  {
   "cell_type": "code",
   "execution_count": 40,
   "metadata": {},
   "outputs": [
    {
     "name": "stdout",
     "output_type": "stream",
     "text": [
      "\n",
      "################################################## seed = 0\n",
      "cur time = 2018/11/19 17:01:29\n",
      "========================= seed = 0\n",
      "current whole valid auc = 0.8665138449766701\n",
      "bagging whole valid auc = 0.8665138449766701\n",
      "('best_iteration', [403, 706, 726, 733, 762], 666.0)\n",
      "('train', array([0.87406655, 0.87761815, 0.87877753, 0.87930062, 0.87889961]), 0.8777324920827245)\n",
      "('valid', array([0.86471389, 0.86982395, 0.8651186 , 0.86509144, 0.86852859]), 0.8666552933065214)\n",
      "\n",
      "##############################################\n",
      "### CV avergae result ###\n",
      "cur time = 2018/11/19 17:02:20\n",
      "train auc = 0.8777324920827245\n",
      "valid auc = 0.8666552933065214\n",
      "##############################################\n",
      "bagging whole valid auc = 0.8665138449766701\n"
     ]
    }
   ],
   "source": [
    "# ##############################################\n",
    "# ### CV avergae result ###\n",
    "# cur time = 2018/11/13 19:59:26\n",
    "# train auc = 0.8777210819505399\n",
    "# valid auc = 0.8667551354583244\n",
    "# ##############################################\n",
    "# bagging whole valid auc = 0.8667054104325682\n",
    "\n",
    "meta_train, meta_test = cv_lgb(pd.concat([train_fea, train[col_fea]], axis = 1),\n",
    "                               pd.concat([test_fea, test[col_fea]], axis = 1),\n",
    "                                         train[col_label], 1, 5)"
   ]
  },
  {
   "cell_type": "code",
   "execution_count": null,
   "metadata": {},
   "outputs": [],
   "source": []
  },
  {
   "cell_type": "code",
   "execution_count": 342,
   "metadata": {},
   "outputs": [],
   "source": [
    "train_age = pd.cut(train['age'], 5).to_frame()"
   ]
  },
  {
   "cell_type": "code",
   "execution_count": 343,
   "metadata": {},
   "outputs": [],
   "source": [
    "train_age[col_label] = train[col_label]"
   ]
  },
  {
   "cell_type": "code",
   "execution_count": 344,
   "metadata": {},
   "outputs": [],
   "source": [
    "age_group1 = train_age.groupby('age')[col_label].agg({'cnt_1':np.sum})"
   ]
  },
  {
   "cell_type": "code",
   "execution_count": 345,
   "metadata": {},
   "outputs": [],
   "source": [
    "age_group2 = train_age.groupby('age')[col_label].agg({'cnt_all':'count'})"
   ]
  },
  {
   "cell_type": "code",
   "execution_count": 379,
   "metadata": {},
   "outputs": [],
   "source": [
    "age_group = (age_group1['cnt_1'] / age_group2['cnt_all']).reset_index()\n",
    "age_group.columns = ['age','ratio_1']"
   ]
  },
  {
   "cell_type": "code",
   "execution_count": null,
   "metadata": {},
   "outputs": [],
   "source": [
    "train_age[['age','ratio_1']] = train_age[['age']].merge(age_group, on = 'age')"
   ]
  },
  {
   "cell_type": "code",
   "execution_count": 392,
   "metadata": {},
   "outputs": [],
   "source": [
    "def age_map(x):\n",
    "    for i, age in enumerate(age_group['age']):\n",
    "        if x in age:\n",
    "            return age_group['ratio_1'][i]\n",
    "    return -1\n",
    "\n",
    "train_fea['ratio_1'] = train['age'].apply(age_map)\n",
    "test_fea['ratio_1'] = test['age'].apply(age_map)"
   ]
  },
  {
   "cell_type": "code",
   "execution_count": null,
   "metadata": {},
   "outputs": [],
   "source": []
  },
  {
   "cell_type": "code",
   "execution_count": null,
   "metadata": {},
   "outputs": [],
   "source": []
  },
  {
   "cell_type": "code",
   "execution_count": 393,
   "metadata": {},
   "outputs": [
    {
     "name": "stdout",
     "output_type": "stream",
     "text": [
      "\n",
      "################################################## seed = 0\n",
      "cur time = 2018/11/14 16:55:14\n",
      "========================= seed = 0\n",
      "current whole valid auc = 0.8667967905732092\n",
      "bagging whole valid auc = 0.8667967905732092\n",
      "('best_iteration', [587, 706, 543, 672, 605], 622.6)\n",
      "('train', array([0.87720394, 0.87791485, 0.87685365, 0.87881601, 0.87682322]), 0.8775223352581172)\n",
      "('valid', array([0.86522528, 0.86980268, 0.86529758, 0.86525433, 0.86862914]), 0.8668418028678184)\n",
      "\n",
      "##############################################\n",
      "### CV avergae result ###\n",
      "cur time = 2018/11/14 16:56:02\n",
      "train auc = 0.8775223352581172\n",
      "valid auc = 0.8668418028678184\n",
      "##############################################\n",
      "bagging whole valid auc = 0.8667967905732092\n"
     ]
    }
   ],
   "source": [
    "# ##############################################\n",
    "# ### CV avergae result ###\n",
    "# cur time = 2018/11/13 19:59:26\n",
    "# train auc = 0.8777210819505399\n",
    "# valid auc = 0.8667551354583244\n",
    "# ##############################################\n",
    "# bagging whole valid auc = 0.8667054104325682\n",
    "meta_train, meta_test = cv_lgb(pd.concat([train_fea, train[col_fea]], axis = 1),\n",
    "                               pd.concat([test_fea, test[col_fea]], axis = 1),\n",
    "                                         train[col_label], 1, 5)"
   ]
  },
  {
   "cell_type": "code",
   "execution_count": null,
   "metadata": {},
   "outputs": [],
   "source": []
  },
  {
   "cell_type": "markdown",
   "metadata": {},
   "source": [
    "# MonthlyIncome"
   ]
  },
  {
   "cell_type": "code",
   "execution_count": 121,
   "metadata": {},
   "outputs": [
    {
     "data": {
      "image/png": "[encoded data removed]",
      "text/plain": [
       "<Figure size 576x396 with 1 Axes>"
      ]
     },
     "metadata": {},
     "output_type": "display_data"
    }
   ],
   "source": [
    "col_ana = 'MonthlyIncome'\n",
    "sns.kdeplot(train.loc[train[col_label] == 0, col_ana], label = 'target == 0')\n",
    "sns.kdeplot(pd.Series(int(1) * list(train.loc[train[col_label] == 1, col_ana])), label = 'target == 1')\n",
    "plt.xlabel(col_ana)\n",
    "plt.ylabel('density')\n",
    "plt.title(col_ana)\n",
    "plt.show()"
   ]
  },
  {
   "cell_type": "code",
   "execution_count": 126,
   "metadata": {
    "scrolled": true
   },
   "outputs": [
    {
     "data": {
      "text/plain": [
       "5000.0     2757\n",
       "4000.0     2106\n",
       "6000.0     1934\n",
       "3000.0     1758\n",
       "0.0        1634\n",
       "2500.0     1551\n",
       "10000.0    1466\n",
       "3500.0     1360\n",
       "4500.0     1226\n",
       "7000.0     1223\n",
       "8000.0     1127\n",
       "2000.0     1116\n",
       "7500.0     1051\n",
       "10500.0    1013\n",
       "5500.0      897\n",
       "6500.0      841\n",
       "9000.0      763\n",
       "1.0         605\n",
       "3200.0      584\n",
       "6250.0      570\n",
       "4200.0      569\n",
       "4166.0      554\n",
       "1500.0      553\n",
       "12000.0     547\n",
       "8333.0      543\n",
       "8500.0      505\n",
       "3750.0      504\n",
       "3600.0      503\n",
       "2400.0      501\n",
       "12500.0     499\n",
       "           ... \n",
       "6896.0        1\n",
       "3057.0        1\n",
       "20283.0       1\n",
       "16254.0       1\n",
       "727.0         1\n",
       "8405.0        1\n",
       "28430.0       1\n",
       "8852.0        1\n",
       "7462.0        1\n",
       "10224.0       1\n",
       "40388.0       1\n",
       "15667.0       1\n",
       "6899.0        1\n",
       "10099.0       1\n",
       "30500.0       1\n",
       "10101.0       1\n",
       "25808.0       1\n",
       "14803.0       1\n",
       "9329.0        1\n",
       "14214.0       1\n",
       "16582.0       1\n",
       "10105.0       1\n",
       "11637.0       1\n",
       "595.0         1\n",
       "16580.0       1\n",
       "3847.0        1\n",
       "10113.0       1\n",
       "14210.0       1\n",
       "13023.0       1\n",
       "1037.0        1\n",
       "Name: MonthlyIncome, Length: 13594, dtype: int64"
      ]
     },
     "execution_count": 126,
     "metadata": {},
     "output_type": "execute_result"
    }
   ],
   "source": [
    "train['MonthlyIncome'].value_counts()"
   ]
  },
  {
   "cell_type": "code",
   "execution_count": 127,
   "metadata": {},
   "outputs": [
    {
     "data": {
      "text/plain": [
       "29731"
      ]
     },
     "execution_count": 127,
     "metadata": {},
     "output_type": "execute_result"
    }
   ],
   "source": [
    "train['MonthlyIncome'].isnull().sum()"
   ]
  },
  {
   "cell_type": "code",
   "execution_count": 137,
   "metadata": {
    "scrolled": true
   },
   "outputs": [
    {
     "data": {
      "text/plain": [
       "0          True\n",
       "1          True\n",
       "2          True\n",
       "3          True\n",
       "4          True\n",
       "5          True\n",
       "6         False\n",
       "7          True\n",
       "8         False\n",
       "9          True\n",
       "10         True\n",
       "11         True\n",
       "12         True\n",
       "13         True\n",
       "14         True\n",
       "15         True\n",
       "16        False\n",
       "17         True\n",
       "18         True\n",
       "19         True\n",
       "20         True\n",
       "21         True\n",
       "22         True\n",
       "23         True\n",
       "24         True\n",
       "25         True\n",
       "26         True\n",
       "27         True\n",
       "28         True\n",
       "29         True\n",
       "          ...  \n",
       "149970     True\n",
       "149971     True\n",
       "149972     True\n",
       "149973     True\n",
       "149974     True\n",
       "149975    False\n",
       "149976    False\n",
       "149977    False\n",
       "149978     True\n",
       "149979     True\n",
       "149980     True\n",
       "149981     True\n",
       "149982     True\n",
       "149983     True\n",
       "149984    False\n",
       "149985     True\n",
       "149986     True\n",
       "149987     True\n",
       "149988     True\n",
       "149989     True\n",
       "149990     True\n",
       "149991     True\n",
       "149992    False\n",
       "149993     True\n",
       "149994     True\n",
       "149995     True\n",
       "149996     True\n",
       "149997    False\n",
       "149998     True\n",
       "149999     True\n",
       "Name: MonthlyIncome, Length: 150000, dtype: bool"
      ]
     },
     "execution_count": 137,
     "metadata": {},
     "output_type": "execute_result"
    }
   ],
   "source": [
    "idx_not_zero_MonthlyIncome = ~train['MonthlyIncome'].isnull()\n",
    "idx_not_zero_MonthlyIncome"
   ]
  },
  {
   "cell_type": "code",
   "execution_count": 140,
   "metadata": {},
   "outputs": [
    {
     "data": {
      "text/plain": [
       "(150000, 12)"
      ]
     },
     "execution_count": 140,
     "metadata": {},
     "output_type": "execute_result"
    }
   ],
   "source": [
    "train[].shape"
   ]
  },
  {
   "cell_type": "code",
   "execution_count": 146,
   "metadata": {},
   "outputs": [
    {
     "data": {
      "image/png": "[encoded data removed]",
      "text/plain": [
       "<Figure size 576x396 with 1 Axes>"
      ]
     },
     "metadata": {},
     "output_type": "display_data"
    }
   ],
   "source": [
    "col_ana = 'MonthlyIncome'\n",
    "sns.kdeplot(train.loc[train[col_label] == 0, col_ana][idx_not_zero_MonthlyIncome], label = 'target == 0')\n",
    "#sns.kdeplot(train.loc[train[col_label] == 1, col_ana][idx_not_zero_MonthlyIncome], label = 'target == 1')\n",
    "plt.xlabel(col_ana)\n",
    "plt.ylabel('density')\n",
    "plt.title(col_ana)\n",
    "plt.show()"
   ]
  },
  {
   "cell_type": "code",
   "execution_count": 147,
   "metadata": {},
   "outputs": [
    {
     "data": {
      "image/png": "[encoded data removed]",
      "text/plain": [
       "<Figure size 576x396 with 1 Axes>"
      ]
     },
     "metadata": {},
     "output_type": "display_data"
    }
   ],
   "source": [
    "col_ana = 'MonthlyIncome'\n",
    "#sns.kdeplot(train.loc[train[col_label] == 0, col_ana][idx_not_zero_MonthlyIncome], label = 'target == 0')\n",
    "sns.kdeplot(train.loc[train[col_label] == 1, col_ana][idx_not_zero_MonthlyIncome], label = 'target == 1')\n",
    "plt.xlabel(col_ana)\n",
    "plt.ylabel('density')\n",
    "plt.title(col_ana)\n",
    "plt.show()"
   ]
  },
  {
   "cell_type": "code",
   "execution_count": 148,
   "metadata": {},
   "outputs": [
    {
     "data": {
      "image/png": "[encoded data removed]",
      "text/plain": [
       "<Figure size 576x396 with 1 Axes>"
      ]
     },
     "metadata": {},
     "output_type": "display_data"
    }
   ],
   "source": [
    "col_ana = 'MonthlyIncome'\n",
    "sns.kdeplot(train.loc[train[col_label] == 0, col_ana][idx_not_zero_MonthlyIncome], label = 'target == 0')\n",
    "sns.kdeplot(train.loc[train[col_label] == 1, col_ana][idx_not_zero_MonthlyIncome], label = 'target == 1')\n",
    "plt.xlabel(col_ana)\n",
    "plt.ylabel('density')\n",
    "plt.title(col_ana)\n",
    "plt.show()"
   ]
  },
  {
   "cell_type": "code",
   "execution_count": 154,
   "metadata": {},
   "outputs": [
    {
     "data": {
      "text/plain": [
       "count    1.119120e+05\n",
       "mean     6.747838e+03\n",
       "std      1.481350e+04\n",
       "min      0.000000e+00\n",
       "25%      3.461000e+03\n",
       "50%      5.466000e+03\n",
       "75%      8.333000e+03\n",
       "max      3.008750e+06\n",
       "Name: MonthlyIncome, dtype: float64"
      ]
     },
     "execution_count": 154,
     "metadata": {},
     "output_type": "execute_result"
    }
   ],
   "source": [
    "train.loc[train[col_label] == 0, col_ana][idx_not_zero_MonthlyIncome].describe()"
   ]
  },
  {
   "cell_type": "code",
   "execution_count": 155,
   "metadata": {},
   "outputs": [
    {
     "data": {
      "text/plain": [
       "count      8357.000000\n",
       "mean       5630.826493\n",
       "std        6171.719674\n",
       "min           0.000000\n",
       "25%        2963.000000\n",
       "50%        4500.000000\n",
       "75%        6800.000000\n",
       "max      250000.000000\n",
       "Name: MonthlyIncome, dtype: float64"
      ]
     },
     "execution_count": 155,
     "metadata": {},
     "output_type": "execute_result"
    }
   ],
   "source": [
    "train.loc[train[col_label] == 1, col_ana][idx_not_zero_MonthlyIncome].describe()"
   ]
  },
  {
   "cell_type": "code",
   "execution_count": null,
   "metadata": {},
   "outputs": [],
   "source": []
  },
  {
   "cell_type": "code",
   "execution_count": 151,
   "metadata": {},
   "outputs": [],
   "source": [
    "train_fea['MonthlyIncome_less_25000'] = train['MonthlyIncome'].apply(lambda x: 1 if x <= 25000 else 0)\n",
    "test_fea['MonthlyIncome_less_25000'] = test['MonthlyIncome'].apply(lambda x: 1 if x <= 25000 else 0)"
   ]
  },
  {
   "cell_type": "code",
   "execution_count": 152,
   "metadata": {},
   "outputs": [
    {
     "name": "stdout",
     "output_type": "stream",
     "text": [
      "\n",
      "################################################## seed = 0\n",
      "cur time = 2018/11/13 20:48:51\n",
      "========================= seed = 0\n",
      "current whole valid auc = 0.8667100720375156\n",
      "bagging whole valid auc = 0.8667100720375156\n",
      "('best_iteration', [575, 661, 623, 668, 604], 626.2)\n",
      "('train', array([0.87753768, 0.87762124, 0.87827375, 0.87911564, 0.87714156]), 0.8779379747562057)\n",
      "('valid', array([0.86533087, 0.8698014 , 0.86518805, 0.8650704 , 0.86840074]), 0.8667582916464518)\n",
      "\n",
      "##############################################\n",
      "### CV avergae result ###\n",
      "cur time = 2018/11/13 20:49:37\n",
      "train auc = 0.8779379747562057\n",
      "valid auc = 0.8667582916464518\n",
      "##############################################\n",
      "bagging whole valid auc = 0.8667100720375156\n"
     ]
    }
   ],
   "source": [
    "# baseline\n",
    "# ##############################################\n",
    "# ### CV avergae result ###\n",
    "# cur time = 2018/11/13 19:59:26\n",
    "# train auc = 0.8777210819505399\n",
    "# valid auc = 0.8667551354583244\n",
    "# ##############################################\n",
    "# bagging whole valid auc = 0.8667054104325682\n",
    "\n",
    "\n",
    "# add age\n",
    "# ##############################################\n",
    "# ### CV avergae result ###\n",
    "# cur time = 2018/11/13 20:33:31\n",
    "# train auc = 0.876900927181147\n",
    "# valid auc = 0.8668217981397964\n",
    "# ##############################################\n",
    "# bagging whole valid auc = 0.8667888971264337\n",
    "meta_train, meta_test = cv_lgb(pd.concat([train_fea, train[col_fea]], axis = 1),\n",
    "                               pd.concat([test_fea, test[col_fea]], axis = 1),\n",
    "                                         train[col_label], 1, 5)"
   ]
  },
  {
   "cell_type": "code",
   "execution_count": null,
   "metadata": {},
   "outputs": [],
   "source": []
  },
  {
   "cell_type": "markdown",
   "metadata": {},
   "source": [
    "# DebtRatio"
   ]
  },
  {
   "cell_type": "code",
   "execution_count": 171,
   "metadata": {},
   "outputs": [
    {
     "data": {
      "image/png": "[encoded data removed]",
      "text/plain": [
       "<Figure size 576x396 with 1 Axes>"
      ]
     },
     "metadata": {},
     "output_type": "display_data"
    }
   ],
   "source": [
    "col_ana = 'DebtRatio'\n",
    "sns.kdeplot(train.loc[train[col_label] == 0, col_ana], label = 'target == 0')\n",
    "sns.kdeplot(pd.Series(int(1) * list(train.loc[train[col_label] == 1, col_ana])), label = 'target == 1')\n",
    "plt.xlabel(col_ana)\n",
    "plt.ylabel('density')\n",
    "plt.title(col_ana)\n",
    "plt.show()"
   ]
  },
  {
   "cell_type": "code",
   "execution_count": 184,
   "metadata": {},
   "outputs": [
    {
     "data": {
      "image/png": "[encoded data removed]",
      "text/plain": [
       "<Figure size 576x396 with 1 Axes>"
      ]
     },
     "metadata": {},
     "output_type": "display_data"
    }
   ],
   "source": [
    "x1=train[\"RevolvingUtilizationOfUnsecuredLines\"]\n",
    "x2=train[\"DebtRatio\"]\n",
    "fig=plt.figure(1)\n",
    "ax=fig.add_subplot(111)\n",
    "ax.boxplot([x1,x2])\n",
    "ax.set_xticklabels([\"RevolvingUtilizationOfUnsecuredLines\",\"DebtRatio\"])\n",
    "plt.show()"
   ]
  },
  {
   "cell_type": "code",
   "execution_count": 201,
   "metadata": {},
   "outputs": [
    {
     "data": {
      "image/png": "[encoded data removed]",
      "text/plain": [
       "<Figure size 576x396 with 1 Axes>"
      ]
     },
     "metadata": {},
     "output_type": "display_data"
    }
   ],
   "source": [
    "col_ana = 'age'\n",
    "plt.boxplot(train[col_ana],meanline=True, showfliers = True)\n",
    "plt.show()\n"
   ]
  },
  {
   "cell_type": "code",
   "execution_count": 222,
   "metadata": {},
   "outputs": [
    {
     "data": {
      "image/png": "[encoded data removed]",
      "text/plain": [
       "<Figure size 288x288 with 1 Axes>"
      ]
     },
     "metadata": {},
     "output_type": "display_data"
    }
   ],
   "source": [
    "# col_ana = 'age'\n",
    "# plt.violinplot(train[col_ana], showmeans=False, showmedians=True)\n",
    "# plt.show()\n",
    "\n",
    "col_ana = 'age'\n",
    "fig = plt.figure(figsize=(4,4))\n",
    "plt.boxplot(train[col_ana])\n",
    "plt.violinplot(train[col_ana], showmeans=False, showmedians=True)\n",
    "plt.title('Box plot')\n",
    "plt.show()"
   ]
  },
  {
   "cell_type": "code",
   "execution_count": null,
   "metadata": {},
   "outputs": [],
   "source": []
  },
  {
   "cell_type": "code",
   "execution_count": 242,
   "metadata": {},
   "outputs": [
    {
     "data": {
      "image/png": "[encoded data removed]",
      "text/plain": [
       "<Figure size 288x288 with 1 Axes>"
      ]
     },
     "metadata": {},
     "output_type": "display_data"
    }
   ],
   "source": [
    "col_ana = 'age'\n",
    "fig = plt.figure(figsize=(4,4))\n",
    "plt.boxplot(train[col_ana], sym='go')\n",
    "plt.show()"
   ]
  },
  {
   "cell_type": "code",
   "execution_count": null,
   "metadata": {},
   "outputs": [],
   "source": []
  },
  {
   "cell_type": "code",
   "execution_count": null,
   "metadata": {},
   "outputs": [],
   "source": []
  },
  {
   "cell_type": "code",
   "execution_count": 245,
   "metadata": {},
   "outputs": [
    {
     "data": {
      "image/png": "[encoded data removed]",
      "text/plain": [
       "<Figure size 576x396 with 1 Axes>"
      ]
     },
     "metadata": {},
     "output_type": "display_data"
    }
   ],
   "source": [
    "col_ana = 'RevolvingUtilizationOfUnsecuredLines'\n",
    "plt.boxplot(np.log1p(np.log1p(train[col_ana])),meanline=True, sym = 'go')\n",
    "plt.show()"
   ]
  },
  {
   "cell_type": "code",
   "execution_count": null,
   "metadata": {},
   "outputs": [],
   "source": []
  },
  {
   "cell_type": "code",
   "execution_count": 249,
   "metadata": {},
   "outputs": [],
   "source": [
    "col_ana1 = 'NumberOfTime30-59DaysPastDueNotWorse'\n",
    "col_ana2 = 'NumberOfTime60-89DaysPastDueNotWorse'\n",
    "col_ana3 = 'NumberOfTimes90DaysLate'"
   ]
  },
  {
   "cell_type": "code",
   "execution_count": 260,
   "metadata": {},
   "outputs": [
    {
     "data": {
      "image/png": "[encoded data removed]",
      "text/plain": [
       "<Figure size 864x288 with 3 Axes>"
      ]
     },
     "metadata": {},
     "output_type": "display_data"
    }
   ],
   "source": [
    "fig = plt.figure(figsize=(12,4))\n",
    "plt.subplot(1,3,1)\n",
    "plt.boxplot(train[col_ana1],meanline=True, sym = 'go')\n",
    "\n",
    "plt.subplot(1,3,2)\n",
    "plt.boxplot(train[col_ana2],meanline=True, sym = 'go')\n",
    "\n",
    "plt.subplot(1,3,3)\n",
    "plt.boxplot(train[col_ana3],meanline=True, sym = 'go')\n",
    "plt.show()"
   ]
  },
  {
   "cell_type": "code",
   "execution_count": null,
   "metadata": {},
   "outputs": [],
   "source": []
  },
  {
   "cell_type": "code",
   "execution_count": null,
   "metadata": {},
   "outputs": [],
   "source": []
  },
  {
   "cell_type": "code",
   "execution_count": null,
   "metadata": {},
   "outputs": [],
   "source": []
  },
  {
   "cell_type": "code",
   "execution_count": null,
   "metadata": {},
   "outputs": [],
   "source": []
  },
  {
   "cell_type": "code",
   "execution_count": null,
   "metadata": {},
   "outputs": [],
   "source": []
  },
  {
   "cell_type": "code",
   "execution_count": null,
   "metadata": {},
   "outputs": [],
   "source": []
  },
  {
   "cell_type": "code",
   "execution_count": null,
   "metadata": {},
   "outputs": [],
   "source": []
  },
  {
   "cell_type": "code",
   "execution_count": null,
   "metadata": {},
   "outputs": [],
   "source": []
  },
  {
   "cell_type": "markdown",
   "metadata": {},
   "source": [
    "# NumberOfTimes90DaysLate"
   ]
  },
  {
   "cell_type": "code",
   "execution_count": 166,
   "metadata": {},
   "outputs": [
    {
     "data": {
      "image/png": "[encoded data removed]",
      "text/plain": [
       "<Figure size 576x396 with 1 Axes>"
      ]
     },
     "metadata": {},
     "output_type": "display_data"
    }
   ],
   "source": [
    "col_ana = 'NumberOfTimes90DaysLate'\n",
    "sns.kdeplot(train.loc[train[col_label] == 0, col_ana], label = 'target == 0')\n",
    "sns.kdeplot(pd.Series(int(1) * list(train.loc[train[col_label] == 1, col_ana])), label = 'target == 1')\n",
    "plt.xlabel(col_ana)\n",
    "plt.ylabel('density')\n",
    "plt.title(col_ana)\n",
    "plt.show()"
   ]
  },
  {
   "cell_type": "code",
   "execution_count": null,
   "metadata": {},
   "outputs": [],
   "source": []
  },
  {
   "cell_type": "code",
   "execution_count": null,
   "metadata": {},
   "outputs": [],
   "source": []
  },
  {
   "cell_type": "code",
   "execution_count": null,
   "metadata": {},
   "outputs": [],
   "source": []
  },
  {
   "cell_type": "markdown",
   "metadata": {},
   "source": [
    "# end of EDA"
   ]
  },
  {
   "cell_type": "code",
   "execution_count": null,
   "metadata": {},
   "outputs": [],
   "source": []
  },
  {
   "cell_type": "markdown",
   "metadata": {},
   "source": [
    "# baseline model"
   ]
  },
  {
   "cell_type": "code",
   "execution_count": 28,
   "metadata": {},
   "outputs": [],
   "source": [
    "col_id = 'Id'\n",
    "col_label = 'Probability'\n",
    "col_fea = [col for col in train.columns if col not in [col_id, col_label]]"
   ]
  },
  {
   "cell_type": "markdown",
   "metadata": {},
   "source": [
    "# bagging cv lgb"
   ]
  },
  {
   "cell_type": "code",
   "execution_count": 85,
   "metadata": {},
   "outputs": [],
   "source": [
    "# best"
   ]
  },
  {
   "cell_type": "code",
   "execution_count": 59,
   "metadata": {
    "scrolled": true
   },
   "outputs": [
    {
     "name": "stdout",
     "output_type": "stream",
     "text": [
      "\n",
      "################################################## seed = 0\n",
      "cur time = 2018/11/13 17:43:26\n",
      "========================= seed = 0\n",
      "current whole valid auc = 0.8657359323472548\n",
      "bagging whole valid auc = 0.8657359323472548\n",
      "('best_iteration', [261, 145, 137, 237, 217], 199.4)\n",
      "('train', array([0.89780202, 0.88374393, 0.88373328, 0.89444568, 0.89145291]), 0.8902355625568568)\n",
      "('valid', array([0.8644881 , 0.86830905, 0.86391065, 0.86459549, 0.8679837 ]), 0.8658573978087439)\n",
      "\n",
      "################################################## seed = 1\n",
      "cur time = 2018/11/13 17:43:41\n",
      "========================= seed = 1\n",
      "current whole valid auc = 0.865770130870191\n",
      "bagging whole valid auc = 0.8663650413022616\n",
      "('best_iteration', [242, 140, 242, 115, 201], 188.0)\n",
      "('train', array([0.89470877, 0.88403458, 0.89311251, 0.87914919, 0.89222965]), 0.8886469410468489)\n",
      "('valid', array([0.86678813, 0.86360099, 0.87065722, 0.86811888, 0.86096857]), 0.8660267584590293)\n",
      "\n",
      "################################################## seed = 2\n",
      "cur time = 2018/11/13 17:43:56\n",
      "========================= seed = 2\n",
      "current whole valid auc = 0.8660306057067149\n",
      "bagging whole valid auc = 0.8666144115145878\n",
      "('best_iteration', [138, 154, 168, 148, 180], 157.6)\n",
      "('train', array([0.88330206, 0.88644222, 0.88788412, 0.88540599, 0.88737433]), 0.8860817433759041)\n",
      "('valid', array([0.86873989, 0.86165969, 0.86531641, 0.86504272, 0.86988169]), 0.8661280812601874)\n",
      "\n",
      "################################################## seed = 3\n",
      "cur time = 2018/11/13 17:44:09\n",
      "========================= seed = 3\n",
      "current whole valid auc = 0.8657840700808273\n",
      "bagging whole valid auc = 0.8667168235977231\n",
      "('best_iteration', [174, 197, 119, 148, 136], 154.8)\n",
      "('train', array([0.88766418, 0.89052541, 0.87899629, 0.88577804, 0.8829426 ]), 0.8851813037170725)\n",
      "('valid', array([0.86680472, 0.86259891, 0.87100335, 0.86052337, 0.86928679]), 0.8660434276760787)\n",
      "\n",
      "################################################## seed = 4\n",
      "cur time = 2018/11/13 17:44:21\n",
      "========================= seed = 4\n",
      "current whole valid auc = 0.8658704651116835\n",
      "bagging whole valid auc = 0.8667641294108165\n",
      "('best_iteration', [151, 119, 191, 156, 214], 166.2)\n",
      "('train', array([0.88523658, 0.88035982, 0.88920933, 0.88685809, 0.89130381]), 0.8865935256468551)\n",
      "('valid', array([0.86659771, 0.8647627 , 0.86710757, 0.86120272, 0.87045341]), 0.8660248213411803)\n",
      "\n",
      "################################################## seed = 5\n",
      "cur time = 2018/11/13 17:44:35\n",
      "========================= seed = 5\n",
      "current whole valid auc = 0.865422340367899\n",
      "bagging whole valid auc = 0.8667502564687921\n",
      "('best_iteration', [191, 240, 124, 225, 171], 190.2)\n",
      "('train', array([0.89141439, 0.89628471, 0.88118204, 0.89122975, 0.88744939]), 0.8895120566241876)\n",
      "('valid', array([0.85889683, 0.8602008 , 0.86891698, 0.8744427 , 0.86564325]), 0.865620114022575)\n",
      "\n",
      "################################################## seed = 6\n",
      "cur time = 2018/11/13 17:44:50\n",
      "========================= seed = 6\n",
      "current whole valid auc = 0.8658519391155003\n",
      "bagging whole valid auc = 0.8668024490576005\n",
      "('best_iteration', [143, 270, 141, 260, 210], 204.8)\n",
      "('train', array([0.88541183, 0.8974518 , 0.88416916, 0.89765011, 0.8910745 ]), 0.8911514799221887)\n",
      "('valid', array([0.86123824, 0.8719896 , 0.86435446, 0.86419835, 0.86775856]), 0.8659078451086412)\n",
      "\n",
      "################################################## seed = 7\n",
      "cur time = 2018/11/13 17:45:05\n",
      "========================= seed = 7\n",
      "current whole valid auc = 0.8657759992051871\n",
      "bagging whole valid auc = 0.8668103663753278\n",
      "('best_iteration', [161, 138, 253, 126, 148], 165.2)\n",
      "('train', array([0.88709052, 0.88236031, 0.89700498, 0.88232243, 0.88489893]), 0.8867354327146494)\n",
      "('valid', array([0.86212047, 0.86702301, 0.86703592, 0.86653781, 0.86674444]), 0.8658923302924775)\n",
      "\n",
      "################################################## seed = 8\n",
      "cur time = 2018/11/13 17:45:19\n",
      "========================= seed = 8\n",
      "current whole valid auc = 0.8656680055947582\n",
      "bagging whole valid auc = 0.8668029150755823\n",
      "('best_iteration', [178, 158, 216, 173, 176], 180.2)\n",
      "('train', array([0.88832681, 0.88575807, 0.89197021, 0.88958686, 0.88734601]), 0.8885975912291958)\n",
      "('valid', array([0.86427569, 0.86600854, 0.86750696, 0.8631447 , 0.86770567]), 0.8657283130869704)\n",
      "\n",
      "################################################## seed = 9\n",
      "cur time = 2018/11/13 17:45:33\n",
      "========================= seed = 9\n",
      "current whole valid auc = 0.865561154939746\n",
      "bagging whole valid auc = 0.8667724970700794\n",
      "('best_iteration', [168, 174, 131, 173, 169], 163.0)\n",
      "('train', array([0.88769585, 0.88751381, 0.88233714, 0.88806403, 0.88763854]), 0.8866498732125094)\n",
      "('valid', array([0.86227484, 0.86882123, 0.86493155, 0.86541526, 0.86692684]), 0.8656739444626886)\n",
      "\n",
      "##############################################\n",
      "### CV avergae result ###\n",
      "cur time = 2018/11/13 17:45:46\n",
      "train auc = 0.8879385510046268\n",
      "valid auc = 0.8658903033518573\n",
      "##############################################\n",
      "bagging whole valid auc = 0.8667724970700794\n"
     ]
    }
   ],
   "source": [
    "meta_train, meta_test = cv_lgb(train[col_fea], test[col_fea], train[col_label], 10, 5)"
   ]
  },
  {
   "cell_type": "code",
   "execution_count": 60,
   "metadata": {},
   "outputs": [],
   "source": [
    "result = pd.DataFrame({col_id:test[col_id], col_label:meta_test})[[col_id, col_label]]\n",
    "result.to_csv(path + '/result/baseline_lgb.csv', index = False)"
   ]
  },
  {
   "cell_type": "code",
   "execution_count": null,
   "metadata": {},
   "outputs": [],
   "source": []
  },
  {
   "cell_type": "markdown",
   "metadata": {},
   "source": [
    "# bagging cv lgb + hypteropt"
   ]
  },
  {
   "cell_type": "code",
   "execution_count": 86,
   "metadata": {},
   "outputs": [
    {
     "name": "stdout",
     "output_type": "stream",
     "text": [
      "\n",
      "################################################## seed = 0\n",
      "cur time = 2018/11/13 20:04:22\n",
      "========================= seed = 0\n",
      "current whole valid auc = 0.8667054104325682\n",
      "bagging whole valid auc = 0.8667054104325682\n",
      "('best_iteration', [651, 603, 541, 678, 505], 595.6)\n",
      "('train', array([0.87877802, 0.87714879, 0.87721292, 0.87942704, 0.87603864]), 0.8777210819505399)\n",
      "('valid', array([0.86524562, 0.8697685 , 0.86519924, 0.86524657, 0.86831575]), 0.8667551354583244)\n",
      "\n",
      "################################################## seed = 1\n",
      "cur time = 2018/11/13 20:05:02\n",
      "========================= seed = 1\n",
      "current whole valid auc = 0.8663318913197839\n",
      "bagging whole valid auc = 0.8667889662453085\n",
      "('best_iteration', [614, 532, 668, 369, 747], 586.0)\n",
      "('train', array([0.8779158 , 0.87703925, 0.87793102, 0.8733054 , 0.88087915]), 0.8774141249007709)\n",
      "('valid', array([0.86696038, 0.86485143, 0.87090579, 0.86845029, 0.86165802]), 0.8665651822168021)\n",
      "\n",
      "################################################## seed = 2\n",
      "cur time = 2018/11/13 20:05:42\n",
      "========================= seed = 2\n",
      "current whole valid auc = 0.8666681304191711\n",
      "bagging whole valid auc = 0.8669362368345681\n",
      "('best_iteration', [975, 484, 702, 679, 594], 686.8)\n",
      "('train', array([0.88131274, 0.87701157, 0.87924874, 0.87919919, 0.87689853]), 0.8787341534751365)\n",
      "('valid', array([0.86920498, 0.86171565, 0.8657789 , 0.86629182, 0.87077723]), 0.8667537140895483)\n",
      "\n",
      "################################################## seed = 3\n",
      "cur time = 2018/11/13 20:06:28\n",
      "========================= seed = 3\n",
      "current whole valid auc = 0.8667135368883345\n",
      "bagging whole valid auc = 0.8670097721918553\n",
      "('best_iteration', [735, 869, 494, 511, 624], 646.6)\n",
      "('train', array([0.87928518, 0.88184683, 0.8749918 , 0.87784802, 0.87743296]), 0.878280959512743)\n",
      "('valid', array([0.86747626, 0.86416716, 0.87184031, 0.86086015, 0.8696896 ]), 0.866806697240289)\n",
      "\n",
      "################################################## seed = 4\n",
      "cur time = 2018/11/13 20:07:11\n",
      "========================= seed = 4\n",
      "current whole valid auc = 0.8663595994378495\n",
      "bagging whole valid auc = 0.8669968120465198\n",
      "('best_iteration', [550, 430, 737, 858, 594], 633.8)\n",
      "('train', array([0.87678372, 0.87549809, 0.87937108, 0.88200741, 0.87676371]), 0.878084802004772)\n",
      "('valid', array([0.86685511, 0.86493751, 0.8681407 , 0.86200569, 0.8707294 ]), 0.8665336843763736)\n",
      "\n",
      "################################################## seed = 5\n",
      "cur time = 2018/11/13 20:07:54\n",
      "========================= seed = 5\n",
      "current whole valid auc = 0.8664178862449878\n",
      "bagging whole valid auc = 0.8669791154768359\n",
      "('best_iteration', [726, 557, 540, 608, 610], 608.2)\n",
      "('train', array([0.8815283 , 0.87837706, 0.87603753, 0.87624832, 0.8780689 ]), 0.8780520212499188)\n",
      "('valid', array([0.85891788, 0.86139426, 0.87044621, 0.87457799, 0.8672246 ]), 0.8665121866856241)\n",
      "\n",
      "################################################## seed = 6\n",
      "cur time = 2018/11/13 20:08:34\n",
      "========================= seed = 6\n",
      "current whole valid auc = 0.8663419598734233\n",
      "bagging whole valid auc = 0.8669591265832275\n",
      "('best_iteration', [649, 509, 512, 660, 579], 581.8)\n",
      "('train', array([0.87940006, 0.87544899, 0.87690811, 0.87870262, 0.87687397]), 0.8774667505203411)\n",
      "('valid', array([0.86256229, 0.87054774, 0.86545567, 0.8647117 , 0.86886257]), 0.8664279919534511)\n",
      "\n",
      "################################################## seed = 7\n",
      "cur time = 2018/11/13 20:09:13\n",
      "========================= seed = 7\n",
      "current whole valid auc = 0.8663015894624938\n",
      "bagging whole valid auc = 0.8669404986901461\n",
      "('best_iteration', [484, 547, 687, 532, 595], 569.0)\n",
      "('train', array([0.87649388, 0.87689392, 0.87875715, 0.87718665, 0.87748352]), 0.8773630226543012)\n",
      "('valid', array([0.86246592, 0.86702471, 0.86796344, 0.8659246 , 0.86809669]), 0.8662950724646323)\n",
      "\n",
      "################################################## seed = 8\n",
      "cur time = 2018/11/13 20:09:53\n",
      "========================= seed = 8\n",
      "current whole valid auc = 0.8664089531648251\n",
      "bagging whole valid auc = 0.8669332233941336\n",
      "('best_iteration', [594, 547, 599, 549, 627], 583.2)\n",
      "('train', array([0.87809985, 0.87707209, 0.87754669, 0.87740639, 0.87801097]), 0.877627199746439)\n",
      "('valid', array([0.86493527, 0.8665273 , 0.86792648, 0.8640191 , 0.86877894]), 0.8664374179353234)\n",
      "\n",
      "################################################## seed = 9\n",
      "cur time = 2018/11/13 20:10:33\n",
      "========================= seed = 9\n",
      "current whole valid auc = 0.8663497410910981\n",
      "bagging whole valid auc = 0.8669299562803023\n",
      "('best_iteration', [692, 470, 791, 426, 543], 584.4)\n",
      "('train', array([0.87985541, 0.87482758, 0.88021276, 0.87509003, 0.87685705]), 0.8773685620442455)\n",
      "('valid', array([0.86327651, 0.8697263 , 0.86667046, 0.86580241, 0.8666724 ]), 0.8664296153782042)\n",
      "\n",
      "##############################################\n",
      "### CV avergae result ###\n",
      "cur time = 2018/11/13 20:11:13\n",
      "train auc = 0.8778112678059208\n",
      "valid auc = 0.8665516697798573\n",
      "##############################################\n",
      "bagging whole valid auc = 0.8669299562803023\n"
     ]
    }
   ],
   "source": [
    "meta_train, meta_test = cv_lgb(train[col_fea], test[col_fea], train[col_label], 10, 5)"
   ]
  },
  {
   "cell_type": "code",
   "execution_count": 87,
   "metadata": {},
   "outputs": [],
   "source": [
    "result = pd.DataFrame({col_id:test[col_id], col_label:meta_test})[[col_id, col_label]]\n",
    "result.to_csv(path + '/result/baseline_lgb_hyperopt.csv', index = False)"
   ]
  },
  {
   "cell_type": "code",
   "execution_count": null,
   "metadata": {},
   "outputs": [],
   "source": []
  },
  {
   "cell_type": "code",
   "execution_count": null,
   "metadata": {},
   "outputs": [],
   "source": []
  },
  {
   "cell_type": "markdown",
   "metadata": {},
   "source": [
    "# single lgb"
   ]
  },
  {
   "cell_type": "code",
   "execution_count": 84,
   "metadata": {},
   "outputs": [],
   "source": [
    "# 跟bagging差不多"
   ]
  },
  {
   "cell_type": "code",
   "execution_count": 61,
   "metadata": {},
   "outputs": [
    {
     "name": "stdout",
     "output_type": "stream",
     "text": [
      "\n",
      "################################################## seed = 0\n",
      "cur time = 2018/11/13 17:49:39\n",
      "========================= seed = 0\n",
      "current whole valid auc = 0.8657359323472548\n",
      "bagging whole valid auc = 0.8657359323472548\n",
      "('best_iteration', [261, 145, 137, 237, 217], 199.4)\n",
      "('train', array([0.89780202, 0.88374393, 0.88373328, 0.89444568, 0.89145291]), 0.8902355625568568)\n",
      "('valid', array([0.8644881 , 0.86830905, 0.86391065, 0.86459549, 0.8679837 ]), 0.8658573978087439)\n",
      "\n",
      "##############################################\n",
      "### CV avergae result ###\n",
      "cur time = 2018/11/13 17:49:54\n",
      "train auc = 0.8902355625568568\n",
      "valid auc = 0.8658573978087439\n",
      "##############################################\n",
      "bagging whole valid auc = 0.8657359323472548\n"
     ]
    }
   ],
   "source": [
    "meta_train, meta_test = cv_lgb(train[col_fea], test[col_fea], train[col_label], 1, 5)"
   ]
  },
  {
   "cell_type": "code",
   "execution_count": 62,
   "metadata": {},
   "outputs": [],
   "source": [
    "result = pd.DataFrame({col_id:test[col_id], col_label:meta_test})[[col_id, col_label]]\n",
    "result.to_csv(path + '/result/baseline_lgb_single.csv', index = False)"
   ]
  },
  {
   "cell_type": "code",
   "execution_count": null,
   "metadata": {},
   "outputs": [],
   "source": []
  },
  {
   "cell_type": "code",
   "execution_count": null,
   "metadata": {},
   "outputs": [],
   "source": []
  },
  {
   "cell_type": "markdown",
   "metadata": {},
   "source": [
    "# after hypreopt"
   ]
  },
  {
   "cell_type": "code",
   "execution_count": 83,
   "metadata": {},
   "outputs": [],
   "source": [
    "# 线上结果，没什么用"
   ]
  },
  {
   "cell_type": "code",
   "execution_count": 81,
   "metadata": {},
   "outputs": [
    {
     "name": "stdout",
     "output_type": "stream",
     "text": [
      "\n",
      "################################################## seed = 0\n",
      "cur time = 2018/11/13 19:58:45\n",
      "========================= seed = 0\n",
      "current whole valid auc = 0.8667054104325682\n",
      "bagging whole valid auc = 0.8667054104325682\n",
      "('best_iteration', [651, 603, 541, 678, 505], 595.6)\n",
      "('train', array([0.87877802, 0.87714879, 0.87721292, 0.87942704, 0.87603864]), 0.8777210819505399)\n",
      "('valid', array([0.86524562, 0.8697685 , 0.86519924, 0.86524657, 0.86831575]), 0.8667551354583244)\n",
      "\n",
      "##############################################\n",
      "### CV avergae result ###\n",
      "cur time = 2018/11/13 19:59:26\n",
      "train auc = 0.8777210819505399\n",
      "valid auc = 0.8667551354583244\n",
      "##############################################\n",
      "bagging whole valid auc = 0.8667054104325682\n"
     ]
    }
   ],
   "source": [
    "# 0.8667\n",
    "meta_train, meta_test = cv_lgb(train[col_fea], test[col_fea], train[col_label], 1, 5)"
   ]
  },
  {
   "cell_type": "code",
   "execution_count": 82,
   "metadata": {},
   "outputs": [],
   "source": [
    "result = pd.DataFrame({col_id:test[col_id], col_label:meta_test})[[col_id, col_label]]\n",
    "result.to_csv(path + '/result/baseline_lgb_single_hyperopt.csv', index = False)"
   ]
  },
  {
   "cell_type": "code",
   "execution_count": null,
   "metadata": {},
   "outputs": [],
   "source": []
  },
  {
   "cell_type": "code",
   "execution_count": null,
   "metadata": {},
   "outputs": [],
   "source": []
  },
  {
   "cell_type": "markdown",
   "metadata": {},
   "source": [
    "# bagging cv lgb"
   ]
  },
  {
   "cell_type": "code",
   "execution_count": 861,
   "metadata": {},
   "outputs": [],
   "source": [
    "#################\n",
    "# StratifiedKFold, bagging\n",
    "def cv_lgb(train_feature, test_feature, train_label, n_seed, n_kfold):\n",
    "    col_fea = [col for col in train_feature.columns if col != 'auto_id']\n",
    "    train_feature = train_feature[col_fea]\n",
    "    test_feature = test_feature[col_fea]\n",
    "    \n",
    "    bagging_best_it = []\n",
    "    bagging_score_list = []\n",
    "    bagging_meta_train = np.zeros(len(train_feature))\n",
    "    bagging_meta_test = np.zeros(len(test_feature))\n",
    "\n",
    "    seed_list = range(n_seed)\n",
    "    n_seed = len(seed_list)\n",
    "    n_kfold = 5\n",
    "    for si, seed in enumerate(seed_list):\n",
    "        print('\\n################################################## seed = ' + str(seed))\n",
    "        print('cur time = ' + str(datetime.datetime.now().strftime(\"%Y/%m/%d %H:%M:%S\")))\n",
    "        best_it = []\n",
    "        score_list = []\n",
    "        meta_train = np.zeros(len(train_feature))\n",
    "        meta_test = np.zeros(len(test_feature))\n",
    "        \n",
    "        skf = StratifiedKFold(train_label, n_folds=n_kfold, shuffle=True, random_state=seed)\n",
    "        for i,(train_idx,valid_idx) in enumerate(skf):\n",
    "            #print('\\n ##FOLD: ' + str(i))\n",
    "            #print(len(train_idx), len(valid_idx))\n",
    "            #print('cur time = ' + str(datetime.datetime.now().strftime(\"%Y/%m/%d %H:%M:%S\")))\n",
    "\n",
    "            ###########################\n",
    "            if type(train_feature) == pd.DataFrame:\n",
    "                X_train, y_train = train_feature.iloc[train_idx], train_label.iloc[train_idx]\n",
    "                X_valid, y_valid = train_feature.iloc[valid_idx], train_label.iloc[valid_idx]\n",
    "                X_test = test_feature\n",
    "            elif type(train_feature) == np.ndarray:\n",
    "                X_train, y_train = train_feature[train_idx], train_label[train_idx]\n",
    "                X_valid, y_valid = train_feature[valid_idx], train_label[valid_idx]\n",
    "                X_test = test_feature\n",
    "            else:\n",
    "                print('type error')\n",
    "            ###########################\n",
    "\n",
    "            dtrain = lgb.Dataset(X_train, y_train) \n",
    "            dvalid = lgb.Dataset(X_valid, y_valid, reference = dtrain)   \n",
    "            params = {\n",
    "                'task':'train', \n",
    "                'objective': 'binary',\n",
    "                'metric': 'auc', \n",
    "\n",
    "                'boosting_type':'gbdt',\n",
    "                'num_leaves': 31,\n",
    "                'learning_rate': 0.05,\n",
    "                'feature_fraction': 0.85,\n",
    "                'subsample':0.85,\n",
    "                'num_threads': 15,\n",
    "                'seed': seed,\n",
    "                'max_bin':127,\n",
    "    #             'reg_alpha': 0.1,\n",
    "    #             'reg_lambda': 0.1\n",
    "            }   \n",
    "            \n",
    "#             # search by hyperopt\n",
    "#             params = {\n",
    "#                 'task':'train', \n",
    "#                 'objective': 'binary',\n",
    "#                 'metric': 'auc', \n",
    "#                 'seed': seed,\n",
    "                \n",
    "#                 'bagging_fraction': 0.6000000000000001,\n",
    "#                 'bagging_freq': 11,\n",
    "#                 'feature_fraction': 0.6000000000000001,\n",
    "#                 'learning_rate': 0.01988104996565911,\n",
    "#                 'max_depth': -1,\n",
    "#                 'min_child_weight': 2.5120929578920372,\n",
    "#                 'num_leaves': 130,\n",
    "#                 'reg_alpha': 12.965963834103677,\n",
    "#                 'reg_lambda': 11.05028207412947\n",
    "#             }\n",
    "\n",
    "            # use 3th feature\n",
    "            params = {\n",
    "                'task':'train', \n",
    "                'objective': 'binary',\n",
    "                'metric': 'auc', \n",
    "                'seed': seed,\n",
    "                'n_jobs' : 15,\n",
    "                \n",
    "                'bagging_fraction': 0.7000000000000001,\n",
    "                'bagging_freq': 11,\n",
    "                'feature_fraction': 0.8,\n",
    "                'learning_rate': 0.04349612990923269,\n",
    "                'max_depth': -1,\n",
    "                'min_child_weight': 0.5575853047609016,\n",
    "                'num_leaves': 21,\n",
    "                'reg_alpha': 29.847948107182233,\n",
    "                'reg_lambda': 10.29487867938731\n",
    "            }\n",
    "            \n",
    "            params['n_jobs'] = 31\n",
    "            model = lgb.train(params, \n",
    "                              dtrain, \n",
    "                              num_boost_round=3000,\n",
    "                              valid_sets=[dtrain,dvalid],\n",
    "                              verbose_eval=0, \n",
    "                              early_stopping_rounds=100)  \n",
    "\n",
    "            best_it.append(model.best_iteration)\n",
    "            score_list.append(model.best_score)\n",
    "            \n",
    "            pred_valid = model.predict(X_valid, model.best_iteration)\n",
    "            pred_test = model.predict(X_test, model.best_iteration)\n",
    "            meta_train[valid_idx] += pred_valid\n",
    "            meta_test += pred_test\n",
    "            gc.collect()\n",
    "            #print('cur time = ' + str(datetime.datetime.now().strftime(\"%Y/%m/%d %H:%M:%S\")))\n",
    "        \n",
    "        gc.collect()\n",
    "        bagging_best_it += best_it\n",
    "        bagging_score_list += score_list\n",
    "        bagging_meta_train += meta_train\n",
    "        bagging_meta_test += (meta_test / n_kfold)\n",
    "        \n",
    "        print('========================= seed = ' + str(seed))\n",
    "        print(\"current whole valid auc = \" + str(roc_auc_score(train_label, meta_train)))\n",
    "        print(\"bagging whole valid auc = \" + str(roc_auc_score(train_label, bagging_meta_train / (1.0 * (si + 1)))))\n",
    "        print('best_iteration',best_it, np.mean(best_it))\n",
    "        train_auc = np.array([i['training']['auc'] for i in score_list])\n",
    "        valid_auc = np.array([i['valid_1']['auc'] for i in score_list])\n",
    "        print('train', train_auc, np.mean(train_auc))\n",
    "        print('valid', valid_auc, np.mean(valid_auc))\n",
    "    \n",
    "    \n",
    "    # really bagging\n",
    "    bagging_meta_train /= (1.0 * n_seed)\n",
    "    bagging_meta_test /= (1.0 * n_seed)\n",
    "    \n",
    "    # average\n",
    "    train_auc = np.array([i['training']['auc'] for i in bagging_score_list])\n",
    "    valid_auc = np.array([i['valid_1']['auc'] for i in bagging_score_list])\n",
    "    print('\\n##############################################')\n",
    "    print('### CV avergae result ###')\n",
    "    print('cur time = ' + str(datetime.datetime.now().strftime(\"%Y/%m/%d %H:%M:%S\")))\n",
    "    print('train auc = ' + str(train_auc.mean()))\n",
    "    print('valid auc = ' + str(valid_auc.mean()))\n",
    "    print('##############################################')\n",
    "    print(\"bagging whole valid auc = \" + str(roc_auc_score(train_label, bagging_meta_train / (1.0 * (si + 1)))))\n",
    "   \n",
    "    gc.collect()\n",
    "    return bagging_meta_train, bagging_meta_test\n",
    "    \n"
   ]
  },
  {
   "cell_type": "code",
   "execution_count": null,
   "metadata": {},
   "outputs": [],
   "source": []
  },
  {
   "cell_type": "code",
   "execution_count": 881,
   "metadata": {},
   "outputs": [],
   "source": [
    "############################## lgb ##############################\n",
    "def train_lgb(X_train, y_train, X_valid, y_valid):\n",
    "    dtrain = lgb.Dataset(X_train, label = y_train)\n",
    "    dvalid = lgb.Dataset(X_valid, label = y_valid)\n",
    "\n",
    "    params = {\n",
    "        'task':'train', \n",
    "        'objective': 'binary',\n",
    "        'metric': 'auc', \n",
    "\n",
    "        'boosting_type':'gbdt',\n",
    "        'num_leaves': 31,\n",
    "        'learning_rate': 0.05,\n",
    "        'feature_fraction': 0.85,\n",
    "        'subsample':0.85,\n",
    "        'num_threads': 15,\n",
    "        'seed': 1,\n",
    "        'max_bin':127,\n",
    "        #'reg_alpha': 0.1,\n",
    "        #'reg_lambda': 0.1\n",
    "    }   \n",
    "    \n",
    "                # search by hyperopt\n",
    "    params = {\n",
    "        'task':'train', \n",
    "        'objective': 'binary',\n",
    "        'metric': 'auc', \n",
    "        'seed': 1,\n",
    "\n",
    "        'bagging_fraction': 0.6000000000000001,\n",
    "        'bagging_freq': 11,\n",
    "        'feature_fraction': 0.6000000000000001,\n",
    "        'learning_rate': 0.01988104996565911,\n",
    "        'max_depth': -1,\n",
    "        'min_child_weight': 2.5120929578920372,\n",
    "        'num_leaves': 130,\n",
    "        'reg_alpha': 12.965963834103677,\n",
    "        'reg_lambda': 11.05028207412947,\n",
    "        'is_unbalance': True\n",
    "    }\n",
    "    model = lgb.train(params, dtrain, 3000, [dtrain, dvalid],\n",
    "                early_stopping_rounds=100, verbose_eval = 0)\n",
    "    score_train = roc_auc_score(y_train, model.predict(X_train))\n",
    "    score_valid = roc_auc_score(y_valid, model.predict(X_valid))\n",
    "    return model, score_train, score_valid\n",
    "\n",
    "def predict_lgb(model, X_test):\n",
    "    y_test_pred = model.predict(X_test)\n",
    "    return y_test_pred\n",
    "    \n",
    "    \n",
    "############################## rf ##############################\n",
    "def train_rf(X_train, y_train, X_valid, y_valid):\n",
    "    model = RandomForestClassifier()\n",
    "#     params = {'bootstrap': True,\n",
    "#         'criterion': 'gini',\n",
    "#         'max_depth': 12,\n",
    "#         'max_features': 'auto',\n",
    "#         'max_leaf_nodes': None,\n",
    "#         'min_impurity_decrease': 0.0,\n",
    "#         'min_impurity_split': None,\n",
    "#         'min_samples_leaf': 10,\n",
    "#         'min_samples_split': 2,\n",
    "#         'min_weight_fraction_leaf': 0.0,\n",
    "#         'n_estimators': 1000,\n",
    "#         #'n_jobs': -1,\n",
    "#         'n_jobs': 15,\n",
    "#         'oob_score': False,\n",
    "#         'random_state': 42,\n",
    "#         'verbose': 0,\n",
    "#         'warm_start': False,\n",
    "#         #'class_weight':{0:13, 1:1}\n",
    "#     }\n",
    "    params = {\n",
    "        'n_estimators': 1155,\n",
    "        'max_depth': 14,\n",
    "        'class_weight': {0: 50, 1: 50},\n",
    "        'n_jobs': 31\n",
    "    }\n",
    "    model.set_params(**params)\n",
    "    model.fit(X_train, y_train)\n",
    "    score_train = roc_auc_score(y_train, model.predict_proba(X_train)[:,1])\n",
    "    score_valid = roc_auc_score(y_valid, model.predict_proba(X_valid)[:,1])\n",
    "    return model, score_train, score_valid\n",
    "\n",
    "def predict_rf(model, X_test):\n",
    "    y_test_pred = model.predict_proba(X_test)[:,1]\n",
    "    return y_test_pred    \n",
    "\n",
    "############################## erf ##############################\n",
    "def train_erf(X_train, y_train, X_valid, y_valid):\n",
    "    model = ExtraTreesClassifier()\n",
    "    params = {\n",
    "        'n_estimators':1000,\n",
    "        'max_depth':12,\n",
    "        'min_samples_split':2,\n",
    "        'random_state':1,\n",
    "        'n_jobs': 15\n",
    "    }\n",
    "    model.set_params(**params)\n",
    "    model.fit(X_train, y_train)\n",
    "    score_train = roc_auc_score(y_train, model.predict_proba(X_train)[:,1])\n",
    "    score_valid = roc_auc_score(y_valid, model.predict_proba(X_valid)[:,1])\n",
    "    return model, score_train, score_valid\n",
    "\n",
    "def predict_erf(model, X_test):\n",
    "    y_test_pred = model.predict_proba(X_test)[:,1]\n",
    "    return y_test_pred    \n",
    "\n",
    "\n",
    "    \n",
    "\n",
    "    \n",
    "############################## cv ##############################\n",
    "def simple_cv(model_name, X, y, X_test, k = 5):\n",
    "    print('######################################################## begin')\n",
    "    print('####### cur time = ' + str(datetime.datetime.now().strftime(\"%Y/%m/%d %H:%M:%S\")))\n",
    "      \n",
    "    model_list = [] \n",
    "    socre_train_list = []\n",
    "    score_valid_list = []\n",
    "    y_test_pred_list = []\n",
    "    for i in range(k):\n",
    "        X_train, X_valid, y_train, y_valid = train_test_split(X, y, test_size = 0.2, random_state = i + 1)\n",
    "\n",
    "        if model_name == 'lgb':\n",
    "            model, socre_train, score_valid = train_lgb(X_train, y_train, X_valid, y_valid) \n",
    "            y_test_pred = predict_lgb(model, X_test)\n",
    "        elif model_name == 'rf':\n",
    "            model, socre_train, score_valid = train_rf(X_train, y_train, X_valid, y_valid) \n",
    "            y_test_pred = predict_rf(model, X_test)\n",
    "        elif model_name == 'erf':\n",
    "            model, socre_train, score_valid = train_erf(X_train, y_train, X_valid, y_valid) \n",
    "            y_test_pred = predict_erf(model, X_test)\n",
    "            \n",
    "        # result\n",
    "        model_list.append(model)\n",
    "        socre_train_list.append(np.round(socre_train, 6))\n",
    "        score_valid_list.append(np.round(score_valid, 6))\n",
    "        y_test_pred_list.append(y_test_pred)\n",
    "        \n",
    "    print('train score = ', socre_train_list, np.mean(socre_train_list))\n",
    "    print('valid score = ', score_valid_list, np.mean(score_valid_list))\n",
    "    \n",
    "    print('########################################################## end')\n",
    "    print('####### cur time = ' + str(datetime.datetime.now().strftime(\"%Y/%m/%d %H:%M:%S\")))\n",
    "    return np.mean(y_test_pred_list, axis = 0)"
   ]
  },
  {
   "cell_type": "code",
   "execution_count": 193,
   "metadata": {},
   "outputs": [
    {
     "name": "stdout",
     "output_type": "stream",
     "text": [
      "######################################################## begin\n",
      "####### cur time = 2018/11/20 20:14:59\n",
      "('train score = ', [0.875227, 0.875761, 0.881381, 0.874191, 0.875393], 0.8763906)\n",
      "('valid score = ', [0.866012, 0.864783, 0.863528, 0.866049, 0.867813], 0.8656369999999999)\n",
      "########################################################## end\n",
      "####### cur time = 2018/11/20 20:15:38\n"
     ]
    }
   ],
   "source": [
    "y_test_pred = simple_cv('lgb', train[col_fea], train[col_label], test[col_fea], k = 5)"
   ]
  },
  {
   "cell_type": "code",
   "execution_count": 190,
   "metadata": {},
   "outputs": [
    {
     "name": "stdout",
     "output_type": "stream",
     "text": [
      "######################################################## begin\n",
      "####### cur time = 2018/11/20 20:12:35\n",
      "('train score = ', [0.902534, 0.901578, 0.90323, 0.902285, 0.90215], 0.9023553999999999)\n",
      "('valid score = ', [0.865705, 0.863297, 0.861969, 0.865857, 0.866118], 0.8645892)\n",
      "########################################################## end\n",
      "####### cur time = 2018/11/20 20:14:09\n"
     ]
    }
   ],
   "source": [
    "train2 = train.copy()\n",
    "train2.fillna(train2.mean(), inplace= True)\n",
    "test2 = test.copy()\n",
    "test2.fillna(test2.mean(), inplace= True)\n",
    "\n",
    "y_test_pred2 = simple_cv('rf', train2[col_fea], train2[col_label], test2[col_fea], k = 5)"
   ]
  },
  {
   "cell_type": "code",
   "execution_count": 882,
   "metadata": {},
   "outputs": [
    {
     "name": "stdout",
     "output_type": "stream",
     "text": [
      "######################################################## begin\n",
      "####### cur time = 2018/11/21 17:40:24\n",
      "('train score = ', [0.946517, 0.947355, 0.948985, 0.945383, 0.947452], 0.9471384)\n",
      "('valid score = ', [0.865034, 0.863632, 0.862303, 0.865428, 0.865814], 0.8644422)\n",
      "########################################################## end\n",
      "####### cur time = 2018/11/21 17:43:15\n"
     ]
    }
   ],
   "source": [
    "y_test_pred_rf_2 = simple_cv('rf', X2, train[col_label], X, k = 5)"
   ]
  },
  {
   "cell_type": "code",
   "execution_count": 885,
   "metadata": {},
   "outputs": [],
   "source": [
    "result = pd.DataFrame({col_id:test[col_id], col_label:y_test_pred_rf_2})\n",
    "result.to_csv(path + '/result/baseline_rf_3rd_fea_hyperopt.csv', index = False)"
   ]
  },
  {
   "cell_type": "code",
   "execution_count": null,
   "metadata": {},
   "outputs": [],
   "source": []
  },
  {
   "cell_type": "code",
   "execution_count": 191,
   "metadata": {},
   "outputs": [
    {
     "name": "stdout",
     "output_type": "stream",
     "text": [
      "######################################################## begin\n",
      "####### cur time = 2018/11/20 20:14:09\n",
      "('train score = ', [0.836728, 0.837205, 0.836805, 0.837421, 0.837133], 0.8370583999999999)\n",
      "('valid score = ', [0.830408, 0.825152, 0.827262, 0.828297, 0.826663], 0.8275564000000001)\n",
      "########################################################## end\n",
      "####### cur time = 2018/11/20 20:14:59\n"
     ]
    }
   ],
   "source": [
    "train2 = train.copy()\n",
    "train2.fillna(train2.mean(), inplace= True)\n",
    "test2 = test.copy()\n",
    "test2.fillna(test2.mean(), inplace= True)\n",
    "\n",
    "y_test_pred3 = simple_cv('erf', train2[col_fea], train2[col_label], test2[col_fea], k = 5)"
   ]
  },
  {
   "cell_type": "code",
   "execution_count": 210,
   "metadata": {},
   "outputs": [],
   "source": [
    "y_test_pred_bagging = np.mean([0.5*3*y_test_pred, 0.4*3*y_test_pred2, 0.1*3*y_test_pred3], axis = 0)"
   ]
  },
  {
   "cell_type": "code",
   "execution_count": 211,
   "metadata": {},
   "outputs": [],
   "source": [
    "result = pd.DataFrame({col_id:test[col_id], col_label:y_test_pred_bagging})"
   ]
  },
  {
   "cell_type": "code",
   "execution_count": 213,
   "metadata": {},
   "outputs": [],
   "source": [
    "result.to_csv(path + '/result_lgb_rf_erf.csv', index = False)"
   ]
  },
  {
   "cell_type": "code",
   "execution_count": null,
   "metadata": {},
   "outputs": [],
   "source": []
  },
  {
   "cell_type": "markdown",
   "metadata": {},
   "source": [
    "# Bayes Hyperparameter Opimatzation"
   ]
  },
  {
   "cell_type": "code",
   "execution_count": 75,
   "metadata": {},
   "outputs": [
    {
     "name": "stdout",
     "output_type": "stream",
     "text": [
      "######################################################## begin hyperopt_lightgbm\n",
      "####### cur time = 2018/11/13 19:52:03\n",
      "Training until validation scores don't improve for 100 rounds.\n",
      "Early stopping, best iteration is:\n",
      "[464]\tvalid_0's auc: 0.86924\n",
      "Training until validation scores don't improve for 100 rounds.\n",
      "Early stopping, best iteration is:\n",
      "[404]\tvalid_0's auc: 0.8686\n",
      "Training until validation scores don't improve for 100 rounds.\n",
      "Early stopping, best iteration is:\n",
      "[1707]\tvalid_0's auc: 0.867528\n",
      "Training until validation scores don't improve for 100 rounds.\n",
      "Early stopping, best iteration is:\n",
      "[457]\tvalid_0's auc: 0.869116\n",
      "Training until validation scores don't improve for 100 rounds.\n",
      "Early stopping, best iteration is:\n",
      "[622]\tvalid_0's auc: 0.868432\n",
      "Training until validation scores don't improve for 100 rounds.\n",
      "Early stopping, best iteration is:\n",
      "[579]\tvalid_0's auc: 0.869106\n",
      "Training until validation scores don't improve for 100 rounds.\n",
      "Early stopping, best iteration is:\n",
      "[464]\tvalid_0's auc: 0.869239\n",
      "Training until validation scores don't improve for 100 rounds.\n",
      "Early stopping, best iteration is:\n",
      "[1326]\tvalid_0's auc: 0.868762\n",
      "Training until validation scores don't improve for 100 rounds.\n",
      "Early stopping, best iteration is:\n",
      "[814]\tvalid_0's auc: 0.869305\n",
      "Training until validation scores don't improve for 100 rounds.\n",
      "Early stopping, best iteration is:\n",
      "[1336]\tvalid_0's auc: 0.867127\n",
      "Training until validation scores don't improve for 100 rounds.\n",
      "Early stopping, best iteration is:\n",
      "[735]\tvalid_0's auc: 0.868833\n",
      "Training until validation scores don't improve for 100 rounds.\n",
      "Early stopping, best iteration is:\n",
      "[721]\tvalid_0's auc: 0.867111\n",
      "Training until validation scores don't improve for 100 rounds.\n",
      "Early stopping, best iteration is:\n",
      "[1363]\tvalid_0's auc: 0.867941\n",
      "Training until validation scores don't improve for 100 rounds.\n",
      "Early stopping, best iteration is:\n",
      "[915]\tvalid_0's auc: 0.86928\n",
      "Training until validation scores don't improve for 100 rounds.\n",
      "Early stopping, best iteration is:\n",
      "[903]\tvalid_0's auc: 0.867476\n",
      "Training until validation scores don't improve for 100 rounds.\n",
      "Early stopping, best iteration is:\n",
      "[952]\tvalid_0's auc: 0.869132\n",
      "Training until validation scores don't improve for 100 rounds.\n",
      "Early stopping, best iteration is:\n",
      "[2164]\tvalid_0's auc: 0.867478\n",
      "Training until validation scores don't improve for 100 rounds.\n",
      "Early stopping, best iteration is:\n",
      "[334]\tvalid_0's auc: 0.868626\n",
      "Training until validation scores don't improve for 100 rounds.\n",
      "Early stopping, best iteration is:\n",
      "[724]\tvalid_0's auc: 0.868697\n",
      "Training until validation scores don't improve for 100 rounds.\n",
      "Early stopping, best iteration is:\n",
      "[557]\tvalid_0's auc: 0.867398\n",
      "Training until validation scores don't improve for 100 rounds.\n",
      "Early stopping, best iteration is:\n",
      "[371]\tvalid_0's auc: 0.868663\n",
      "Training until validation scores don't improve for 100 rounds.\n",
      "Early stopping, best iteration is:\n",
      "[1640]\tvalid_0's auc: 0.869357\n",
      "Training until validation scores don't improve for 100 rounds.\n",
      "Early stopping, best iteration is:\n",
      "[285]\tvalid_0's auc: 0.869118\n",
      "Training until validation scores don't improve for 100 rounds.\n",
      "Early stopping, best iteration is:\n",
      "[1273]\tvalid_0's auc: 0.869435\n",
      "Training until validation scores don't improve for 100 rounds.\n",
      "Early stopping, best iteration is:\n",
      "[894]\tvalid_0's auc: 0.869323\n",
      "Training until validation scores don't improve for 100 rounds.\n",
      "Early stopping, best iteration is:\n",
      "[885]\tvalid_0's auc: 0.869282\n",
      "Training until validation scores don't improve for 100 rounds.\n",
      "Early stopping, best iteration is:\n",
      "[1124]\tvalid_0's auc: 0.869408\n",
      "Training until validation scores don't improve for 100 rounds.\n",
      "Early stopping, best iteration is:\n",
      "[945]\tvalid_0's auc: 0.869034\n",
      "Training until validation scores don't improve for 100 rounds.\n",
      "Early stopping, best iteration is:\n",
      "[885]\tvalid_0's auc: 0.869313\n",
      "Training until validation scores don't improve for 100 rounds.\n",
      "Early stopping, best iteration is:\n",
      "[878]\tvalid_0's auc: 0.869453\n",
      "Training until validation scores don't improve for 100 rounds.\n",
      "Early stopping, best iteration is:\n",
      "[470]\tvalid_0's auc: 0.869096\n",
      "Training until validation scores don't improve for 100 rounds.\n",
      "Early stopping, best iteration is:\n",
      "[876]\tvalid_0's auc: 0.869334\n",
      "Training until validation scores don't improve for 100 rounds.\n",
      "Early stopping, best iteration is:\n",
      "[1195]\tvalid_0's auc: 0.869418\n",
      "Training until validation scores don't improve for 100 rounds.\n",
      "Early stopping, best iteration is:\n",
      "[392]\tvalid_0's auc: 0.868859\n",
      "Training until validation scores don't improve for 100 rounds.\n",
      "Early stopping, best iteration is:\n",
      "[323]\tvalid_0's auc: 0.868369\n",
      "Training until validation scores don't improve for 100 rounds.\n",
      "Early stopping, best iteration is:\n",
      "[585]\tvalid_0's auc: 0.86912\n",
      "Training until validation scores don't improve for 100 rounds.\n",
      "Early stopping, best iteration is:\n",
      "[1254]\tvalid_0's auc: 0.868129\n",
      "Training until validation scores don't improve for 100 rounds.\n",
      "Early stopping, best iteration is:\n",
      "[703]\tvalid_0's auc: 0.869604\n",
      "Training until validation scores don't improve for 100 rounds.\n",
      "Early stopping, best iteration is:\n",
      "[837]\tvalid_0's auc: 0.869423\n",
      "Training until validation scores don't improve for 100 rounds.\n",
      "Early stopping, best iteration is:\n",
      "[902]\tvalid_0's auc: 0.869326\n",
      "########################################################## end hyperopt_lightgbm\n",
      "####### cur time = 2018/11/13 19:55:01\n",
      "-0.8696 {'num_leaves': 130, 'reg_alpha': 12.965963834103677, 'bagging_freq': 11, 'learning_rate': 0.01988104996565911, 'min_child_weight': 2.5120929578920372, 'reg_lambda': 11.05028207412947, 'bagging_fraction': 0.6000000000000001, 'max_depth': -1, 'feature_fraction': 0.6000000000000001}\n"
     ]
    }
   ],
   "source": [
    "hyperparams, best, trials = hyperopt_lightgbm(train[col_fea],  train[col_label], params, config)"
   ]
  },
  {
   "cell_type": "markdown",
   "metadata": {},
   "source": [
    "# hyperopt"
   ]
  },
  {
   "cell_type": "code",
   "execution_count": 825,
   "metadata": {},
   "outputs": [],
   "source": [
    "import hyperopt\n",
    "from hyperopt import hp, tpe, STATUS_OK, space_eval, Trials\n",
    "\n",
    "config = {}\n",
    "#config['mode'] = 'regression'\n",
    "config['mode'] = 'classification'\n",
    "params = {\n",
    "        \"objective\": \"regression\" if config[\"mode\"] == \"regression\" else \"binary\",\n",
    "        \"metric\": \"rmse\" if config[\"mode\"] == \"regression\" else \"auc\",\n",
    "        \"verbosity\": -1,\n",
    "        \"seed\": 1,\n",
    "        \"n_jobs\":31\n",
    "}\n",
    "\n",
    "def merge_dict(d1, d2):\n",
    "    tmp = d1.copy()\n",
    "    tmp.update(d2)\n",
    "    return tmp\n",
    "def hyperopt_lightgbm(X, y, params, config):\n",
    "    print('######################################################## begin hyperopt_lightgbm')\n",
    "    print('####### cur time = ' + str(datetime.datetime.now().strftime(\"%Y/%m/%d %H:%M:%S\")))\n",
    "    \n",
    "    X_train, X_val, y_train, y_val = train_test_split(X, y, test_size=0.2, random_state=1)\n",
    "    train_data = lgb.Dataset(X_train, label=y_train)\n",
    "    valid_data = lgb.Dataset(X_val, label=y_val)\n",
    "\n",
    "    space = {\n",
    "        \"learning_rate\": hp.uniform(\"learning_rate\", 0.01, 0.05),\n",
    "        \"max_depth\": hp.choice(\"max_depth\", [-1, 2, 3, 4, 5, 6]),\n",
    "        \"num_leaves\": hp.choice(\"num_leaves\", np.linspace(10, 200, 50, dtype=int)),\n",
    "        \"feature_fraction\": hp.quniform(\"feature_fraction\", 0.5, 1.0, 0.1),\n",
    "        \"bagging_fraction\": hp.quniform(\"bagging_fraction\", 0.5, 1.0, 0.1),\n",
    "        \"bagging_freq\": hp.choice(\"bagging_freq\", np.linspace(0, 50, 10, dtype=int)),\n",
    "        \"reg_alpha\": hp.uniform(\"reg_alpha\", 0, 30),\n",
    "        \"reg_lambda\": hp.uniform(\"reg_lambda\", 0, 30),\n",
    "        \"min_child_weight\": hp.uniform('min_child_weight', 0.5, 10),\n",
    "    }\n",
    "\n",
    "    def objective(hyperparams):\n",
    "#         model = lgb.train({**params, **hyperparams}, train_data, 300, valid_data,\n",
    "#                           early_stopping_rounds=100, verbose_eval=1000)\n",
    "        model = lgb.train(merge_dict(params, hyperparams), train_data, 3000, valid_data,\n",
    "                          early_stopping_rounds=100, verbose_eval=-1)\n",
    "\n",
    "        score = model.best_score[\"valid_0\"][params[\"metric\"]]\n",
    "        if config['mode'] == 'classification':\n",
    "            score = -score\n",
    "\n",
    "        return {'loss': score, 'status': STATUS_OK}\n",
    "\n",
    "    trials = Trials()\n",
    "    best = hyperopt.fmin(fn=objective, space=space, trials=trials, algo=tpe.suggest, max_evals=30, verbose=1,\n",
    "                         rstate=np.random.RandomState(1))\n",
    "\n",
    "    hyperparams = space_eval(space, best)\n",
    "    print('########################################################## end hyperopt_lightgbm')\n",
    "    print('####### cur time = ' + str(datetime.datetime.now().strftime(\"%Y/%m/%d %H:%M:%S\")))\n",
    "    print(\"{:0.4f} {}\".format(trials.best_trial['result']['loss'], hyperparams))\n",
    "    return hyperparams, best, trials"
   ]
  },
  {
   "cell_type": "code",
   "execution_count": 61,
   "metadata": {},
   "outputs": [
    {
     "name": "stdout",
     "output_type": "stream",
     "text": [
      "######################################################## begin hyperopt_lightgbm\n",
      "####### cur time = 2018/11/20 17:19:23\n",
      "Training until validation scores don't improve for 100 rounds.\n",
      "Early stopping, best iteration is:\n",
      "[1]\tvalid_0's auc: 0.696151\n",
      "Training until validation scores don't improve for 100 rounds.\n",
      "Early stopping, best iteration is:\n",
      "[1]\tvalid_0's auc: 0.696151\n",
      "Training until validation scores don't improve for 100 rounds.\n",
      "Early stopping, best iteration is:\n",
      "[1]\tvalid_0's auc: 0.696151\n",
      "Training until validation scores don't improve for 100 rounds.\n",
      "Early stopping, best iteration is:\n",
      "[1]\tvalid_0's auc: 0.5\n",
      "Training until validation scores don't improve for 100 rounds.\n",
      "Early stopping, best iteration is:\n",
      "[1]\tvalid_0's auc: 0.696151\n",
      "Training until validation scores don't improve for 100 rounds.\n",
      "Early stopping, best iteration is:\n",
      "[1]\tvalid_0's auc: 0.696151\n",
      "Training until validation scores don't improve for 100 rounds.\n",
      "Early stopping, best iteration is:\n",
      "[1]\tvalid_0's auc: 0.5\n",
      "Training until validation scores don't improve for 100 rounds.\n",
      "Early stopping, best iteration is:\n",
      "[174]\tvalid_0's auc: 0.849371\n",
      "Training until validation scores don't improve for 100 rounds.\n",
      "Early stopping, best iteration is:\n",
      "[1]\tvalid_0's auc: 0.5\n",
      "Training until validation scores don't improve for 100 rounds.\n",
      "Early stopping, best iteration is:\n",
      "[1]\tvalid_0's auc: 0.696151\n",
      "########################################################## end hyperopt_lightgbm\n",
      "####### cur time = 2018/11/20 17:19:23\n",
      "-0.8494 {'num_leaves': 157, 'reg_alpha': 2.901571194558792, 'bagging_freq': 16, 'learning_rate': 0.01878766783667483, 'min_child_weight': 5.838225890702585, 'reg_lambda': 19.49153784611096, 'bagging_fraction': 0.9, 'max_depth': 3, 'feature_fraction': 0.9}\n"
     ]
    }
   ],
   "source": [
    "hyperparams, best, trials = hyperopt_lightgbm(train[col_fea][:1000],  train[col_label][:1000], params, config)"
   ]
  },
  {
   "cell_type": "code",
   "execution_count": 86,
   "metadata": {},
   "outputs": [],
   "source": [
    "# trials_df = pd.DataFrame(trials.trials)\n",
    "# trials_df['auc'] = trials_df['result'].apply(lambda x: x['loss'])\n",
    "# trials_df.sort_values(by = 'auc', inplace = True)"
   ]
  },
  {
   "cell_type": "markdown",
   "metadata": {},
   "source": [
    "# after add feature"
   ]
  },
  {
   "cell_type": "code",
   "execution_count": 826,
   "metadata": {
    "scrolled": true
   },
   "outputs": [
    {
     "name": "stdout",
     "output_type": "stream",
     "text": [
      "######################################################## begin hyperopt_lightgbm\n",
      "####### cur time = 2018/11/21 16:40:12\n",
      "Training until validation scores don't improve for 100 rounds.\n",
      "Early stopping, best iteration is:\n",
      "[348]\tvalid_0's auc: 0.86711\n",
      "Training until validation scores don't improve for 100 rounds.\n",
      "Early stopping, best iteration is:\n",
      "[559]\tvalid_0's auc: 0.865842\n",
      "Training until validation scores don't improve for 100 rounds.\n",
      "Early stopping, best iteration is:\n",
      "[1280]\tvalid_0's auc: 0.866897\n",
      "Training until validation scores don't improve for 100 rounds.\n",
      "Early stopping, best iteration is:\n",
      "[566]\tvalid_0's auc: 0.86635\n",
      "Training until validation scores don't improve for 100 rounds.\n",
      "Early stopping, best iteration is:\n",
      "[815]\tvalid_0's auc: 0.867114\n",
      "Training until validation scores don't improve for 100 rounds.\n",
      "Early stopping, best iteration is:\n",
      "[553]\tvalid_0's auc: 0.867455\n",
      "Training until validation scores don't improve for 100 rounds.\n",
      "Early stopping, best iteration is:\n",
      "[377]\tvalid_0's auc: 0.867197\n",
      "Training until validation scores don't improve for 100 rounds.\n",
      "Early stopping, best iteration is:\n",
      "[1346]\tvalid_0's auc: 0.86697\n",
      "Training until validation scores don't improve for 100 rounds.\n",
      "Early stopping, best iteration is:\n",
      "[525]\tvalid_0's auc: 0.867434\n",
      "Training until validation scores don't improve for 100 rounds.\n",
      "Early stopping, best iteration is:\n",
      "[2002]\tvalid_0's auc: 0.866737\n",
      "Training until validation scores don't improve for 100 rounds.\n",
      "Early stopping, best iteration is:\n",
      "[572]\tvalid_0's auc: 0.867168\n",
      "Training until validation scores don't improve for 100 rounds.\n",
      "Early stopping, best iteration is:\n",
      "[1328]\tvalid_0's auc: 0.86676\n",
      "Training until validation scores don't improve for 100 rounds.\n",
      "Early stopping, best iteration is:\n",
      "[1785]\tvalid_0's auc: 0.866946\n",
      "Training until validation scores don't improve for 100 rounds.\n",
      "Early stopping, best iteration is:\n",
      "[1094]\tvalid_0's auc: 0.867133\n",
      "Training until validation scores don't improve for 100 rounds.\n",
      "Early stopping, best iteration is:\n",
      "[1312]\tvalid_0's auc: 0.867338\n",
      "Training until validation scores don't improve for 100 rounds.\n",
      "Early stopping, best iteration is:\n",
      "[524]\tvalid_0's auc: 0.866732\n",
      "Training until validation scores don't improve for 100 rounds.\n",
      "Early stopping, best iteration is:\n",
      "[1835]\tvalid_0's auc: 0.866518\n",
      "Training until validation scores don't improve for 100 rounds.\n",
      "Early stopping, best iteration is:\n",
      "[315]\tvalid_0's auc: 0.866651\n",
      "Training until validation scores don't improve for 100 rounds.\n",
      "Early stopping, best iteration is:\n",
      "[945]\tvalid_0's auc: 0.867108\n",
      "Training until validation scores don't improve for 100 rounds.\n",
      "Early stopping, best iteration is:\n",
      "[485]\tvalid_0's auc: 0.866078\n",
      "Training until validation scores don't improve for 100 rounds.\n",
      "Early stopping, best iteration is:\n",
      "[373]\tvalid_0's auc: 0.867525\n",
      "Training until validation scores don't improve for 100 rounds.\n",
      "Early stopping, best iteration is:\n",
      "[213]\tvalid_0's auc: 0.866223\n",
      "Training until validation scores don't improve for 100 rounds.\n",
      "Early stopping, best iteration is:\n",
      "[391]\tvalid_0's auc: 0.867093\n",
      "Training until validation scores don't improve for 100 rounds.\n",
      "Early stopping, best iteration is:\n",
      "[385]\tvalid_0's auc: 0.867145\n",
      "Training until validation scores don't improve for 100 rounds.\n",
      "Early stopping, best iteration is:\n",
      "[347]\tvalid_0's auc: 0.866781\n",
      "Training until validation scores don't improve for 100 rounds.\n",
      "Early stopping, best iteration is:\n",
      "[542]\tvalid_0's auc: 0.867268\n",
      "Training until validation scores don't improve for 100 rounds.\n",
      "Early stopping, best iteration is:\n",
      "[352]\tvalid_0's auc: 0.867396\n",
      "Training until validation scores don't improve for 100 rounds.\n",
      "Early stopping, best iteration is:\n",
      "[325]\tvalid_0's auc: 0.866862\n",
      "Training until validation scores don't improve for 100 rounds.\n",
      "Early stopping, best iteration is:\n",
      "[281]\tvalid_0's auc: 0.867105\n",
      "Training until validation scores don't improve for 100 rounds.\n",
      "Early stopping, best iteration is:\n",
      "[545]\tvalid_0's auc: 0.867397\n",
      "########################################################## end hyperopt_lightgbm\n",
      "####### cur time = 2018/11/21 16:42:48\n",
      "-0.8675 {'num_leaves': 21, 'reg_alpha': 29.847948107182233, 'bagging_freq': 11, 'learning_rate': 0.04349612990923269, 'min_child_weight': 0.5575853047609016, 'reg_lambda': 10.29487867938731, 'bagging_fraction': 0.7000000000000001, 'max_depth': -1, 'feature_fraction': 0.8}\n"
     ]
    }
   ],
   "source": [
    "hyperparams, best, trials = hyperopt_lightgbm(X,  train[col_label], params, config)"
   ]
  },
  {
   "cell_type": "code",
   "execution_count": 827,
   "metadata": {},
   "outputs": [],
   "source": [
    "trials_df = pd.DataFrame(trials.trials)\n",
    "trials_df['auc'] = trials_df['result'].apply(lambda x: x['loss'])\n",
    "trials_df.sort_values(by = 'auc', inplace = True)"
   ]
  },
  {
   "cell_type": "code",
   "execution_count": 829,
   "metadata": {},
   "outputs": [
    {
     "data": {
      "text/plain": [
       "{'bagging_fraction': 0.7000000000000001,\n",
       " 'bagging_freq': 11,\n",
       " 'feature_fraction': 0.8,\n",
       " 'learning_rate': 0.04349612990923269,\n",
       " 'max_depth': -1,\n",
       " 'min_child_weight': 0.5575853047609016,\n",
       " 'num_leaves': 21,\n",
       " 'reg_alpha': 29.847948107182233,\n",
       " 'reg_lambda': 10.29487867938731}"
      ]
     },
     "execution_count": 829,
     "metadata": {},
     "output_type": "execute_result"
    }
   ],
   "source": [
    "hyperparams"
   ]
  },
  {
   "cell_type": "code",
   "execution_count": null,
   "metadata": {},
   "outputs": [],
   "source": []
  },
  {
   "cell_type": "markdown",
   "metadata": {},
   "source": [
    "# hyperopt rf"
   ]
  },
  {
   "cell_type": "code",
   "execution_count": 869,
   "metadata": {},
   "outputs": [],
   "source": [
    "import hyperopt\n",
    "from hyperopt import hp, tpe, STATUS_OK, space_eval, Trials\n",
    "\n",
    "config = {}\n",
    "#config['mode'] = 'regression'\n",
    "config['mode'] = 'classification'\n",
    "params = {\n",
    "        'bootstrap': True,\n",
    "        'criterion': 'gini',\n",
    "        'verbose': 0,\n",
    "        'warm_start': False,\n",
    "        'random_state': 42,\n",
    "        'n_jobs': 31,\n",
    "}\n",
    "\n",
    "\n",
    "def merge_dict(d1, d2):\n",
    "    tmp = d1.copy()\n",
    "    tmp.update(d2)\n",
    "    return tmp\n",
    "\n",
    "def hyperopt_rf(X, y, params, config):\n",
    "    print('######################################################## begin hyperopt_lightgbm')\n",
    "    print('####### cur time = ' + str(datetime.datetime.now().strftime(\"%Y/%m/%d %H:%M:%S\")))\n",
    "    \n",
    "    X_train, X_valid, y_train, y_valid = train_test_split(X, y, test_size=0.2, random_state=1)\n",
    "\n",
    "    space = {\n",
    "#         \"learning_rate\": hp.uniform(\"learning_rate\", 0.01, 0.05),\n",
    "#         \"max_depth\": hp.choice(\"max_depth\", [-1, 2, 3, 4, 5, 6]),\n",
    "#         \"num_leaves\": hp.choice(\"num_leaves\", np.linspace(10, 200, 50, dtype=int)),\n",
    "#         \"feature_fraction\": hp.quniform(\"feature_fraction\", 0.5, 1.0, 0.1),\n",
    "#         \"bagging_fraction\": hp.quniform(\"bagging_fraction\", 0.5, 1.0, 0.1),\n",
    "#         \"bagging_freq\": hp.choice(\"bagging_freq\", np.linspace(0, 50, 10, dtype=int)),\n",
    "#         \"reg_alpha\": hp.uniform(\"reg_alpha\", 0, 30),\n",
    "#         \"reg_lambda\": hp.uniform(\"reg_lambda\", 0, 30),\n",
    "#         \"min_child_weight\": hp.uniform('min_child_weight', 0.5, 10),\n",
    "        \"max_depth\": hp.choice(\"max_depth\", [4, 6, 8, 10, 12,14,16,18]),\n",
    "        'n_estimators': hp.choice(\"n_estimators\", np.linspace(100, 2000, 10, dtype=int)),\n",
    "        'class_weight': hp.choice(\"class_weight\", [{0:50, 1:50}, {0:90, 1:10}, {0:13, 1:1}, {0:75, 1:25}])\n",
    "    }\n",
    "    \n",
    "\n",
    "    def objective(hyperparams):    \n",
    "        model = RandomForestClassifier()\n",
    "        model.set_params(**merge_dict(params, hyperparams))\n",
    "        model.fit(X_train, y_train)\n",
    "        score = roc_auc_score(y_valid, model.predict_proba(X_valid)[:,1])\n",
    "        if config['mode'] == 'classification':\n",
    "            score = -score\n",
    "        return {'loss': score, 'status': STATUS_OK}\n",
    "\n",
    "    trials = Trials()\n",
    "    best = hyperopt.fmin(fn=objective, space=space, trials=trials, algo=tpe.suggest, max_evals=30, verbose=1,\n",
    "                         rstate=np.random.RandomState(1))\n",
    "\n",
    "    hyperparams = space_eval(space, best)\n",
    "    print('########################################################## end hyperopt_lightgbm')\n",
    "    print('####### cur time = ' + str(datetime.datetime.now().strftime(\"%Y/%m/%d %H:%M:%S\")))\n",
    "    print(\"{:0.4f} {}\".format(trials.best_trial['result']['loss'], hyperparams))\n",
    "    return hyperparams, best, trials"
   ]
  },
  {
   "cell_type": "code",
   "execution_count": 121,
   "metadata": {},
   "outputs": [
    {
     "name": "stdout",
     "output_type": "stream",
     "text": [
      "######################################################## begin hyperopt_lightgbm\n",
      "####### cur time = 2018/11/20 17:59:38\n",
      "########################################################## end hyperopt_lightgbm\n",
      "####### cur time = 2018/11/20 18:04:09\n",
      "-0.8650 {'n_estimators': 800, 'max_depth': 12}\n"
     ]
    }
   ],
   "source": [
    "train2 = train.copy()\n",
    "train2.fillna(train2.mean(), inplace= True)\n",
    "hyperparams, best, trials = hyperopt_rf(train2[col_fea],  train2[col_label], params, config)"
   ]
  },
  {
   "cell_type": "code",
   "execution_count": 123,
   "metadata": {},
   "outputs": [],
   "source": [
    "trials_df = pd.DataFrame(trials.trials)\n",
    "trials_df['auc'] = trials_df['result'].apply(lambda x: x['loss'])\n",
    "trials_df = trials_df.sort_values(by = 'auc').reset_index(drop = True)"
   ]
  },
  {
   "cell_type": "code",
   "execution_count": null,
   "metadata": {},
   "outputs": [],
   "source": []
  },
  {
   "cell_type": "markdown",
   "metadata": {},
   "source": [
    "# after add feature"
   ]
  },
  {
   "cell_type": "code",
   "execution_count": 870,
   "metadata": {},
   "outputs": [
    {
     "name": "stdout",
     "output_type": "stream",
     "text": [
      "######################################################## begin hyperopt_lightgbm\n",
      "####### cur time = 2018/11/21 17:16:17\n",
      "########################################################## end hyperopt_lightgbm\n",
      "####### cur time = 2018/11/21 17:32:27\n",
      "-0.8658 {'n_estimators': 1155, 'max_depth': 14, 'class_weight': {0: 50, 1: 50}}\n"
     ]
    }
   ],
   "source": [
    "hyperparams, best, trials = hyperopt_rf(X2,  train[col_label], params, config)"
   ]
  },
  {
   "cell_type": "code",
   "execution_count": null,
   "metadata": {},
   "outputs": [],
   "source": []
  },
  {
   "cell_type": "code",
   "execution_count": null,
   "metadata": {},
   "outputs": [],
   "source": []
  },
  {
   "cell_type": "code",
   "execution_count": null,
   "metadata": {},
   "outputs": [],
   "source": []
  },
  {
   "cell_type": "code",
   "execution_count": null,
   "metadata": {},
   "outputs": [],
   "source": []
  }
 ],
 "metadata": {
  "kernelspec": {
   "display_name": "Python 2",
   "language": "python",
   "name": "python2"
  },
  "language_info": {
   "codemirror_mode": {
    "name": "ipython",
    "version": 2
   },
   "file_extension": ".py",
   "mimetype": "text/x-python",
   "name": "python",
   "nbconvert_exporter": "python",
   "pygments_lexer": "ipython2",
   "version": "2.7.15"
  }
 },
 "nbformat": 4,
 "nbformat_minor": 2
}
